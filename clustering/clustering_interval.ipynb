{
 "cells": [
  {
   "cell_type": "code",
   "execution_count": 6,
   "metadata": {},
   "outputs": [],
   "source": [
    "import pandas as pd\n",
    "import numpy as np\n",
    "from tqdm import tqdm\n",
    "from sklearn.cluster import AgglomerativeClustering"
   ]
  },
  {
   "cell_type": "code",
   "execution_count": 7,
   "metadata": {},
   "outputs": [],
   "source": [
    "data_set = 'London_2013'\n",
    "attr = pd.read_csv('../data/' + data_set + '_attr_final.csv')"
   ]
  },
  {
   "cell_type": "code",
   "execution_count": 8,
   "metadata": {},
   "outputs": [],
   "source": [
    "# K-means clustering"
   ]
  },
  {
   "cell_type": "code",
   "execution_count": 10,
   "metadata": {
    "scrolled": true
   },
   "outputs": [
    {
     "name": "stderr",
     "output_type": "stream",
     "text": [
      "100%|██████████| 12/12 [00:13<00:00,  1.09s/it]\n",
      "100%|██████████| 12/12 [00:12<00:00,  1.03s/it]\n",
      "100%|██████████| 12/12 [00:12<00:00,  1.01s/it]\n",
      "100%|██████████| 12/12 [00:13<00:00,  1.20s/it]\n",
      "100%|██████████| 12/12 [00:12<00:00,  1.04s/it]\n",
      "100%|██████████| 12/12 [00:12<00:00,  1.04s/it]\n",
      "100%|██████████| 12/12 [00:12<00:00,  1.07s/it]\n",
      "100%|██████████| 12/12 [00:12<00:00,  1.04s/it]\n",
      "100%|██████████| 12/12 [00:12<00:00,  1.03s/it]\n",
      "100%|██████████| 12/12 [00:12<00:00,  1.02s/it]\n"
     ]
    }
   ],
   "source": [
    "# Hierarchical clustering\n",
    "\n",
    "dist = 'cityblock'\n",
    "for num_clusters in range(1, 11):\n",
    "    labels = []\n",
    "    for month in tqdm(range(12)):\n",
    "\n",
    "        mat = pd.read_csv('../result/' + data_set + '/cluster/interval/hierarchical/' + dist + '/mat_month_' + str(month+1) + '.csv', header=None).values\n",
    "        hierarchical = AgglomerativeClustering(n_clusters=num_clusters, affinity='precomputed', memory=None, connectivity=None, \n",
    "                                               compute_full_tree='auto', linkage='average', pooling_func='deprecated', distance_threshold=None).fit(mat)\n",
    "        labels.append(hierarchical.labels_)\n",
    "\n",
    "    pd.DataFrame(np.array(labels).T).to_csv('../result/' + data_set + '/cluster/interval/hierarchical/' + dist + '/n_clusters_' + str(num_clusters) + '.csv', header=None, index=False)"
   ]
  },
  {
   "cell_type": "code",
   "execution_count": null,
   "metadata": {},
   "outputs": [],
   "source": []
  }
 ],
 "metadata": {
  "kernelspec": {
   "display_name": "Python 3",
   "language": "python",
   "name": "python3"
  },
  "language_info": {
   "codemirror_mode": {
    "name": "ipython",
    "version": 3
   },
   "file_extension": ".py",
   "mimetype": "text/x-python",
   "name": "python",
   "nbconvert_exporter": "python",
   "pygments_lexer": "ipython3",
   "version": "3.7.3"
  }
 },
 "nbformat": 4,
 "nbformat_minor": 2
}
