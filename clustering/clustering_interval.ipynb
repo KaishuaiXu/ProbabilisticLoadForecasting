{
 "cells": [
  {
   "cell_type": "code",
   "execution_count": 4,
   "metadata": {},
   "outputs": [],
   "source": [
    "# Result structure:\n",
    "# |--result\n",
    "#    |--[*DataSet*](Irish_2010&London_2013)\n",
    "#    |  |--clustering\n",
    "#    |     |--interval\n",
    "#    |        |--hierarchical\n",
    "#    |        |  |--euclidean\n",
    "#    |        |  |--cityblock\n",
    "#    |        |  |--hausdorff\n",
    "#    |        |--kmeans\n"
   ]
  },
  {
   "cell_type": "code",
   "execution_count": null,
   "metadata": {},
   "outputs": [],
   "source": [
    "import pandas as pd\n",
    "import numpy as np\n",
    "from tqdm import tqdm\n",
    "from sklearn.cluster import AgglomerativeClustering\n",
    "from sklearn.cluster import KMeans"
   ]
  },
  {
   "cell_type": "code",
   "execution_count": 5,
   "metadata": {},
   "outputs": [],
   "source": [
    "data_set = 'Irish_2010'\n",
    "attr = pd.read_csv('../data/' + data_set + '_attr_final.csv')"
   ]
  },
  {
   "cell_type": "code",
   "execution_count": 3,
   "metadata": {},
   "outputs": [
    {
     "name": "stderr",
     "output_type": "stream",
     "text": [
      "100%|██████████| 12/12 [00:23<00:00,  1.90s/it]\n",
      "100%|██████████| 12/12 [00:24<00:00,  2.02s/it]\n",
      "100%|██████████| 12/12 [00:24<00:00,  1.99s/it]\n",
      "100%|██████████| 12/12 [00:23<00:00,  1.92s/it]\n",
      "100%|██████████| 12/12 [00:26<00:00,  2.26s/it]\n",
      "100%|██████████| 12/12 [00:25<00:00,  2.07s/it]\n",
      "100%|██████████| 12/12 [00:27<00:00,  2.27s/it]\n",
      "100%|██████████| 12/12 [00:26<00:00,  2.16s/it]\n",
      "100%|██████████| 12/12 [00:26<00:00,  2.14s/it]\n",
      "100%|██████████| 12/12 [00:24<00:00,  2.03s/it]\n"
     ]
    }
   ],
   "source": [
    "# K-means clustering\n",
    "\n",
    "for num_clusters in range(1, 11):\n",
    "    labels = []\n",
    "    for month in tqdm(range(12)):\n",
    "\n",
    "        X = []\n",
    "        for i in range(len(attr)):\n",
    "            id = attr['ID'][i]\n",
    "            df = pd.read_csv('../data/' + data_set + '_profiles_interval/' + str(id) + '.csv', header = None).values\n",
    "            X.append(np.hstack((df[month*2], df[month*2+1])))\n",
    "        X = np.array(X)\n",
    "        X = (X - np.min(X))/(np.max(X) - np.min(X))\n",
    "\n",
    "        kmeans = KMeans(n_clusters=num_clusters, init='k-means++', n_init=10, max_iter=300, tol=0.0001, precompute_distances=True, \n",
    "                        verbose=0, random_state=None, copy_x=True, n_jobs=None, algorithm='full').fit(X)\n",
    "        labels.append(kmeans.labels_)\n",
    "\n",
    "    pd.DataFrame(np.array(labels).T).to_csv('../result/' + data_set + '/clustering/interval/kmeans/n_clusters_' + str(num_clusters) + '.csv', header=None, index=False)"
   ]
  },
  {
   "cell_type": "code",
   "execution_count": 24,
   "metadata": {
    "scrolled": true
   },
   "outputs": [
    {
     "name": "stderr",
     "output_type": "stream",
     "text": [
      "100%|██████████| 12/12 [00:13<00:00,  1.07s/it]\n",
      "100%|██████████| 12/12 [00:12<00:00,  1.05s/it]\n",
      "100%|██████████| 12/12 [00:12<00:00,  1.06s/it]\n",
      "100%|██████████| 12/12 [00:12<00:00,  1.04s/it]\n",
      "100%|██████████| 12/12 [00:12<00:00,  1.08s/it]\n",
      "100%|██████████| 12/12 [00:13<00:00,  1.10s/it]\n",
      "100%|██████████| 12/12 [00:12<00:00,  1.11s/it]\n",
      "100%|██████████| 12/12 [00:12<00:00,  1.08s/it]\n",
      "100%|██████████| 12/12 [00:12<00:00,  1.03s/it]\n",
      "100%|██████████| 12/12 [00:12<00:00,  1.03s/it]\n"
     ]
    }
   ],
   "source": [
    "# Hierarchical clustering\n",
    "\n",
    "dist = 'hausdorff'\n",
    "for num_clusters in range(1, 11):\n",
    "    labels = []\n",
    "    for month in tqdm(range(12)):\n",
    "\n",
    "        mat = pd.read_csv('../result/' + data_set + '/clustering/interval/hierarchical/' + dist + '/mat_month_' + str(month+1) + '.csv', header=None).values\n",
    "        hierarchical = AgglomerativeClustering(n_clusters=num_clusters, affinity='precomputed', memory=None, connectivity=None, \n",
    "                                               compute_full_tree='auto', linkage='average', pooling_func='deprecated', distance_threshold=None).fit(mat)\n",
    "        labels.append(hierarchical.labels_)\n",
    "\n",
    "    pd.DataFrame(np.array(labels).T).to_csv('../result/' + data_set + '/clustering/interval/hierarchical/' + dist + '/n_clusters_' + str(num_clusters) + '.csv', header=None, index=False)"
   ]
  },
  {
   "cell_type": "code",
   "execution_count": null,
   "metadata": {},
   "outputs": [],
   "source": []
  }
 ],
 "metadata": {
  "kernelspec": {
   "display_name": "Python 3",
   "language": "python",
   "name": "python3"
  },
  "language_info": {
   "codemirror_mode": {
    "name": "ipython",
    "version": 3
   },
   "file_extension": ".py",
   "mimetype": "text/x-python",
   "name": "python",
   "nbconvert_exporter": "python",
   "pygments_lexer": "ipython3",
   "version": "3.7.3"
  }
 },
 "nbformat": 4,
 "nbformat_minor": 2
}
