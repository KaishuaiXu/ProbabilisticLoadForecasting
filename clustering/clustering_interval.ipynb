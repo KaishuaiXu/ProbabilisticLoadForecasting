{
 "cells": [
  {
   "cell_type": "code",
   "execution_count": 1,
   "metadata": {},
   "outputs": [],
   "source": [
    "import pandas as pd\n",
    "import numpy as np\n",
    "from tqdm import tqdm\n",
    "from sklearn.cluster import AgglomerativeClustering\n",
    "from sklearn.cluster import KMeans"
   ]
  },
  {
   "cell_type": "code",
   "execution_count": 4,
   "metadata": {},
   "outputs": [],
   "source": [
    "data_set = 'London_2013'\n",
    "attr = pd.read_csv('../data/' + data_set + '_attr_final.csv')"
   ]
  },
  {
   "cell_type": "code",
   "execution_count": 5,
   "metadata": {},
   "outputs": [
    {
     "name": "stderr",
     "output_type": "stream",
     "text": [
      "100%|██████████| 12/12 [00:48<00:00,  3.98s/it]\n",
      "100%|██████████| 12/12 [00:48<00:00,  4.02s/it]\n",
      "100%|██████████| 12/12 [00:49<00:00,  4.27s/it]\n",
      "100%|██████████| 12/12 [00:48<00:00,  4.04s/it]\n",
      "100%|██████████| 12/12 [00:49<00:00,  4.11s/it]\n",
      "100%|██████████| 12/12 [00:49<00:00,  4.11s/it]\n",
      "100%|██████████| 12/12 [00:49<00:00,  4.12s/it]\n",
      "100%|██████████| 12/12 [00:49<00:00,  4.13s/it]\n",
      "100%|██████████| 12/12 [00:49<00:00,  4.14s/it]\n",
      "100%|██████████| 12/12 [00:49<00:00,  4.15s/it]\n"
     ]
    }
   ],
   "source": [
    "# K-means clustering\n",
    "\n",
    "for num_clusters in range(1, 11):\n",
    "    labels = []\n",
    "    for month in tqdm(range(12)):\n",
    "\n",
    "        X = []\n",
    "        for i in range(len(attr)):\n",
    "            id = attr['ID'][i]\n",
    "            df = pd.read_csv('../data/' + data_set + '_profiles_interval/' + str(id) + '.csv', header = None).values\n",
    "            X.append(np.hstack((df[month*2], df[month*2+1])))\n",
    "        X = np.array(X)\n",
    "        X = (X - np.min(X))/(np.max(X) - np.min(X))\n",
    "\n",
    "        kmeans = KMeans(n_clusters=num_clusters, init='k-means++', n_init=10, max_iter=300, tol=0.0001, precompute_distances=True, \n",
    "                        verbose=0, random_state=None, copy_x=True, n_jobs=None, algorithm='full').fit(X)\n",
    "        labels.append(kmeans.labels_)\n",
    "\n",
    "    pd.DataFrame(np.array(labels).T).to_csv('../result/' + data_set + '/cluster/interval/kmeans/n_clusters_' + str(num_clusters) + '.csv', header=None, index=False)"
   ]
  },
  {
   "cell_type": "code",
   "execution_count": null,
   "metadata": {
    "scrolled": true
   },
   "outputs": [],
   "source": [
    "# Hierarchical clustering\n",
    "\n",
    "dist = 'hausdorff'\n",
    "for num_clusters in range(1, 11):\n",
    "    labels = []\n",
    "    for month in tqdm(range(12)):\n",
    "\n",
    "        mat = pd.read_csv('../result/' + data_set + '/cluster/interval/hierarchical/' + dist + '/mat_month_' + str(month+1) + '.csv', header=None).values\n",
    "        hierarchical = AgglomerativeClustering(n_clusters=num_clusters, affinity='precomputed', memory=None, connectivity=None, \n",
    "                                               compute_full_tree='auto', linkage='complete', pooling_func='deprecated', distance_threshold=None).fit(mat)\n",
    "        labels.append(hierarchical.labels_)\n",
    "\n",
    "    pd.DataFrame(np.array(labels).T).to_csv('../result/' + data_set + '/cluster/interval/hierarchical/' + dist + '/n_clusters_' + str(num_clusters) + '.csv', header=None, index=False)"
   ]
  },
  {
   "cell_type": "markdown",
   "metadata": {},
   "source": [
    "## Plot"
   ]
  },
  {
   "cell_type": "code",
   "execution_count": null,
   "metadata": {},
   "outputs": [],
   "source": [
    "# Plot preparation\n",
    "import matplotlib.pyplot as plt\n",
    "%matplotlib inline\n",
    "\n",
    "data_set = 'London_2013'\n",
    "method = 'hierarchical/hausdorff'\n",
    "# method = 'kmeans'\n",
    "num_clusters = 10\n",
    "month = 1\n",
    "\n",
    "attr = pd.read_csv('../data/' + data_set + '_attr_final.csv')\n",
    "labels = pd.read_csv('../result/' + data_set + '/cluster/interval/' + method + '/n_clusters_' + str(num_clusters) + '.csv', header=None)"
   ]
  },
  {
   "cell_type": "code",
   "execution_count": null,
   "metadata": {},
   "outputs": [],
   "source": [
    "# Plot\n",
    "plt.figure(figsize=(20,25))\n",
    "for k in range(num_clusters):\n",
    "    plt.subplot(5, 3, k+1)\n",
    "    for i in range(len(attr)):\n",
    "        id = attr['ID'][i]\n",
    "        df = pd.read_csv('../data/' + data_set + '_profiles_interval/' + str(id) + '.csv', header=None).values\n",
    "        if labels[month-1][i] == k:\n",
    "            plt.plot(list(range(1, 25)), df[month*2-2], alpha=0.3, color='dodgerblue', linewidth=1)\n",
    "            plt.plot(list(range(1, 25)), df[month*2-1], alpha=0.3, color='lightsalmon', linewidth=1)\n",
    "\n",
    "    # Plot Parameters\n",
    "    plt.xlabel('Time')\n",
    "    plt.ylabel('Load (kW)')\n",
    "    new_ticks = np.floor(np.linspace(0, 24, 7))\n",
    "    plt.xticks(new_ticks)\n",
    "    plt.xlim(1, 24)\n",
    "    plt.ylim(0, 8)"
   ]
  },
  {
   "cell_type": "code",
   "execution_count": null,
   "metadata": {},
   "outputs": [],
   "source": []
  }
 ],
 "metadata": {
  "kernelspec": {
   "display_name": "Python 3",
   "language": "python",
   "name": "python3"
  },
  "language_info": {
   "codemirror_mode": {
    "name": "ipython",
    "version": 3
   },
   "file_extension": ".py",
   "mimetype": "text/x-python",
   "name": "python",
   "nbconvert_exporter": "python",
   "pygments_lexer": "ipython3",
   "version": "3.7.3"
  }
 },
 "nbformat": 4,
 "nbformat_minor": 2
}
