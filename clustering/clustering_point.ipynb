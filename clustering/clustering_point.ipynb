{
 "cells": [
  {
   "cell_type": "code",
   "execution_count": 39,
   "metadata": {},
   "outputs": [],
   "source": [
    "# Result structure:\n",
    "# |--result\n",
    "#    |--[*DataSet*](Irish_2010&London_2013)\n",
    "#    |  |--clustering\n",
    "#    |     |--point\n",
    "#    |        |--hierarchical\n",
    "#    |        |  |--euclidean\n",
    "#    |        |  |--cityblock\n",
    "#    |        |  |--DTW\n",
    "#    |        |--kmeans\n"
   ]
  },
  {
   "cell_type": "code",
   "execution_count": null,
   "metadata": {},
   "outputs": [],
   "source": [
    "import pandas as pd\n",
    "import numpy as np\n",
    "from tqdm import tqdm\n",
    "from sklearn.cluster import KMeans\n",
    "from sklearn.cluster import AgglomerativeClustering"
   ]
  },
  {
   "cell_type": "code",
   "execution_count": 40,
   "metadata": {},
   "outputs": [],
   "source": [
    "data_set = 'Irish_2010'\n",
    "attr = pd.read_csv('../data/' + data_set + '_attr_final.csv')"
   ]
  },
  {
   "cell_type": "code",
   "execution_count": 3,
   "metadata": {},
   "outputs": [
    {
     "name": "stderr",
     "output_type": "stream",
     "text": [
      "100%|██████████| 12/12 [01:05<00:00,  5.61s/it]\n",
      "100%|██████████| 12/12 [01:03<00:00,  4.34s/it]\n",
      "100%|██████████| 12/12 [00:23<00:00,  1.93s/it]\n",
      "100%|██████████| 12/12 [00:23<00:00,  2.03s/it]\n",
      "100%|██████████| 12/12 [00:25<00:00,  2.07s/it]\n",
      "100%|██████████| 12/12 [00:24<00:00,  2.04s/it]\n",
      "100%|██████████| 12/12 [00:24<00:00,  2.03s/it]\n",
      "100%|██████████| 12/12 [00:25<00:00,  2.17s/it]\n",
      "100%|██████████| 12/12 [00:25<00:00,  2.15s/it]\n",
      "100%|██████████| 12/12 [00:25<00:00,  2.09s/it]\n"
     ]
    }
   ],
   "source": [
    "# K-means clustering\n",
    "\n",
    "for num_clusters in range(1, 11):\n",
    "    labels = []\n",
    "    for month in tqdm(range(12)):\n",
    "\n",
    "        X = []\n",
    "        for i in range(len(attr)):\n",
    "            id = attr['ID'][i]\n",
    "            df = pd.read_csv('../data/' + data_set + '_profiles/' + str(id) + '.csv', header = None).values\n",
    "            X.append(df[month])\n",
    "        X = np.array(X)\n",
    "        X = (X - np.min(X))/(np.max(X) - np.min(X))\n",
    "\n",
    "        kmeans = KMeans(n_clusters=num_clusters, init='k-means++', n_init=10, max_iter=300, tol=0.0001, precompute_distances=True, \n",
    "                        verbose=0, random_state=None, copy_x=True, n_jobs=None, algorithm='full').fit(X)\n",
    "        labels.append(kmeans.labels_)\n",
    "\n",
    "    pd.DataFrame(np.array(labels).T).to_csv('../result/' + data_set + '/clustering/point/kmeans/n_clusters_' + str(num_clusters) + '.csv', header=None, index=False)"
   ]
  },
  {
   "cell_type": "code",
   "execution_count": 36,
   "metadata": {
    "scrolled": true
   },
   "outputs": [
    {
     "name": "stderr",
     "output_type": "stream",
     "text": [
      "100%|██████████| 12/12 [00:47<00:00,  3.93s/it]\n",
      "100%|██████████| 12/12 [00:47<00:00,  4.13s/it]\n",
      "100%|██████████| 12/12 [00:47<00:00,  3.92s/it]\n",
      "100%|██████████| 12/12 [00:47<00:00,  3.93s/it]\n",
      "100%|██████████| 12/12 [00:47<00:00,  3.95s/it]\n",
      "100%|██████████| 12/12 [03:09<00:00,  6.41s/it]\n",
      "100%|██████████| 12/12 [00:47<00:00,  3.93s/it]\n",
      "100%|██████████| 12/12 [00:47<00:00,  3.93s/it]\n",
      "100%|██████████| 12/12 [00:47<00:00,  3.93s/it]\n",
      "100%|██████████| 12/12 [00:47<00:00,  4.01s/it]\n"
     ]
    }
   ],
   "source": [
    "# Hierarchical clustering (euclidean & cityblock)\n",
    "\n",
    "dist = 'cityblock'\n",
    "for num_clusters in range(1, 11):\n",
    "    labels = []\n",
    "    for month in tqdm(range(12)):\n",
    "\n",
    "        X = []\n",
    "        for i in range(len(attr)):\n",
    "            id = attr['ID'][i]\n",
    "            df = pd.read_csv('../data/' + data_set + '_profiles/' + str(id) + '.csv', header = None).values\n",
    "            X.append(df[month])\n",
    "        X = np.array(X)\n",
    "        X = (X - np.min(X))/(np.max(X) - np.min(X))\n",
    "\n",
    "        hierarchical = AgglomerativeClustering(n_clusters=num_clusters, affinity=dist, memory=None, connectivity=None, \n",
    "                                               compute_full_tree='auto', linkage='complete', pooling_func='deprecated', distance_threshold=None).fit(X)\n",
    "        labels.append(hierarchical.labels_)\n",
    "\n",
    "    pd.DataFrame(np.array(labels).T).to_csv('../result/' + data_set + '/clustering/point/hierarchical/' + dist + '/n_clusters_' + str(num_clusters) + '.csv', header=None, index=False)"
   ]
  },
  {
   "cell_type": "code",
   "execution_count": 41,
   "metadata": {
    "scrolled": true
   },
   "outputs": [
    {
     "name": "stderr",
     "output_type": "stream",
     "text": [
      "100%|██████████| 12/12 [00:02<00:00,  4.28it/s]\n",
      "100%|██████████| 12/12 [00:02<00:00,  4.26it/s]\n",
      "100%|██████████| 12/12 [00:02<00:00,  4.28it/s]\n",
      "100%|██████████| 12/12 [00:02<00:00,  4.27it/s]\n",
      "100%|██████████| 12/12 [00:02<00:00,  4.31it/s]\n",
      "100%|██████████| 12/12 [00:02<00:00,  4.30it/s]\n",
      "100%|██████████| 12/12 [00:02<00:00,  4.26it/s]\n",
      "100%|██████████| 12/12 [00:02<00:00,  4.09it/s]\n",
      "100%|██████████| 12/12 [00:02<00:00,  4.12it/s]\n",
      "100%|██████████| 12/12 [00:02<00:00,  4.10it/s]\n"
     ]
    }
   ],
   "source": [
    "# Hierarchical clustering (DTW)\n",
    "\n",
    "dist = 'DTW'\n",
    "for num_clusters in range(1, 11):\n",
    "    labels = []\n",
    "    for month in tqdm(range(12)):\n",
    "\n",
    "        mat = pd.read_csv('../result/' + data_set + '/clustering/point/hierarchical/' + dist + '/mat_month_' + str(month+1) + '.csv', header=None).values\n",
    "        hierarchical = AgglomerativeClustering(n_clusters=num_clusters, affinity='precomputed', memory=None, connectivity=None, \n",
    "                                               compute_full_tree='auto', linkage='complete', pooling_func='deprecated', distance_threshold=None).fit(mat)\n",
    "        labels.append(hierarchical.labels_)\n",
    "\n",
    "    pd.DataFrame(np.array(labels).T).to_csv('../result/' + data_set + '/clustering/point/hierarchical/' + dist + '/n_clusters_' + str(num_clusters) + '.csv', header=None, index=False)"
   ]
  },
  {
   "cell_type": "markdown",
   "metadata": {},
   "source": [
    "## Clustering with Acorn groups"
   ]
  },
  {
   "cell_type": "code",
   "execution_count": 52,
   "metadata": {},
   "outputs": [],
   "source": [
    "# Load attributes\n",
    "data_set = 'London_2013'\n",
    "attr = pd.read_csv('../data/' + data_set + '_attr_final.csv')"
   ]
  },
  {
   "cell_type": "code",
   "execution_count": 53,
   "metadata": {},
   "outputs": [],
   "source": [
    "# Transform to 0-1\n",
    "X_extra = pd.get_dummies(attr['Cate'], prefix='Cate').values"
   ]
  },
  {
   "cell_type": "code",
   "execution_count": 9,
   "metadata": {
    "scrolled": true
   },
   "outputs": [
    {
     "name": "stderr",
     "output_type": "stream",
     "text": [
      "100%|██████████| 12/12 [00:49<00:00,  4.02s/it]\n",
      "100%|██████████| 12/12 [00:47<00:00,  3.95s/it]\n",
      "100%|██████████| 12/12 [00:47<00:00,  3.93s/it]\n",
      "100%|██████████| 12/12 [00:47<00:00,  3.92s/it]\n",
      "100%|██████████| 12/12 [00:47<00:00,  3.92s/it]\n",
      "100%|██████████| 12/12 [00:47<00:00,  3.97s/it]\n",
      "100%|██████████| 12/12 [00:47<00:00,  3.99s/it]\n",
      "100%|██████████| 12/12 [00:47<00:00,  3.96s/it]\n",
      "100%|██████████| 12/12 [00:47<00:00,  3.97s/it]\n",
      "100%|██████████| 12/12 [00:47<00:00,  3.98s/it]\n"
     ]
    }
   ],
   "source": [
    "# K-means clustering\n",
    "\n",
    "for num_clusters in range(1, 11):\n",
    "    labels = []\n",
    "    for month in tqdm(range(12)):\n",
    "\n",
    "        X = []\n",
    "        for i in range(len(attr)):\n",
    "            id = attr['ID'][i]\n",
    "            df = pd.read_csv('../data/' + data_set + '_profiles/' + str(id) + '.csv', header = None).values\n",
    "            X.append(df[month])\n",
    "        X = np.array(X)\n",
    "        X = (X - np.min(X))/(np.max(X) - np.min(X))\n",
    "        X = np.hstack((X, X_extra))\n",
    "\n",
    "        kmeans = KMeans(n_clusters=num_clusters, init='k-means++', n_init=10, max_iter=300, tol=0.0001, precompute_distances=True, \n",
    "                        verbose=0, random_state=None, copy_x=True, n_jobs=None, algorithm='full').fit(X)\n",
    "        labels.append(kmeans.labels_)\n",
    "\n",
    "    pd.DataFrame(np.array(labels).T).to_csv('../result/' + data_set + '/clustering/point/kmeans/n_clusters_' + str(num_clusters) + '_acorn.csv', header=None, index=False)"
   ]
  },
  {
   "cell_type": "code",
   "execution_count": 54,
   "metadata": {
    "scrolled": true
   },
   "outputs": [
    {
     "name": "stderr",
     "output_type": "stream",
     "text": [
      "100%|██████████| 12/12 [00:51<00:00,  4.52s/it]\n",
      "100%|██████████| 12/12 [00:55<00:00,  4.58s/it]\n",
      "100%|██████████| 12/12 [00:55<00:00,  4.63s/it]\n",
      "100%|██████████| 12/12 [00:52<00:00,  4.47s/it]\n",
      "100%|██████████| 12/12 [00:53<00:00,  4.66s/it]\n",
      "100%|██████████| 12/12 [00:56<00:00,  4.49s/it]\n",
      "100%|██████████| 12/12 [00:53<00:00,  4.49s/it]\n",
      "100%|██████████| 12/12 [00:58<00:00,  4.63s/it]\n",
      "100%|██████████| 12/12 [00:54<00:00,  4.52s/it]\n",
      "100%|██████████| 12/12 [00:56<00:00,  4.68s/it]\n"
     ]
    }
   ],
   "source": [
    "# Hierarchical clustering (euclidean & cityblock)\n",
    "\n",
    "dist = 'cityblock'\n",
    "for num_clusters in range(1, 11):\n",
    "    labels = []\n",
    "    for month in tqdm(range(12)):\n",
    "\n",
    "        X = []\n",
    "        for i in range(len(attr)):\n",
    "            id = attr['ID'][i]\n",
    "            df = pd.read_csv('../data/' + data_set + '_profiles/' + str(id) + '.csv', header = None).values\n",
    "            X.append(df[month])\n",
    "        X = np.array(X)\n",
    "        X = (X - np.min(X))/(np.max(X) - np.min(X))\n",
    "        X = np.hstack((X, X_extra))\n",
    "\n",
    "        hierarchical = AgglomerativeClustering(n_clusters=num_clusters, affinity=dist, memory=None, connectivity=None, \n",
    "                                               compute_full_tree='auto', linkage='complete', pooling_func='deprecated', distance_threshold=None).fit(X)\n",
    "        labels.append(hierarchical.labels_)\n",
    "\n",
    "    pd.DataFrame(np.array(labels).T).to_csv('../result/' + data_set + '/clustering/point/hierarchical/' + dist + '/n_clusters_' + str(num_clusters) + '_acorn.csv', header=None, index=False)"
   ]
  },
  {
   "cell_type": "code",
   "execution_count": null,
   "metadata": {},
   "outputs": [],
   "source": []
  }
 ],
 "metadata": {
  "kernelspec": {
   "display_name": "Python 3",
   "language": "python",
   "name": "python3"
  },
  "language_info": {
   "codemirror_mode": {
    "name": "ipython",
    "version": 3
   },
   "file_extension": ".py",
   "mimetype": "text/x-python",
   "name": "python",
   "nbconvert_exporter": "python",
   "pygments_lexer": "ipython3",
   "version": "3.7.3"
  }
 },
 "nbformat": 4,
 "nbformat_minor": 2
}
