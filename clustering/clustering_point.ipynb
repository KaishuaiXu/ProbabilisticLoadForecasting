{
 "cells": [
  {
   "cell_type": "code",
   "execution_count": 9,
   "metadata": {},
   "outputs": [],
   "source": [
    "import pandas as pd\n",
    "import numpy as np\n",
    "from tqdm import tqdm\n",
    "from sklearn.cluster import KMeans\n",
    "from sklearn.cluster import AgglomerativeClustering\n",
    "from hausdorff import hausdorff_distance"
   ]
  },
  {
   "cell_type": "code",
   "execution_count": 10,
   "metadata": {},
   "outputs": [],
   "source": [
    "data_set = 'Irish_2010'\n",
    "attr = pd.read_csv('../data/' + data_set + '_attr.csv')"
   ]
  },
  {
   "cell_type": "code",
   "execution_count": null,
   "metadata": {
    "scrolled": false
   },
   "outputs": [],
   "source": [
    "# Find the IDs with missing values\n",
    "\n",
    "id_with_missing_values = []\n",
    "for k in range(len(attr)):\n",
    "    id = attr['ID'][k]\n",
    "    df = pd.read_csv('../data/' + data_set + '_profiles/' + str(id) + '.csv', header = None).values\n",
    "    for i in range(len(df)):\n",
    "        for j in range(len(df[0])):\n",
    "            if df[i][j] == 0:\n",
    "                id_with_missing_values.append(k)\n",
    "                break"
   ]
  },
  {
   "cell_type": "code",
   "execution_count": null,
   "metadata": {},
   "outputs": [],
   "source": [
    "attr.drop(index=id_with_missing_values, inplace=True)\n",
    "attr.reset_index(drop=True, inplace=True)\n",
    "attr.to_csv('../data/' + data_set + '_attr_final.csv', index=None)"
   ]
  },
  {
   "cell_type": "code",
   "execution_count": 11,
   "metadata": {},
   "outputs": [],
   "source": [
    "attr = pd.read_csv('../data/' + data_set + '_attr_final.csv')"
   ]
  },
  {
   "cell_type": "code",
   "execution_count": null,
   "metadata": {},
   "outputs": [],
   "source": [
    "# K-means clustering\n",
    "num_clusters = 15\n",
    "\n",
    "labels = []\n",
    "for month in tqdm(range(12)):\n",
    "    \n",
    "    X = []\n",
    "    for i in range(len(attr)):\n",
    "        id = attr['ID'][i]\n",
    "        df = pd.read_csv('../data/' + data_set + '_profiles/' + str(id) + '.csv', header = None).values\n",
    "        X.append(df[month])\n",
    "    X = np.array(X)\n",
    "    X = (X - np.min(X))/(np.max(X) - np.min(X))\n",
    "    \n",
    "    kmeans = KMeans(n_clusters=num_clusters, init='k-means++', n_init=10, max_iter=300, tol=0.0001, precompute_distances=True, \n",
    "                    verbose=0, random_state=None, copy_x=True, n_jobs=None, algorithm='full').fit(X)\n",
    "    labels.append(kmeans.labels_)\n",
    "\n",
    "pd.DataFrame(np.array(labels).T).to_csv('../result/' + data_set + '/cluster/point/kmeans/n_clusters_' + str(num_clusters) + '.csv', header=None, index=False)"
   ]
  },
  {
   "cell_type": "code",
   "execution_count": 4,
   "metadata": {},
   "outputs": [
    {
     "name": "stderr",
     "output_type": "stream",
     "text": [
      "100%|██████████| 12/12 [00:22<00:00,  1.83s/it]\n",
      "100%|██████████| 12/12 [00:21<00:00,  1.77s/it]\n",
      "100%|██████████| 12/12 [00:21<00:00,  1.84s/it]\n",
      "100%|██████████| 12/12 [00:21<00:00,  1.76s/it]\n",
      "100%|██████████| 12/12 [00:22<00:00,  1.95s/it]\n",
      "100%|██████████| 12/12 [00:22<00:00,  1.87s/it]\n",
      "100%|██████████| 12/12 [00:21<00:00,  1.81s/it]\n",
      "100%|██████████| 12/12 [00:22<00:00,  1.87s/it]\n"
     ]
    }
   ],
   "source": [
    "# Hierarchical clustering (euclidean&cityblock)\n",
    "# num_clusters = 5\n",
    "\n",
    "dist = 'cityblock'\n",
    "for num_clusters in range(1, 17, 2):\n",
    "    labels = []\n",
    "    for month in tqdm(range(12)):\n",
    "\n",
    "        X = []\n",
    "        for i in range(len(attr)):\n",
    "            id = attr['ID'][i]\n",
    "            df = pd.read_csv('../data/' + data_set + '_profiles/' + str(id) + '.csv', header = None).values\n",
    "            X.append(df[month])\n",
    "        X = np.array(X)\n",
    "        X = (X - np.min(X))/(np.max(X) - np.min(X))\n",
    "\n",
    "        hierarchical = AgglomerativeClustering(n_clusters=num_clusters, affinity=dist, memory=None, connectivity=None, \n",
    "                                               compute_full_tree='auto', linkage='average', pooling_func='deprecated', distance_threshold=None).fit(X)\n",
    "        labels.append(hierarchical.labels_)\n",
    "\n",
    "    pd.DataFrame(np.array(labels).T).to_csv('../result/' + data_set + '/cluster/point/hierarchical/' + dist + '/n_clusters_' + str(num_clusters) + '.csv', header=None, index=False)"
   ]
  },
  {
   "cell_type": "code",
   "execution_count": 12,
   "metadata": {},
   "outputs": [
    {
     "name": "stderr",
     "output_type": "stream",
     "text": [
      "  0%|          | 0/12 [00:00<?, ?it/s]\n"
     ]
    },
    {
     "ename": "AssertionError",
     "evalue": "arrays must be 2-dimensional",
     "output_type": "error",
     "traceback": [
      "\u001b[0;31m---------------------------------------------------------------------------\u001b[0m",
      "\u001b[0;31mAssertionError\u001b[0m                            Traceback (most recent call last)",
      "\u001b[0;32m<ipython-input-12-47ee4e6a4425>\u001b[0m in \u001b[0;36m<module>\u001b[0;34m\u001b[0m\n\u001b[1;32m     15\u001b[0m     \u001b[0;32mfor\u001b[0m \u001b[0mi\u001b[0m \u001b[0;32min\u001b[0m \u001b[0mrange\u001b[0m\u001b[0;34m(\u001b[0m\u001b[0mlen\u001b[0m\u001b[0;34m(\u001b[0m\u001b[0mattr\u001b[0m\u001b[0;34m)\u001b[0m\u001b[0;34m)\u001b[0m\u001b[0;34m:\u001b[0m\u001b[0;34m\u001b[0m\u001b[0;34m\u001b[0m\u001b[0m\n\u001b[1;32m     16\u001b[0m         \u001b[0;32mfor\u001b[0m \u001b[0mj\u001b[0m \u001b[0;32min\u001b[0m \u001b[0mrange\u001b[0m\u001b[0;34m(\u001b[0m\u001b[0mlen\u001b[0m\u001b[0;34m(\u001b[0m\u001b[0mattr\u001b[0m\u001b[0;34m)\u001b[0m\u001b[0;34m)\u001b[0m\u001b[0;34m:\u001b[0m\u001b[0;34m\u001b[0m\u001b[0;34m\u001b[0m\u001b[0m\n\u001b[0;32m---> 17\u001b[0;31m             \u001b[0mmat\u001b[0m\u001b[0;34m[\u001b[0m\u001b[0mi\u001b[0m\u001b[0;34m]\u001b[0m\u001b[0;34m[\u001b[0m\u001b[0mj\u001b[0m\u001b[0;34m]\u001b[0m \u001b[0;34m=\u001b[0m \u001b[0mhausdorff_distance\u001b[0m\u001b[0;34m(\u001b[0m\u001b[0mX\u001b[0m\u001b[0;34m[\u001b[0m\u001b[0mi\u001b[0m\u001b[0;34m]\u001b[0m\u001b[0;34m,\u001b[0m \u001b[0mX\u001b[0m\u001b[0;34m[\u001b[0m\u001b[0mj\u001b[0m\u001b[0;34m]\u001b[0m\u001b[0;34m,\u001b[0m \u001b[0mdistance\u001b[0m\u001b[0;34m=\u001b[0m\u001b[0;34m\"manhattan\"\u001b[0m\u001b[0;34m)\u001b[0m\u001b[0;34m\u001b[0m\u001b[0;34m\u001b[0m\u001b[0m\n\u001b[0m\u001b[1;32m     18\u001b[0m \u001b[0;34m\u001b[0m\u001b[0m\n\u001b[1;32m     19\u001b[0m     \u001b[0;32mbreak\u001b[0m\u001b[0;34m\u001b[0m\u001b[0;34m\u001b[0m\u001b[0m\n",
      "\u001b[0;32m~/anaconda3/lib/python3.7/site-packages/hausdorff/hausdorff.py\u001b[0m in \u001b[0;36mhausdorff_distance\u001b[0;34m(XA, XB, distance)\u001b[0m\n\u001b[1;32m     45\u001b[0m                 \u001b[0;34m'the arrays data type must be numeric'\u001b[0m\u001b[0;34m\u001b[0m\u001b[0;34m\u001b[0m\u001b[0m\n\u001b[1;32m     46\u001b[0m         \u001b[0;32massert\u001b[0m \u001b[0mXA\u001b[0m\u001b[0;34m.\u001b[0m\u001b[0mndim\u001b[0m \u001b[0;34m==\u001b[0m \u001b[0;36m2\u001b[0m \u001b[0;32mand\u001b[0m \u001b[0mXB\u001b[0m\u001b[0;34m.\u001b[0m\u001b[0mndim\u001b[0m \u001b[0;34m==\u001b[0m \u001b[0;36m2\u001b[0m\u001b[0;34m,\u001b[0m\u001b[0;31m \u001b[0m\u001b[0;31m\\\u001b[0m\u001b[0;34m\u001b[0m\u001b[0;34m\u001b[0m\u001b[0m\n\u001b[0;32m---> 47\u001b[0;31m                 \u001b[0;34m'arrays must be 2-dimensional'\u001b[0m\u001b[0;34m\u001b[0m\u001b[0;34m\u001b[0m\u001b[0m\n\u001b[0m\u001b[1;32m     48\u001b[0m         \u001b[0;32massert\u001b[0m \u001b[0mXA\u001b[0m\u001b[0;34m.\u001b[0m\u001b[0mshape\u001b[0m\u001b[0;34m[\u001b[0m\u001b[0;36m1\u001b[0m\u001b[0;34m]\u001b[0m \u001b[0;34m==\u001b[0m \u001b[0mXB\u001b[0m\u001b[0;34m.\u001b[0m\u001b[0mshape\u001b[0m\u001b[0;34m[\u001b[0m\u001b[0;36m1\u001b[0m\u001b[0;34m]\u001b[0m\u001b[0;34m,\u001b[0m\u001b[0;31m \u001b[0m\u001b[0;31m\\\u001b[0m\u001b[0;34m\u001b[0m\u001b[0;34m\u001b[0m\u001b[0m\n\u001b[1;32m     49\u001b[0m                 \u001b[0;34m'arrays must have equal number of columns'\u001b[0m\u001b[0;34m\u001b[0m\u001b[0;34m\u001b[0m\u001b[0m\n",
      "\u001b[0;31mAssertionError\u001b[0m: arrays must be 2-dimensional"
     ]
    }
   ],
   "source": [
    "# Hierarchical clustering (hausdorff)\n",
    "num_clusters = 5\n",
    "\n",
    "mat = np.zeros((len(attr), len(attr)))\n",
    "for month in tqdm(range(12)):\n",
    "\n",
    "    X = []\n",
    "    for i in range(len(attr)):\n",
    "        id = attr['ID'][i]\n",
    "        df = pd.read_csv('../data/' + data_set + '_profiles/' + str(id) + '.csv', header = None).values\n",
    "        X.append(df[month])\n",
    "    X = np.array(X)\n",
    "    X = (X - np.min(X))/(np.max(X) - np.min(X))\n",
    "    \n",
    "    for i in range(len(attr)):\n",
    "        for j in range(len(attr)):\n",
    "            mat[i][j] = hausdorff_distance(X[i], X[j], distance=\"manhattan\")\n",
    "    \n",
    "    break"
   ]
  },
  {
   "cell_type": "markdown",
   "metadata": {},
   "source": [
    "## Clustering with additional attributes"
   ]
  },
  {
   "cell_type": "code",
   "execution_count": null,
   "metadata": {},
   "outputs": [],
   "source": [
    "attr = pd.read_csv('../data/' + data_set + '_attr_final.csv')\n",
    "cate = np.zeros((len(attr)))"
   ]
  },
  {
   "cell_type": "code",
   "execution_count": null,
   "metadata": {
    "scrolled": true
   },
   "outputs": [],
   "source": [
    "cate_1 = ['ACORN-A', 'ACORN-B', 'ACORN-C']  # Affluent Achievers\n",
    "cate_2 = ['ACORN-D', 'ACORN-E']  # Rising Prosperity\n",
    "cate_3 = ['ACORN-F', 'ACORN-G', 'ACORN-H', 'ACORN-I', 'ACORN-J']  # Comfortable Communities\n",
    "cate_4 = ['ACORN-K', 'ACORN-L', 'ACORN-M', 'ACORN-N']  # Financially Stretched\n",
    "cate_5 = ['ACORN-O', 'ACORN-P', 'ACORN-Q']  # Urban Adversity\n",
    "\n",
    "for i in tqdm(range(len(attr))):\n",
    "    if attr['Acorn'][i] in cate_1:\n",
    "        cate[i] = 1\n",
    "    if attr['Acorn'][i] in cate_2:\n",
    "        cate[i] = 2\n",
    "    if attr['Acorn'][i] in cate_3:\n",
    "        cate[i] = 3\n",
    "    if attr['Acorn'][i] in cate_4:\n",
    "        cate[i] = 4\n",
    "    if attr['Acorn'][i] in cate_5:\n",
    "        cate[i] = 5"
   ]
  },
  {
   "cell_type": "code",
   "execution_count": null,
   "metadata": {},
   "outputs": [],
   "source": [
    "attr = pd.concat([attr, pd.DataFrame(cate, columns=['Cate']).astype('int64')], axis=1)\n",
    "\n",
    "# Transform to 0-1\n",
    "X_extra = pd.get_dummies(attr['Cate'], prefix='Cate').values"
   ]
  },
  {
   "cell_type": "code",
   "execution_count": null,
   "metadata": {
    "scrolled": true
   },
   "outputs": [],
   "source": [
    "# K-means clustering\n",
    "# num_clusters = 1\n",
    "\n",
    "for num_clusters in tqdm(range(1, 17, 2)):\n",
    "    labels = []\n",
    "    for month in tqdm(range(12)):\n",
    "\n",
    "        X = []\n",
    "        for i in range(len(attr)):\n",
    "            id = attr['ID'][i]\n",
    "            df = pd.read_csv('../data/' + data_set + '_profiles/' + str(id) + '.csv', header = None).values\n",
    "            X.append(df[month])\n",
    "        X = np.array(X)\n",
    "        X = (X - np.min(X))/(np.max(X) - np.min(X))\n",
    "        X = np.hstack((X, X_extra))\n",
    "\n",
    "        kmeans = KMeans(n_clusters=num_clusters, init='k-means++', n_init=10, max_iter=300, tol=0.0001, precompute_distances=True, \n",
    "                        verbose=0, random_state=None, copy_x=True, n_jobs=None, algorithm='full').fit(X)\n",
    "        labels.append(kmeans.labels_)\n",
    "\n",
    "    pd.DataFrame(np.array(labels).T).to_csv('../result/' + data_set + '/cluster/point/kmeans/n_clusters_' + str(num_clusters) + '_acorn.csv', header=None, index=False)"
   ]
  },
  {
   "cell_type": "code",
   "execution_count": null,
   "metadata": {
    "scrolled": true
   },
   "outputs": [],
   "source": [
    "# Hierarchical clustering\n",
    "# num_clusters = 5\n",
    "\n",
    "dist = 'cityblock'\n",
    "for num_clusters in range(1, 17, 2):\n",
    "    labels = []\n",
    "    for month in tqdm(range(12)):\n",
    "\n",
    "        X = []\n",
    "        for i in range(len(attr)):\n",
    "            id = attr['ID'][i]\n",
    "            df = pd.read_csv('../data/' + data_set + '_profiles/' + str(id) + '.csv', header = None).values\n",
    "            X.append(df[month])\n",
    "        X = np.array(X)\n",
    "        X = (X - np.min(X))/(np.max(X) - np.min(X))\n",
    "        X = np.hstack((X, X_extra))\n",
    "\n",
    "        hierarchical = AgglomerativeClustering(n_clusters=num_clusters, affinity=dist, memory=None, connectivity=None, \n",
    "                                               compute_full_tree='auto', linkage='average', pooling_func='deprecated', distance_threshold=None).fit(X)\n",
    "        labels.append(hierarchical.labels_)\n",
    "\n",
    "    pd.DataFrame(np.array(labels).T).to_csv('../result/' + data_set + '/cluster/point/hierarchical/' + dist + '/n_clusters_' + str(num_clusters) + '_acorn.csv', header=None, index=False)"
   ]
  },
  {
   "cell_type": "markdown",
   "metadata": {},
   "source": [
    "## Plot"
   ]
  },
  {
   "cell_type": "code",
   "execution_count": null,
   "metadata": {},
   "outputs": [],
   "source": [
    "# Plot preparation\n",
    "import matplotlib.pyplot as plt\n",
    "\n",
    "data_set = 'London_2013'\n",
    "method = 'kmeans'\n",
    "num_clusters = 15\n",
    "month = 7\n",
    "\n",
    "attr = pd.read_csv('../data/' + data_set + '_attr_final.csv')\n",
    "# labels = pd.read_csv('../result/' + data_set + '/cluster/point/' + method + '/n_clusters_' + str(num_clusters) + '.csv', header=None)\n",
    "labels = pd.read_csv('../result/' + data_set + '/cluster/point/' + method + '/n_clusters_' + str(num_clusters) + '_acorn.csv', header=None)"
   ]
  },
  {
   "cell_type": "code",
   "execution_count": null,
   "metadata": {},
   "outputs": [],
   "source": [
    "# Plot\n",
    "for i in range(len(attr)):\n",
    "    id = attr['ID'][i]\n",
    "    df = pd.read_csv('../data/' + data_set + '_profiles/' + str(id) + '.csv', header=None).values\n",
    "    if labels[month-1][i] == 2:\n",
    "        plt.plot(list(range(1, 25)), df[month-1], alpha=0.3, color='dodgerblue', linewidth=1)\n",
    "\n",
    "# Plot Parameters\n",
    "plt.xlabel('Time')\n",
    "plt.ylabel('Load (kW)')\n",
    "new_ticks = np.floor(np.linspace(0, 24, 7))\n",
    "plt.xticks(new_ticks)\n",
    "plt.xlim(1, 24)"
   ]
  },
  {
   "cell_type": "code",
   "execution_count": null,
   "metadata": {},
   "outputs": [],
   "source": []
  }
 ],
 "metadata": {
  "kernelspec": {
   "display_name": "Python 3",
   "language": "python",
   "name": "python3"
  },
  "language_info": {
   "codemirror_mode": {
    "name": "ipython",
    "version": 3
   },
   "file_extension": ".py",
   "mimetype": "text/x-python",
   "name": "python",
   "nbconvert_exporter": "python",
   "pygments_lexer": "ipython3",
   "version": "3.7.3"
  }
 },
 "nbformat": 4,
 "nbformat_minor": 2
}
