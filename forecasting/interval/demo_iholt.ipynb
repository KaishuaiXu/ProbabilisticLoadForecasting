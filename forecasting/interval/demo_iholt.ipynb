{
 "cells": [
  {
   "cell_type": "code",
   "execution_count": 58,
   "metadata": {},
   "outputs": [],
   "source": [
    "import numpy as np\n",
    "import pandas as pd\n",
    "from iholt import Holt_model\n",
    "import os\n",
    "from tqdm import trange\n",
    "import json"
   ]
  },
  {
   "cell_type": "code",
   "execution_count": 2,
   "metadata": {},
   "outputs": [],
   "source": [
    "n_clusters = 2\n",
    "# method = 'kmeans'\n",
    "method = 'hierarchical/euclidean'\n",
    "data_set = 'Irish_2010'\n",
    "month = 1"
   ]
  },
  {
   "cell_type": "code",
   "execution_count": 3,
   "metadata": {},
   "outputs": [],
   "source": [
    "path = os.path.abspath(os.path.join(os.getcwd(), '../..'))\n",
    "\n",
    "path_cluster = os.path.join(path, 'result', data_set, 'clustering', 'interval', method, f'n_clusters_{n_clusters}.csv')\n",
    "clusters = pd.read_csv(path_cluster, header=None)\n",
    "\n",
    "attr = pd.read_csv(os.path.join(path, 'data', f'{data_set}_attr_final.csv'))"
   ]
  },
  {
   "cell_type": "code",
   "execution_count": 4,
   "metadata": {},
   "outputs": [
    {
     "name": "stderr",
     "output_type": "stream",
     "text": [
      "100%|██████████| 918/918 [00:28<00:00, 32.75it/s]\n"
     ]
    }
   ],
   "source": [
    "series = []\n",
    "for i in trange(len(attr)):\n",
    "    id = attr['ID'][i]\n",
    "    df = pd.read_csv(os.path.join(path, 'data', f'{data_set}_monthly_interval', f'{id}.csv'), header = None).values\n",
    "    df = df[(month-1)*2:month*2, :]\n",
    "    series.append(df)\n",
    "series = np.array(series)"
   ]
  },
  {
   "cell_type": "code",
   "execution_count": 77,
   "metadata": {},
   "outputs": [],
   "source": [
    "for i in range(n_clusters):\n",
    "    index = list(clusters[month-1] == i)\n",
    "    sub_series = series[index]\n",
    "    sub_series = np.sum(sub_series, axis=0)\n",
    "    test = sub_series[:, -168:]\n",
    "    train = sub_series[:, :-168]\n",
    "    \n",
    "    # test window (h = 1, 2, ..., 7)\n",
    "    pred_series = []\n",
    "    xs = []\n",
    "    for h in range(1, 8):\n",
    "\n",
    "        # Build model\n",
    "        holt_model = Holt_model(np.hstack((train, test[:, :(h-1)*24])))\n",
    "\n",
    "        # Optimize\n",
    "        bnds = [[0, 1]] * 8\n",
    "        x0 = np.ones(8) * 0.5   # Parameters [a11, a12, a21, a22, b11, b12, b21, b22]\n",
    "        result = holt_model.train(x0, bnds)\n",
    "        It, Lt, Tt = holt_model.pred(result.x, 24, test[:, (h-1)*24:h*24])\n",
    "        pred_series.append(np.squeeze(np.array(It)).T[:, -24:])\n",
    "        xs.append(result.x)\n",
    "    \n",
    "    pred_series = np.array(pred_series)\n",
    "    xs = np.array(xs)\n",
    "    \n",
    "#     path_result = os.path.join(path, 'result', data_set, 'forecasting', 'interval', method)\n",
    "#     np.save(os.path.join(path_result, f'n_clusters_{n_clusters}_for_{i}.npy'), pred_series)\n",
    "#     np.save(os.path.join(path_result, f'n_clusters_{n_clusters}_for_{i}_params.npy'), xs)\n",
    "    \n",
    "    break"
   ]
  },
  {
   "cell_type": "code",
   "execution_count": null,
   "metadata": {},
   "outputs": [],
   "source": []
  }
 ],
 "metadata": {
  "kernelspec": {
   "display_name": "Python 3",
   "language": "python",
   "name": "python3"
  },
  "language_info": {
   "codemirror_mode": {
    "name": "ipython",
    "version": 3
   },
   "file_extension": ".py",
   "mimetype": "text/x-python",
   "name": "python",
   "nbconvert_exporter": "python",
   "pygments_lexer": "ipython3",
   "version": "3.7.3"
  }
 },
 "nbformat": 4,
 "nbformat_minor": 2
}
