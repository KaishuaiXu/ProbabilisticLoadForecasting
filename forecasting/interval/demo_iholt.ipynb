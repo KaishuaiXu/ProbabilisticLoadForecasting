{
 "cells": [
  {
   "cell_type": "code",
   "execution_count": null,
   "metadata": {},
   "outputs": [],
   "source": [
    "import numpy as np\n",
    "import pandas as pd\n",
    "from iholt import Holt_model\n",
    "import os\n",
    "from tqdm import trange\n",
    "import json\n",
    "\n",
    "months = [31, 28, 31, 30, 31, 30, 31, 31, 30, 31, 30, 31]"
   ]
  },
  {
   "cell_type": "code",
   "execution_count": null,
   "metadata": {},
   "outputs": [],
   "source": [
    "n_clusters = 2\n",
    "# method = 'kmeans'\n",
    "method = 'hierarchical/euclidean'\n",
    "data_set = 'Irish_2010'\n",
    "month = 2"
   ]
  },
  {
   "cell_type": "code",
   "execution_count": null,
   "metadata": {},
   "outputs": [],
   "source": [
    "path = os.path.abspath(os.path.join(os.getcwd(), '../..'))\n",
    "\n",
    "path_cluster = os.path.join(path, 'result', data_set, 'clustering', 'interval', method, f'n_clusters_{n_clusters}.csv')\n",
    "clusters = pd.read_csv(path_cluster, header=None)\n",
    "\n",
    "attr = pd.read_csv(os.path.join(path, 'data', f'{data_set}_attr_final.csv'))"
   ]
  },
  {
   "cell_type": "code",
   "execution_count": null,
   "metadata": {},
   "outputs": [],
   "source": [
    "series = []\n",
    "for i in trange(len(attr)):\n",
    "    id = attr['ID'][i]\n",
    "    df = pd.read_csv(os.path.join(path, 'data', f'{data_set}_monthly_interval', f'{id}.csv'), header = None).values\n",
    "    df = df[(month-1)*2:month*2, :months[month-1]*24]\n",
    "    series.append(df)\n",
    "series = np.array(series)"
   ]
  },
  {
   "cell_type": "code",
   "execution_count": null,
   "metadata": {},
   "outputs": [],
   "source": [
    "for i in range(n_clusters):\n",
    "    index = list(clusters[month-1] == i)\n",
    "    sub_series = series[index]\n",
    "    sub_series = np.sum(sub_series, axis=0)\n",
    "    test = sub_series[:, -168:]\n",
    "    train = sub_series[:, :-168]\n",
    "    \n",
    "    scale = np.zeros(2)\n",
    "    scale[0] = np.max(train)\n",
    "    scale[1] = np.min(train)\n",
    "    train = (train - scale[1])/(scale[0] - scale[1])\n",
    "    test = (test - scale[1])/(scale[0] - scale[1])   \n",
    "                        \n",
    "    # Model\n",
    "    # build model\n",
    "    holt_model = Holt_model(train)\n",
    "\n",
    "    # optimize\n",
    "    bnds = [[0, 1]] * 8\n",
    "    x0 = np.ones(8) * 0.5   # Parameters [a11, a12, a21, a22, b11, b12, b21, b22]\n",
    "    result = holt_model.train(x0, bnds)\n",
    "\n",
    "    # predict\n",
    "    It, Lt, Tt = holt_model.pred(result.x, 168, test)\n",
    "\n",
    "    pred_series = np.squeeze(np.array(It)).T[:, -168:]\n",
    "    print('cluster:', i, 'train status:', result.success)\n",
    "    \n",
    "    break"
   ]
  },
  {
   "cell_type": "code",
   "execution_count": null,
   "metadata": {},
   "outputs": [],
   "source": []
  }
 ],
 "metadata": {
  "kernelspec": {
   "display_name": "Python 3",
   "language": "python",
   "name": "python3"
  },
  "language_info": {
   "codemirror_mode": {
    "name": "ipython",
    "version": 3
   },
   "file_extension": ".py",
   "mimetype": "text/x-python",
   "name": "python",
   "nbconvert_exporter": "python",
   "pygments_lexer": "ipython3",
   "version": "3.7.3"
  }
 },
 "nbformat": 4,
 "nbformat_minor": 2
}
