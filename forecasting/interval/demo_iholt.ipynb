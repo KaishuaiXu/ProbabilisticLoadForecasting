{
 "cells": [
  {
   "cell_type": "code",
   "execution_count": 1,
   "metadata": {},
   "outputs": [],
   "source": [
    "import numpy as np\n",
    "import pandas as pd\n",
    "from iholt import Holt_model\n",
    "import os\n",
    "from tqdm import trange\n",
    "import json\n",
    "\n",
    "months = [31, 28, 31, 30, 31, 30, 31, 31, 30, 31, 30, 31]"
   ]
  },
  {
   "cell_type": "code",
   "execution_count": 2,
   "metadata": {},
   "outputs": [],
   "source": [
    "n_clusters = 2\n",
    "# method = 'kmeans'\n",
    "method = 'hierarchical/euclidean'\n",
    "data_set = 'Irish_2010'\n",
    "month = 2"
   ]
  },
  {
   "cell_type": "code",
   "execution_count": 3,
   "metadata": {},
   "outputs": [],
   "source": [
    "path = os.path.abspath(os.path.join(os.getcwd(), '../..'))\n",
    "\n",
    "path_cluster = os.path.join(path, 'result', data_set, 'clustering', 'interval', method, f'n_clusters_{n_clusters}.csv')\n",
    "clusters = pd.read_csv(path_cluster, header=None)\n",
    "\n",
    "attr = pd.read_csv(os.path.join(path, 'data', f'{data_set}_attr_final.csv'))"
   ]
  },
  {
   "cell_type": "code",
   "execution_count": 4,
   "metadata": {},
   "outputs": [
    {
     "name": "stderr",
     "output_type": "stream",
     "text": [
      "100%|██████████| 918/918 [00:27<00:00, 34.14it/s]\n"
     ]
    }
   ],
   "source": [
    "series = []\n",
    "for i in trange(len(attr)):\n",
    "    id = attr['ID'][i]\n",
    "    df = pd.read_csv(os.path.join(path, 'data', f'{data_set}_monthly_interval', f'{id}.csv'), header = None).values\n",
    "    df = df[(month-1)*2:month*2, :months[month-1]*24]\n",
    "    series.append(df)\n",
    "series = np.array(series)"
   ]
  },
  {
   "cell_type": "code",
   "execution_count": null,
   "metadata": {},
   "outputs": [
    {
     "name": "stdout",
     "output_type": "stream",
     "text": [
      "h: 1 True\n",
      "h: 2 True\n"
     ]
    }
   ],
   "source": [
    "for i in range(n_clusters):\n",
    "    index = list(clusters[month-1] == i)\n",
    "    sub_series = series[index]\n",
    "    sub_series = np.sum(sub_series, axis=0)\n",
    "    test = sub_series[:, -168:]\n",
    "    train = sub_series[:, :-168]\n",
    "    \n",
    "    scale = np.zeros(2)\n",
    "    scale[0] = np.max(train)\n",
    "    scale[1] = np.min(train)\n",
    "    train = (train - scale[1])/(scale[0] - scale[1])\n",
    "    test = (test - scale[1])/(scale[0] - scale[1])\n",
    "    \n",
    "    # test window (h = 1, 2, ..., 7)\n",
    "    pred_series = []\n",
    "    xs = []\n",
    "    for h in range(1, 8):\n",
    "        \n",
    "        # Build model\n",
    "        holt_model = Holt_model(np.hstack((train, test[:, :(h-1)*24])))\n",
    "\n",
    "        # Optimize\n",
    "        bnds = [[0, 1]] * 8\n",
    "        x0 = np.ones(8) * 0.5   # Parameters [a11, a12, a21, a22, b11, b12, b21, b22]\n",
    "        result = holt_model.train(x0, bnds)\n",
    "        It, Lt, Tt = holt_model.pred(result.x, 24, test[:, (h-1)*24:h*24])\n",
    "        pred_series.append(np.squeeze(np.array(It)).T[:, -24:])\n",
    "        xs.append(result.x)\n",
    "        \n",
    "        print('h:', h, result.success)\n",
    "        del holt_model\n",
    "    \n",
    "    pred_series = np.array(pred_series)\n",
    "    xs = np.array(xs)\n",
    "    break"
   ]
  },
  {
   "cell_type": "code",
   "execution_count": null,
   "metadata": {},
   "outputs": [],
   "source": []
  }
 ],
 "metadata": {
  "kernelspec": {
   "display_name": "Python 3",
   "language": "python",
   "name": "python3"
  },
  "language_info": {
   "codemirror_mode": {
    "name": "ipython",
    "version": 3
   },
   "file_extension": ".py",
   "mimetype": "text/x-python",
   "name": "python",
   "nbconvert_exporter": "python",
   "pygments_lexer": "ipython3",
   "version": "3.7.3"
  }
 },
 "nbformat": 4,
 "nbformat_minor": 2
}
