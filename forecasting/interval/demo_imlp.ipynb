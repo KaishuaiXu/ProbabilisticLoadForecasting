{
 "cells": [
  {
   "cell_type": "code",
   "execution_count": 4,
   "metadata": {},
   "outputs": [
    {
     "name": "stdout",
     "output_type": "stream",
     "text": [
      "Epoch 1/10\n",
      "100/100 [==============================] - 1s 10ms/step - loss: 3.5982 - dense_17_loss: 2.6060 - dense_18_loss: 0.0421 - dense_17_accuracy: 0.0000e+00 - dense_18_accuracy: 1.0000\n",
      "Epoch 2/10\n",
      "100/100 [==============================] - 0s 160us/step - loss: 2.1682 - dense_17_loss: 1.2155 - dense_18_loss: 0.0219 - dense_17_accuracy: 0.0000e+00 - dense_18_accuracy: 1.0000\n",
      "Epoch 3/10\n",
      "100/100 [==============================] - 0s 162us/step - loss: 1.0881 - dense_17_loss: 0.2661 - dense_18_loss: 0.0198 - dense_17_accuracy: 0.0000e+00 - dense_18_accuracy: 1.0000\n",
      "Epoch 4/10\n",
      "100/100 [==============================] - 0s 164us/step - loss: 1.0417 - dense_17_loss: 0.2098 - dense_18_loss: 0.0226 - dense_17_accuracy: 0.0000e+00 - dense_18_accuracy: 1.0000\n",
      "Epoch 5/10\n",
      "100/100 [==============================] - 0s 160us/step - loss: 1.2980 - dense_17_loss: 0.6110 - dense_18_loss: 0.0042 - dense_17_accuracy: 0.0000e+00 - dense_18_accuracy: 1.0000\n",
      "Epoch 6/10\n",
      "100/100 [==============================] - 0s 155us/step - loss: 1.0341 - dense_17_loss: 0.3759 - dense_18_loss: 0.0045 - dense_17_accuracy: 0.0000e+00 - dense_18_accuracy: 1.0000\n",
      "Epoch 7/10\n",
      "100/100 [==============================] - 0s 154us/step - loss: 1.0096 - dense_17_loss: 0.2187 - dense_18_loss: 0.0030 - dense_17_accuracy: 0.0000e+00 - dense_18_accuracy: 1.0000\n",
      "Epoch 8/10\n",
      "100/100 [==============================] - 0s 146us/step - loss: 0.9157 - dense_17_loss: 0.1295 - dense_18_loss: 0.0011 - dense_17_accuracy: 0.0000e+00 - dense_18_accuracy: 1.0000\n",
      "Epoch 9/10\n",
      "100/100 [==============================] - 0s 153us/step - loss: 0.8316 - dense_17_loss: 0.0787 - dense_18_loss: 2.2645e-04 - dense_17_accuracy: 0.0000e+00 - dense_18_accuracy: 1.0000\n",
      "Epoch 10/10\n",
      "100/100 [==============================] - 0s 141us/step - loss: 0.8235 - dense_17_loss: 0.0443 - dense_18_loss: 1.1491e-04 - dense_17_accuracy: 0.0000e+00 - dense_18_accuracy: 1.0000\n"
     ]
    },
    {
     "data": {
      "text/plain": [
       "<keras.callbacks.callbacks.History at 0x645810978>"
      ]
     },
     "execution_count": 4,
     "metadata": {},
     "output_type": "execute_result"
    }
   ],
   "source": [
    "# Generate the synthetic data\n",
    "x1 = np.sin(np.arange(0, 9, 0.01))\n",
    "x2 = np.cos(np.arange(0, 9, 0.01))\n",
    "x3 = x1**2\n",
    "x4 = (x1+x2)/2\n",
    "tmp = np.ones((900,))\n",
    "\n",
    "Xtrain_c = x3[0:5]\n",
    "Xtrain_r = tmp[0:5]\n",
    "Ytrain_c = x4[0:1]\n",
    "Ytrain_r = tmp[0:1]\n",
    "\n",
    "for i in range(1,100):\n",
    "    Xtrain_c = np.vstack((Xtrain_c, x3[i:i+5]))\n",
    "    Xtrain_r = np.vstack((Xtrain_r, tmp[i:i+5]))\n",
    "    Ytrain_c = np.vstack((Ytrain_c, x4[i:i+1]))\n",
    "    Ytrain_r = np.vstack((Ytrain_r, tmp[i:i+1]))\n",
    "\n",
    "# Parameters\n",
    "input_dim = 5\n",
    "output_dim = 1\n",
    "num_hidden_layers = 2\n",
    "num_units = [200, 200]\n",
    "act = ['relu', 'relu']\n",
    "beta = 0.5\n",
    "\n",
    "# Get model\n",
    "model = get_model(input_dim, output_dim, num_units, act, beta, num_hidden_layers)\n",
    "\n",
    "# Train\n",
    "model.fit(x=[Xtrain_c, Xtrain_r], y=[Ytrain_c, Ytrain_r], epochs=10)"
   ]
  },
  {
   "cell_type": "code",
   "execution_count": 1,
   "metadata": {},
   "outputs": [
    {
     "name": "stderr",
     "output_type": "stream",
     "text": [
      "Using TensorFlow backend.\n"
     ]
    }
   ],
   "source": [
    "from imlp import iAct, iLoss, get_model\n",
    "import numpy as np\n",
    "import pandas as pd\n",
    "import os\n",
    "from tqdm import trange\n",
    "import json\n",
    "\n",
    "months = [31, 28, 31, 30, 31, 30, 31, 31, 30, 31, 30, 31]"
   ]
  },
  {
   "cell_type": "code",
   "execution_count": 2,
   "metadata": {},
   "outputs": [
    {
     "name": "stderr",
     "output_type": "stream",
     "text": [
      "100%|██████████| 918/918 [00:28<00:00, 32.29it/s]\n"
     ]
    }
   ],
   "source": [
    "method = 'hierarchical/euclidean'\n",
    "data_set = 'Irish_2010'\n",
    "month = 1\n",
    "n_clusters = 2\n",
    "\n",
    "path = os.path.abspath(os.path.join(os.getcwd(), '../..'))\n",
    "\n",
    "attr = pd.read_csv(os.path.join(path, 'data', f'{data_set}_attr_final.csv'))\n",
    "data = []\n",
    "for i in trange(len(attr)):\n",
    "    id = attr['ID'][i]\n",
    "    df = pd.read_csv(os.path.join(path, 'data', f'{data_set}_monthly_interval', f'{id}.csv'), header = None).values\n",
    "    data.append(df)\n",
    "data = np.array(data)"
   ]
  },
  {
   "cell_type": "code",
   "execution_count": 5,
   "metadata": {},
   "outputs": [],
   "source": [
    "path_cluster = os.path.join(path, 'result', data_set, 'clustering', 'interval', method, f'n_clusters_{n_clusters}.csv')\n",
    "clusters = pd.read_csv(path_cluster, header=None)\n",
    "\n",
    "series = data[:, (month-1)*2:month*2, :months[month-1]*24]"
   ]
  },
  {
   "cell_type": "code",
   "execution_count": 4,
   "metadata": {},
   "outputs": [],
   "source": [
    "for i in range(n_clusters):\n",
    "    print('cluster:', i)\n",
    "    index = list(clusters[month-1] == i)\n",
    "    sub_series = series[index]\n",
    "    sub_series = np.sum(sub_series, axis=0)\n",
    "    test = sub_series[:, -168:]\n",
    "    train = sub_series[:, :-168]\n",
    "\n",
    "    scale = np.zeros(2)\n",
    "    scale[0] = np.max(train)\n",
    "    scale[1] = np.min(train)\n",
    "    train = (train - scale[1])/(scale[0] - scale[1])\n",
    "    test = (test - scale[1])/(scale[0] - scale[1])\n",
    "\n",
    "    # test window (h = 1, 2, ..., 7)\n",
    "    h = 1\n",
    "    \n",
    "    train_set = np.hstack((train, test[:, :(h-1)*24]))\n",
    "    "
   ]
  },
  {
   "cell_type": "code",
   "execution_count": null,
   "metadata": {},
   "outputs": [],
   "source": []
  }
 ],
 "metadata": {
  "kernelspec": {
   "display_name": "Python 3",
   "language": "python",
   "name": "python3"
  },
  "language_info": {
   "codemirror_mode": {
    "name": "ipython",
    "version": 3
   },
   "file_extension": ".py",
   "mimetype": "text/x-python",
   "name": "python",
   "nbconvert_exporter": "python",
   "pygments_lexer": "ipython3",
   "version": "3.7.3"
  }
 },
 "nbformat": 4,
 "nbformat_minor": 2
}
