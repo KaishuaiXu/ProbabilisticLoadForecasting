{
 "cells": [
  {
   "cell_type": "code",
   "execution_count": 1,
   "metadata": {},
   "outputs": [
    {
     "name": "stderr",
     "output_type": "stream",
     "text": [
      "Using TensorFlow backend.\n"
     ]
    }
   ],
   "source": [
    "from imlp import iAct, iLoss, get_model\n",
    "import numpy as np\n",
    "import pandas as pd\n",
    "import os\n",
    "from tqdm import trange\n",
    "\n",
    "months = [31, 28, 31, 30, 31, 30, 31, 31, 30, 31, 30, 31]"
   ]
  },
  {
   "cell_type": "code",
   "execution_count": 2,
   "metadata": {},
   "outputs": [
    {
     "name": "stderr",
     "output_type": "stream",
     "text": [
      "100%|██████████| 918/918 [00:29<00:00, 31.54it/s]\n"
     ]
    }
   ],
   "source": [
    "method = 'hierarchical/euclidean'\n",
    "data_set = 'Irish_2010'\n",
    "month = 1\n",
    "n_clusters = 2\n",
    "\n",
    "path = os.path.abspath(os.path.join(os.getcwd(), '../..'))\n",
    "\n",
    "attr = pd.read_csv(os.path.join(path, 'data', f'{data_set}_attr_final.csv'))\n",
    "data = []\n",
    "for i in trange(len(attr)):\n",
    "    id = attr['ID'][i]\n",
    "    df = pd.read_csv(os.path.join(path, 'data', f'{data_set}_monthly_interval', f'{id}.csv'), header = None).values\n",
    "    data.append(df)\n",
    "data = np.array(data)"
   ]
  },
  {
   "cell_type": "code",
   "execution_count": 3,
   "metadata": {},
   "outputs": [],
   "source": [
    "path_cluster = os.path.join(path, 'result', data_set, 'clustering', 'interval', method, f'n_clusters_{n_clusters}.csv')\n",
    "clusters = pd.read_csv(path_cluster, header=None)\n",
    "\n",
    "series = data[:, (month-1)*2:month*2, :months[month-1]*24]"
   ]
  },
  {
   "cell_type": "code",
   "execution_count": 4,
   "metadata": {},
   "outputs": [],
   "source": [
    "def get_train_set(data, lag, d):\n",
    "    l = np.maximum(d * 24, lag)\n",
    "\n",
    "    total_X = []\n",
    "    total_Y = []\n",
    "    for i in range(len(data[0]) - l):\n",
    "\n",
    "        X = np.zeros((2, d + lag))\n",
    "        X[:, :lag] = data[:, i+l-lag:i+l]\n",
    "\n",
    "        for j in range(d):\n",
    "            X[:, lag+j] = np.mean(data[:, i+l-(j+1)*24:i+l-j*24], axis=1)\n",
    "\n",
    "        Y = data[:, i+l]\n",
    "        total_X.append(X)\n",
    "        total_Y.append(Y)\n",
    "    \n",
    "    total_X = np.array(total_X)\n",
    "    total_Y = np.array(total_Y)\n",
    "    \n",
    "    X_c = (total_X[:, 1, :] + total_X[:, 0, :]) / 2\n",
    "    X_r = (total_X[:, 1, :] - total_X[:, 0, :]) / 2\n",
    "    Y_c = ((total_Y[:, 1] + total_Y[:, 0]) / 2).reshape(-1, 1)\n",
    "    Y_r = ((total_Y[:, 1] - total_Y[:, 0]) / 2).reshape(-1, 1)\n",
    "    \n",
    "    return X_c, X_r, Y_c, Y_r"
   ]
  },
  {
   "cell_type": "code",
   "execution_count": 5,
   "metadata": {},
   "outputs": [],
   "source": [
    "def get_test_set(data, test, lag, d):\n",
    "    l = np.maximum(d * 24, lag)\n",
    "    \n",
    "    data = np.hstack((train[:, -l:], test))\n",
    "    \n",
    "    total_X = []\n",
    "    total_Y = []\n",
    "    for i in range(len(data[0]) - l):\n",
    "\n",
    "        X = np.zeros((2, d + lag))\n",
    "        X[:, :lag] = data[:, i+l-lag:i+l]\n",
    "\n",
    "        for j in range(d):\n",
    "            X[:, lag+j] = np.mean(data[:, i+l-(j+1)*24:i+l-j*24], axis=1)\n",
    "\n",
    "        Y = data[:, i+l]\n",
    "        total_X.append(X)\n",
    "        total_Y.append(Y)\n",
    "    \n",
    "    total_X = np.array(total_X)\n",
    "    total_Y = np.array(total_Y)\n",
    "    \n",
    "    X_c = (total_X[:, 1, :] + total_X[:, 0, :]) / 2\n",
    "    X_r = (total_X[:, 1, :] - total_X[:, 0, :]) / 2\n",
    "    Y_c = ((total_Y[:, 1] + total_Y[:, 0]) / 2).reshape(-1, 1)\n",
    "    Y_r = ((total_Y[:, 1] - total_Y[:, 0]) / 2).reshape(-1, 1)\n",
    "    \n",
    "    return X_c, X_r, Y_c, Y_r"
   ]
  },
  {
   "cell_type": "code",
   "execution_count": 33,
   "metadata": {},
   "outputs": [],
   "source": [
    "for i in range(n_clusters):\n",
    "\n",
    "    index = list(clusters[month-1] == i)\n",
    "    sub_series = series[index]\n",
    "    sub_series = np.sum(sub_series, axis=0)\n",
    "    test = sub_series[:, -168:]\n",
    "    train = sub_series[:, :-168]\n",
    "\n",
    "    scale = np.zeros(2)\n",
    "    scale[0] = np.max(train)\n",
    "    scale[1] = np.min(train)\n",
    "    train = (train - scale[1])/(scale[0] - scale[1])\n",
    "    test = (test - scale[1])/(scale[0] - scale[1])\n",
    "    \n",
    "    # recency effect\n",
    "    lag = 12\n",
    "    d = 1\n",
    "    \n",
    "    trainX_c, trainX_r, trainY_c, trainY_r = get_train_set(train, lag, d)\n",
    "    testX_c, testX_r, testY_c, testY_r = get_test_set(train, test, lag, d)\n",
    "    \n",
    "    # Parameters\n",
    "    input_dim = lag + d\n",
    "    output_dim = 1\n",
    "    num_hidden_layers = 1\n",
    "    num_units = [6]\n",
    "    act = ['tanh']\n",
    "    beta = 0.5\n",
    "\n",
    "    # Get model\n",
    "    model = get_model(input_dim, output_dim, num_units, act, beta, num_hidden_layers)\n",
    "\n",
    "    # Train\n",
    "    model.fit(x=[trainX_c, trainX_r], y=[trainY_c, trainY_r], epochs=800, verbose=0)\n",
    "    \n",
    "    pred_c, pred_r = model.predict(x=[trainX_c, trainX_r])\n",
    "    break"
   ]
  },
  {
   "cell_type": "code",
   "execution_count": 31,
   "metadata": {},
   "outputs": [],
   "source": [
    "del model"
   ]
  },
  {
   "cell_type": "code",
   "execution_count": 29,
   "metadata": {},
   "outputs": [],
   "source": [
    "model.save('model.h5')\n",
    "model = load_model('model.h5', custom_objects={'iAct': iAct, 'loss': iLoss(beta).loss})"
   ]
  },
  {
   "cell_type": "code",
   "execution_count": 34,
   "metadata": {},
   "outputs": [
    {
     "data": {
      "text/plain": [
       "3.1371465691026543"
      ]
     },
     "execution_count": 34,
     "metadata": {},
     "output_type": "execute_result"
    }
   ],
   "source": [
    "np.sum((trainY_c - pred_c)**2) + np.sum((trainY_r - pred_r)**2)"
   ]
  },
  {
   "cell_type": "code",
   "execution_count": null,
   "metadata": {},
   "outputs": [],
   "source": []
  }
 ],
 "metadata": {
  "kernelspec": {
   "display_name": "Python 3",
   "language": "python",
   "name": "python3"
  },
  "language_info": {
   "codemirror_mode": {
    "name": "ipython",
    "version": 3
   },
   "file_extension": ".py",
   "mimetype": "text/x-python",
   "name": "python",
   "nbconvert_exporter": "python",
   "pygments_lexer": "ipython3",
   "version": "3.7.3"
  }
 },
 "nbformat": 4,
 "nbformat_minor": 2
}
