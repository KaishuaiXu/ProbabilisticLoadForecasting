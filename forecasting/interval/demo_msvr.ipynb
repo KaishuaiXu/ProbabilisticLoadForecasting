{
 "cells": [
  {
   "cell_type": "code",
   "execution_count": 2,
   "metadata": {},
   "outputs": [],
   "source": [
    "import numpy as np\n",
    "import pandas as pd\n",
    "import os\n",
    "from tqdm import trange\n",
    "from sklearn.model_selection import train_test_split\n",
    "\n",
    "from dataloader import get_train_set_, get_test_set_\n",
    "from msvr import kernelmatrix\n",
    "from msvr import msvr\n",
    "\n",
    "months = [31, 28, 31, 30, 31, 30, 31, 31, 30, 31, 30, 31]"
   ]
  },
  {
   "cell_type": "code",
   "execution_count": 3,
   "metadata": {},
   "outputs": [
    {
     "name": "stderr",
     "output_type": "stream",
     "text": [
      "100%|██████████| 918/918 [00:29<00:00, 30.71it/s]\n"
     ]
    }
   ],
   "source": [
    "method = 'hierarchical/euclidean'\n",
    "data_set = 'Irish_2010'\n",
    "month = 1\n",
    "n_clusters = 2\n",
    "\n",
    "path = os.path.abspath(os.path.join(os.getcwd(), '../..'))\n",
    "\n",
    "attr = pd.read_csv(os.path.join(path, 'data', f'{data_set}_attr_final.csv'))\n",
    "data = []\n",
    "for i in trange(len(attr)):\n",
    "    id = attr['ID'][i]\n",
    "    df = pd.read_csv(os.path.join(path, 'data', f'{data_set}_monthly_interval', f'{id}.csv'), header = None).values\n",
    "    data.append(df)\n",
    "data = np.array(data)"
   ]
  },
  {
   "cell_type": "code",
   "execution_count": 4,
   "metadata": {},
   "outputs": [],
   "source": [
    "path_cluster = os.path.join(path, 'result', data_set, 'clustering', 'interval', method, f'n_clusters_{n_clusters}.csv')\n",
    "clusters = pd.read_csv(path_cluster, header=None)\n",
    "\n",
    "series = data[:, (month-1)*2:month*2, :months[month-1]*24]"
   ]
  },
  {
   "cell_type": "code",
   "execution_count": 8,
   "metadata": {},
   "outputs": [
    {
     "name": "stdout",
     "output_type": "stream",
     "text": [
      "lag: 1 error: 0.014418014472158925 error_test: 0.018083026621952495\n",
      "lag: 2 error: 0.014702476396996192 error_test: 0.019502823323579603\n",
      "lag: 3 error: 0.016463203519481617 error_test: 0.02034438249180348\n",
      "lag: 4 error: 0.01720950825112333 error_test: 0.020179987336080913\n",
      "lag: 5 error: 0.020063509415270474 error_test: 0.018055731487230768\n",
      "lag: 6 error: 0.01584724157904799 error_test: 0.017211384742635987\n",
      "lag: 7 error: 0.016959421088596827 error_test: 0.020984317026740588\n",
      "lag: 8 error: 0.020050972877760198 error_test: 0.01857902507458113\n",
      "lag: 9 error: 0.02172202177101848 error_test: 0.025228206216875694\n",
      "lag: 10 error: 0.0233791756716879 error_test: 0.02583271704062471\n",
      "lag: 11 error: 0.02283269209275809 error_test: 0.02679232007405986\n",
      "lag: 12 error: 0.022200119884137042 error_test: 0.024546743973891984\n",
      "lag: 13 error: 0.02073792632396276 error_test: 0.024073737559604978\n",
      "lag: 14 error: 0.024892560007814063 error_test: 0.027072421307005917\n",
      "lag: 15 error: 0.022803852382307758 error_test: 0.025634327520432404\n",
      "lag: 16 error: 0.017892437594340234 error_test: 0.021172645138787055\n",
      "lag: 17 error: 0.019677172202850667 error_test: 0.021646332801143826\n",
      "lag: 18 error: 0.02130325983210773 error_test: 0.02337393374743504\n",
      "lag: 19 error: 0.0186653651112265 error_test: 0.023810161808554643\n",
      "lag: 20 error: 0.013265042384262238 error_test: 0.02157110836482366\n",
      "lag: 21 error: 0.011797063982513597 error_test: 0.018511509708245028\n",
      "lag: 22 error: 0.014431233150291777 error_test: 0.019578052712777464\n",
      "lag: 23 error: 0.01541104846949185 error_test: 0.018313559480431646\n",
      "lag: 24 error: 0.017914932469989292 error_test: 0.017472090062237013\n"
     ]
    }
   ],
   "source": [
    "error_train = []\n",
    "error_test = []\n",
    "\n",
    "for i in range(n_clusters):\n",
    "\n",
    "    index = list(clusters[month-1] == i)\n",
    "    sub_series = series[index]\n",
    "    sub_series = np.sum(sub_series, axis=0)\n",
    "    test = sub_series[:, -168:]\n",
    "    train = sub_series[:, :-168]\n",
    "\n",
    "    scale = np.zeros(2)\n",
    "    scale[0] = np.max(train)\n",
    "    scale[1] = np.min(train)\n",
    "    train = (train - scale[1])/(scale[0] - scale[1])\n",
    "    test = (test - scale[1])/(scale[0] - scale[1])\n",
    "\n",
    "    # recency effect\n",
    "    for lag in range(1,25):\n",
    "        d = 1\n",
    "\n",
    "        trainX, trainY = get_train_set_(train, lag, d)\n",
    "        testX, testY = get_test_set_(train, test, lag, d)\n",
    "\n",
    "        # Parameters\n",
    "        ker = 'rbf'\n",
    "        epsi = 0.001\n",
    "        tol = 1e-10\n",
    "\n",
    "        X_train, X_val, y_train, y_val = train_test_split(trainX, trainY, test_size=0.3, random_state=3)\n",
    "\n",
    "        Cs = np.arange(1, 4.5, 0.1)\n",
    "        pars = np.arange(1, 64, 1)\n",
    "        error = np.zeros((len(Cs), len(pars)))\n",
    "        \n",
    "        error_test = np.zeros((len(Cs), len(pars)))\n",
    "        \n",
    "        for i in range(len(Cs)):\n",
    "            for j in range(len(pars)):\n",
    "\n",
    "                C = Cs[i]\n",
    "                par = pars[j]\n",
    "\n",
    "                # Train\n",
    "                Beta = msvr(X_train, y_train, ker, C, epsi, par, tol)\n",
    "\n",
    "                # Predict with test set\n",
    "                K = kernelmatrix('rbf', X_val, X_train, par)\n",
    "                pred = np.dot(K, Beta)\n",
    "                \n",
    "                # Predict with test set\n",
    "                K = kernelmatrix('rbf', testX, X_train, par)\n",
    "                pred_test = np.dot(K, Beta)\n",
    "\n",
    "                error[i][j] = np.mean(np.sum((pred - y_val)**2, axis=1))\n",
    "                \n",
    "                error_test[i][j] = np.mean(np.sum((pred_test - testY)**2, axis=1))\n",
    "                \n",
    "        print('lag:', lag, 'error:', np.min(error), 'error_test:', np.min(error_test))\n",
    "    \n",
    "    break"
   ]
  },
  {
   "cell_type": "code",
   "execution_count": 5,
   "metadata": {},
   "outputs": [
    {
     "data": {
      "text/plain": [
       "0.004659829768993877"
      ]
     },
     "execution_count": 5,
     "metadata": {},
     "output_type": "execute_result"
    }
   ],
   "source": [
    "np.min(error)"
   ]
  },
  {
   "cell_type": "code",
   "execution_count": 6,
   "metadata": {},
   "outputs": [
    {
     "data": {
      "text/plain": [
       "(array([4]), array([8]))"
      ]
     },
     "execution_count": 6,
     "metadata": {},
     "output_type": "execute_result"
    }
   ],
   "source": [
    "np.where(error==np.min(error))"
   ]
  },
  {
   "cell_type": "code",
   "execution_count": 7,
   "metadata": {},
   "outputs": [
    {
     "data": {
      "text/plain": [
       "1.4000000000000004"
      ]
     },
     "execution_count": 7,
     "metadata": {},
     "output_type": "execute_result"
    }
   ],
   "source": [
    "Cs[4]"
   ]
  },
  {
   "cell_type": "code",
   "execution_count": 8,
   "metadata": {},
   "outputs": [
    {
     "data": {
      "text/plain": [
       "9"
      ]
     },
     "execution_count": 8,
     "metadata": {},
     "output_type": "execute_result"
    }
   ],
   "source": [
    "pars[8]"
   ]
  }
 ],
 "metadata": {
  "kernelspec": {
   "display_name": "Python 3",
   "language": "python",
   "name": "python3"
  },
  "language_info": {
   "codemirror_mode": {
    "name": "ipython",
    "version": 3
   },
   "file_extension": ".py",
   "mimetype": "text/x-python",
   "name": "python",
   "nbconvert_exporter": "python",
   "pygments_lexer": "ipython3",
   "version": "3.7.3"
  }
 },
 "nbformat": 4,
 "nbformat_minor": 2
}
