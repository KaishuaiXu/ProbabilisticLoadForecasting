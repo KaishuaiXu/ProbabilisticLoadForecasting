{
 "cells": [
  {
   "cell_type": "code",
   "execution_count": 5,
   "metadata": {},
   "outputs": [],
   "source": [
    "import numpy as np\n",
    "import pandas as pd\n",
    "import os\n",
    "from tqdm import trange\n",
    "from sklearn.model_selection import train_test_split\n",
    "\n",
    "from dataloader import get_train_set_, get_test_set_\n",
    "from msvr import kernelmatrix\n",
    "from msvr import msvr\n",
    "\n",
    "months = [31, 28, 31, 30, 31, 30, 31, 31, 30, 31, 30, 31]"
   ]
  },
  {
   "cell_type": "code",
   "execution_count": 2,
   "metadata": {},
   "outputs": [
    {
     "name": "stderr",
     "output_type": "stream",
     "text": [
      "100%|██████████| 918/918 [00:29<00:00, 30.75it/s]\n"
     ]
    }
   ],
   "source": [
    "method = 'hierarchical/euclidean'\n",
    "data_set = 'Irish_2010'\n",
    "month = 1\n",
    "n_clusters = 2\n",
    "\n",
    "path = os.path.abspath(os.path.join(os.getcwd(), '../..'))\n",
    "\n",
    "attr = pd.read_csv(os.path.join(path, 'data', f'{data_set}_attr_final.csv'))\n",
    "data = []\n",
    "for i in trange(len(attr)):\n",
    "    id = attr['ID'][i]\n",
    "    df = pd.read_csv(os.path.join(path, 'data', f'{data_set}_monthly_interval', f'{id}.csv'), header = None).values\n",
    "    data.append(df)\n",
    "data = np.array(data)"
   ]
  },
  {
   "cell_type": "code",
   "execution_count": 27,
   "metadata": {},
   "outputs": [],
   "source": [
    "path_cluster = os.path.join(path, 'result', data_set, 'clustering', 'interval', method, f'n_clusters_{n_clusters}.csv')\n",
    "clusters = pd.read_csv(path_cluster, header=None)\n",
    "\n",
    "series = data[:, (month-1)*2:month*2, :months[month-1]*24]"
   ]
  },
  {
   "cell_type": "code",
   "execution_count": 48,
   "metadata": {},
   "outputs": [],
   "source": [
    "error_train = []\n",
    "error_test = []\n",
    "\n",
    "for i in range(1, n_clusters):\n",
    "\n",
    "    index = list(clusters[month-1] == i)\n",
    "    sub_series = series[index]\n",
    "    sub_series = np.sum(sub_series, axis=0)\n",
    "    test = sub_series[:, -168:]\n",
    "    train = sub_series[:, :-168]\n",
    "\n",
    "    scale = np.zeros(2)\n",
    "    scale[0] = np.max(train)\n",
    "    scale[1] = np.min(train)\n",
    "    train = (train - scale[1])/(scale[0] - scale[1])\n",
    "    test = (test - scale[1])/(scale[0] - scale[1])\n",
    "\n",
    "    # recency effect\n",
    "    lag = 24\n",
    "    d = 1\n",
    "\n",
    "    trainX, trainY = get_train_set_(train, lag, d)\n",
    "    testX, testY = get_test_set_(train, test, lag, d)\n",
    "    \n",
    "    # Parameters\n",
    "    ker = 'rbf'\n",
    "    epsi = 0.001\n",
    "    tol = 1e-10\n",
    "    \n",
    "    X_train, X_val, y_train, y_val = train_test_split(trainX, trainY, test_size=0.3, random_state=3)\n",
    "    \n",
    "    Cs = np.arange(3.5, 4.5, 0.05)\n",
    "    pars = np.arange(16, 64, 1)\n",
    "    error = np.zeros((len(Cs), len(pars)))\n",
    "    for i in range(len(Cs)):\n",
    "        for j in range(len(pars)):\n",
    "            \n",
    "            C = Cs[i]\n",
    "            par = pars[j]\n",
    "            \n",
    "            # Train\n",
    "            Beta = msvr(X_train, y_train, ker, C, epsi, par, tol)\n",
    "            \n",
    "            # Predict with test set\n",
    "            K = kernelmatrix('rbf', X_val, X_train, par)\n",
    "            pred = np.dot(K, Beta)\n",
    "            \n",
    "            error[i][j] = np.mean(np.sum((pred - y_val)**2, axis=1))\n",
    "    \n",
    "    break"
   ]
  },
  {
   "cell_type": "code",
   "execution_count": 49,
   "metadata": {},
   "outputs": [
    {
     "data": {
      "text/plain": [
       "0.027623616219600463"
      ]
     },
     "execution_count": 49,
     "metadata": {},
     "output_type": "execute_result"
    }
   ],
   "source": [
    "np.min(error)"
   ]
  },
  {
   "cell_type": "code",
   "execution_count": 50,
   "metadata": {},
   "outputs": [
    {
     "data": {
      "text/plain": [
       "(array([0]), array([35]))"
      ]
     },
     "execution_count": 50,
     "metadata": {},
     "output_type": "execute_result"
    }
   ],
   "source": [
    "np.where(error==np.min(error))"
   ]
  },
  {
   "cell_type": "code",
   "execution_count": null,
   "metadata": {},
   "outputs": [],
   "source": []
  }
 ],
 "metadata": {
  "kernelspec": {
   "display_name": "Python 3",
   "language": "python",
   "name": "python3"
  },
  "language_info": {
   "codemirror_mode": {
    "name": "ipython",
    "version": 3
   },
   "file_extension": ".py",
   "mimetype": "text/x-python",
   "name": "python",
   "nbconvert_exporter": "python",
   "pygments_lexer": "ipython3",
   "version": "3.7.3"
  }
 },
 "nbformat": 4,
 "nbformat_minor": 2
}
