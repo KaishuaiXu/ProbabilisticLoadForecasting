{
 "cells": [
  {
   "cell_type": "code",
   "execution_count": 1,
   "metadata": {},
   "outputs": [],
   "source": [
    "import numpy as np\n",
    "import pandas as pd\n",
    "import os\n",
    "from sklearn.model_selection import train_test_split\n",
    "\n",
    "from dataloader import get_train_set_msvr, get_test_set_msvr, get_data\n",
    "from msvr import kernelmatrix\n",
    "from msvr import msvr\n",
    "\n",
    "months = [31, 28, 31, 30, 31, 30, 31, 31, 30, 31, 30, 31]"
   ]
  },
  {
   "cell_type": "code",
   "execution_count": 2,
   "metadata": {},
   "outputs": [
    {
     "name": "stderr",
     "output_type": "stream",
     "text": [
      "100%|██████████| 2002/2002 [01:05<00:00, 30.69it/s]\n"
     ]
    }
   ],
   "source": [
    "data_set = 'London_2013'\n",
    "path = os.path.abspath(os.path.join(os.getcwd(), '../..'))\n",
    "\n",
    "data = get_data(path, data_set)"
   ]
  },
  {
   "cell_type": "code",
   "execution_count": 3,
   "metadata": {},
   "outputs": [],
   "source": [
    "month = 6\n",
    "n_clusters = 3\n",
    "method = 'hierarchical/hausdorff'\n",
    "\n",
    "path_cluster = os.path.join(path, 'result', data_set, 'clustering', 'interval', method, f'n_clusters_{n_clusters}.csv')\n",
    "clusters = pd.read_csv(path_cluster, header=None)\n",
    "\n",
    "series = data[:, (month-1)*2:month*2, :months[month-1]*24]"
   ]
  },
  {
   "cell_type": "code",
   "execution_count": 6,
   "metadata": {},
   "outputs": [
    {
     "name": "stderr",
     "output_type": "stream",
     "text": [
      "/Users/kaishuai/Desktop/ProbabilisticLoadForecasting/forecasting/interval/msvr.py:42: RuntimeWarning: divide by zero encountered in true_divide\n",
      "  a = 2 * C * (u - epsi) / u\n"
     ]
    },
    {
     "name": "stdout",
     "output_type": "stream",
     "text": [
      "lag: 24 , error: 2.407957045672262 , error_test: 0.6208092134394134 , C: 0.5 , sigma: 1.0\n"
     ]
    }
   ],
   "source": [
    "error_train = []\n",
    "error_test = []\n",
    "\n",
    "for i in range(2,n_clusters):\n",
    "\n",
    "    index = list(clusters[month-1] == i)\n",
    "    sub_series = series[index]\n",
    "    sub_series = np.sum(sub_series, axis=0)\n",
    "    test = sub_series[:, -168:]\n",
    "    train = sub_series[:, :-168]\n",
    "\n",
    "    scale = np.zeros(2)\n",
    "    scale[0] = np.max(train)\n",
    "    scale[1] = np.min(train)\n",
    "    train = (train - scale[1])/(scale[0] - scale[1])\n",
    "    test = (test - scale[1])/(scale[0] - scale[1])\n",
    "\n",
    "    # recency effect\n",
    "    lag = 24\n",
    "    d = 1\n",
    "\n",
    "    trainX, trainY = get_train_set_msvr(train, lag, d)\n",
    "    testX, testY = get_test_set_msvr(train, test, lag, d)\n",
    "\n",
    "    # Parameters\n",
    "    ker = 'rbf'\n",
    "    epsi = 0.001\n",
    "    tol = 1e-10\n",
    "    min_error = float('inf')\n",
    "\n",
    "    Cs = np.arange(0.1, 4.7, 0.1)\n",
    "    pars = np.arange(1, 64, 1)\n",
    "    best_params = np.zeros(2)\n",
    "    for i in range(len(Cs)):\n",
    "        for j in range(len(pars)):\n",
    "\n",
    "            C = Cs[i]\n",
    "            par = pars[j]\n",
    "\n",
    "            # Train\n",
    "            Beta = msvr(trainX, trainY, ker, C, epsi, par, tol)\n",
    "\n",
    "            # Predict\n",
    "            K = kernelmatrix('rbf', trainX, trainX, par)\n",
    "            pred = np.dot(K, Beta)\n",
    "\n",
    "            error = np.sum((pred - trainY)**2)\n",
    "            if error < min_error:\n",
    "                min_error = error\n",
    "\n",
    "                best_params[0] = C\n",
    "                best_params[1] = par\n",
    "\n",
    "                K = kernelmatrix('rbf', testX, trainX, par)\n",
    "                pred_test = np.dot(K, Beta)\n",
    "\n",
    "                best_beta = Beta\n",
    "                best_pred = pred_test\n",
    "\n",
    "    print('lag:', lag, ', error:', min_error, ', error_test:', np.sum((best_pred - testY)**2), ', C:', best_params[0], ', sigma:', best_params[1])\n",
    "    \n",
    "    break"
   ]
  },
  {
   "cell_type": "code",
   "execution_count": 134,
   "metadata": {},
   "outputs": [],
   "source": [
    "def params_search(c_start, c_end, c_step, p_start, p_end, p_step, trainX, trainY, testX):\n",
    "\n",
    "    # Parameters\n",
    "    ker = 'rbf'\n",
    "    epsi = 0.001\n",
    "    tol = 1e-10\n",
    "    min_error = float('inf')\n",
    "\n",
    "    Cs = np.arange(c_start, c_end, c_step)\n",
    "    pars = np.arange(p_start, p_end, p_step)\n",
    "    best_params = np.zeros(2)\n",
    "    for i in range(len(Cs)):\n",
    "        for j in range(len(pars)):\n",
    "\n",
    "            C = Cs[i]\n",
    "            par = pars[j]\n",
    "\n",
    "            # Train\n",
    "            Beta = msvr(trainX, trainY, ker, C, epsi, par, tol)\n",
    "\n",
    "            # Predict\n",
    "            K = kernelmatrix('rbf', trainX, trainX, par)\n",
    "            pred = np.dot(K, Beta)\n",
    "\n",
    "            error = np.sum((pred - trainY)**2)\n",
    "            if error < min_error:\n",
    "                min_error = error\n",
    "                \n",
    "                best_params[0] = C\n",
    "                best_params[1] = par\n",
    "\n",
    "                K = kernelmatrix('rbf', testX, trainX, par)\n",
    "                pred_test = np.dot(K, Beta)\n",
    "                \n",
    "                best_beta = Beta\n",
    "                best_pred = pred_test\n",
    "    \n",
    "    return best_params, best_beta, best_pred\n",
    "\n",
    "def train_model(trainX, trainY, testX):\n",
    "\n",
    "    best_params, best_beta, best_pred = params_search(0.1, 4.7, 0.5, 1, 64, 2, trainX, trainY, testX)\n",
    "    best_params, best_beta, best_pred = params_search(np.maximum(0.1, best_params[0]-0.5), best_params[0]+0.6, 0.1, np.maximum(1, best_params[1]-2), best_params[1]+3, 1, trainX, trainY, testX)\n",
    "\n",
    "    return best_params, best_beta, best_pred"
   ]
  },
  {
   "cell_type": "code",
   "execution_count": 135,
   "metadata": {},
   "outputs": [
    {
     "name": "stdout",
     "output_type": "stream",
     "text": [
      "1.5361708045293347\n"
     ]
    }
   ],
   "source": [
    "# error\n",
    "\n",
    "best_params, best_beta, best_pred = train_model(trainX, trainY, testX)\n",
    "print(np.sum((best_pred - testY)**2))"
   ]
  },
  {
   "cell_type": "code",
   "execution_count": 115,
   "metadata": {},
   "outputs": [
    {
     "name": "stdout",
     "output_type": "stream",
     "text": [
      "5.580226001509968\n"
     ]
    }
   ],
   "source": [
    "# example\n",
    "\n",
    "C = 0.1\n",
    "par = 2\n",
    "Beta = msvr(trainX, trainY, ker, C, epsi, par, tol)\n",
    "K = kernelmatrix('rbf', testX, trainX, par)\n",
    "pred_test = np.dot(K, Beta)\n",
    "print(np.sum((pred_test - testY)**2))"
   ]
  },
  {
   "cell_type": "code",
   "execution_count": null,
   "metadata": {},
   "outputs": [],
   "source": []
  }
 ],
 "metadata": {
  "kernelspec": {
   "display_name": "Python 3",
   "language": "python",
   "name": "python3"
  },
  "language_info": {
   "codemirror_mode": {
    "name": "ipython",
    "version": 3
   },
   "file_extension": ".py",
   "mimetype": "text/x-python",
   "name": "python",
   "nbconvert_exporter": "python",
   "pygments_lexer": "ipython3",
   "version": "3.7.3"
  }
 },
 "nbformat": 4,
 "nbformat_minor": 2
}
