{
 "cells": [
  {
   "cell_type": "code",
   "execution_count": 1,
   "metadata": {},
   "outputs": [],
   "source": [
    "import numpy as np\n",
    "import pandas as pd\n",
    "import os\n",
    "from datetime import datetime\n",
    "\n",
    "path = os.path.abspath(os.path.join(os.getcwd(), '../..'))\n",
    "months = [31, 28, 31, 30, 31, 30, 31, 31, 30, 31, 30, 31]"
   ]
  },
  {
   "cell_type": "markdown",
   "metadata": {},
   "source": [
    "## Load data"
   ]
  },
  {
   "cell_type": "code",
   "execution_count": 2,
   "metadata": {},
   "outputs": [],
   "source": [
    "data_set = 'Irish_2010'\n",
    "year = '2010'\n",
    "method = 'kmeans'\n",
    "num_clusters = 1\n",
    "month = 1\n",
    "\n",
    "# load series (n clusters)\n",
    "df = pd.read_csv(path + '/result/' + data_set + '/clustering/point/' + method + '/month_' + str(month) + '_series_' + str(num_clusters) + '.csv', header=None)\n",
    "\n",
    "# weather series\n",
    "weather_48 = pd.read_csv(path + '/data/weather/weather_' + data_set + '_cleaned.csv')['T'].values\n",
    "weather_24 = []\n",
    "for i in range(int(len(weather_48)/2)):\n",
    "    weather_24.append((weather_48[i*2] + weather_48[i*2+1])/2)\n",
    "weather_24 = np.array(weather_24)\n",
    "\n",
    "weather = []\n",
    "for i in range(12):\n",
    "    weather.append(weather_24[sum(months[:i])*24:sum(months[:i+1])*24])\n",
    "weather = np.array(weather)"
   ]
  },
  {
   "cell_type": "code",
   "execution_count": 3,
   "metadata": {},
   "outputs": [],
   "source": [
    "# Generate calendar series (week)\n",
    "week = []\n",
    "for i in range(months[month-1]):\n",
    "    week_value = datetime.strptime(year + '%02d%02d' %(month, i+1), '%Y%m%d').weekday()\n",
    "    for _ in range(24):\n",
    "        week.append(week_value)\n",
    "\n",
    "week_01 = np.eye(7)[week]"
   ]
  },
  {
   "cell_type": "code",
   "execution_count": 4,
   "metadata": {},
   "outputs": [],
   "source": [
    "# Generate calendar series (day)\n",
    "day = []\n",
    "for i in range(months[month-1]):\n",
    "    for _ in range(24):\n",
    "        day.append(_)\n",
    "\n",
    "day_01 = np.eye(24)[day]"
   ]
  },
  {
   "cell_type": "code",
   "execution_count": 5,
   "metadata": {},
   "outputs": [],
   "source": [
    "# Generate calendar series (week * day)\n",
    "weekday_01 = np.zeros((months[month-1] * 24, 168))\n",
    "for i in range(len(weekday_01)):\n",
    "    weekday_01[i][week[i]*24+day[i]] = 1"
   ]
  },
  {
   "cell_type": "markdown",
   "metadata": {},
   "source": [
    "## Construct the training, validation and test set"
   ]
  },
  {
   "cell_type": "code",
   "execution_count": 7,
   "metadata": {},
   "outputs": [],
   "source": [
    "cluster = 0   # 0, 1, ..., num_clusters-1\n",
    "\n",
    "# load series (series of a specific cluster)\n",
    "series = df.values[cluster].reshape(months[month-1]*24, 1).shape"
   ]
  },
  {
   "cell_type": "markdown",
   "metadata": {},
   "source": [
    "## QRA (Step 1)"
   ]
  },
  {
   "cell_type": "code",
   "execution_count": 6,
   "metadata": {},
   "outputs": [
    {
     "name": "stderr",
     "output_type": "stream",
     "text": [
      "Using TensorFlow backend.\n"
     ]
    }
   ],
   "source": [
    "from keras.layers import Dense\n",
    "from keras.models import Sequential"
   ]
  },
  {
   "cell_type": "code",
   "execution_count": 22,
   "metadata": {},
   "outputs": [],
   "source": [
    "# Build linear model\n",
    "input_dim = 100\n",
    "model = Sequential([Dense(1, input_shape=(input_dim,))])"
   ]
  },
  {
   "cell_type": "code",
   "execution_count": 23,
   "metadata": {},
   "outputs": [],
   "source": [
    "# Train\n",
    "model.compile(loss='mean_squared_error', optimizer='adam', metrics=['accuracy'])\n",
    "model.fit(Xtrain, Ytrain, epochs=10)"
   ]
  },
  {
   "cell_type": "markdown",
   "metadata": {},
   "source": [
    "## QRA (Step 2)"
   ]
  },
  {
   "cell_type": "code",
   "execution_count": 8,
   "metadata": {},
   "outputs": [],
   "source": [
    "def quantile_loss(y_true, y_pred, q):\n",
    "    tmp1 = (q / 100 - 1) * (y_true - y_pred)\n",
    "    tmp2 = q / 100 * (y_true - y_pred)\n",
    "    return K.mean(K.maximum(tmp1, tmp2))"
   ]
  },
  {
   "cell_type": "code",
   "execution_count": 11,
   "metadata": {},
   "outputs": [],
   "source": [
    "# Build qr model\n",
    "input_dim = 8\n",
    "model = Sequential([Dense(1, input_shape=(input_dim,))])"
   ]
  },
  {
   "cell_type": "code",
   "execution_count": null,
   "metadata": {},
   "outputs": [],
   "source": [
    "# Train\n",
    "model.compile(loss=lambda y_true, y_pred: quantile_loss(y_ture, y_pred, q), optimizer='adam')"
   ]
  }
 ],
 "metadata": {
  "kernelspec": {
   "display_name": "Python 3",
   "language": "python",
   "name": "python3"
  },
  "language_info": {
   "codemirror_mode": {
    "name": "ipython",
    "version": 3
   },
   "file_extension": ".py",
   "mimetype": "text/x-python",
   "name": "python",
   "nbconvert_exporter": "python",
   "pygments_lexer": "ipython3",
   "version": "3.7.3"
  }
 },
 "nbformat": 4,
 "nbformat_minor": 2
}
