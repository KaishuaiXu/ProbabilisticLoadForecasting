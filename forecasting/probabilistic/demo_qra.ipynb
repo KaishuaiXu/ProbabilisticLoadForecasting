{
 "cells": [
  {
   "cell_type": "code",
   "execution_count": 2,
   "metadata": {},
   "outputs": [],
   "source": [
    "import numpy as np\n",
    "import pandas as pd\n",
    "import os\n",
    "from datetime import datetime\n",
    "\n",
    "path = os.path.abspath(os.path.join(os.getcwd(), '../..'))\n",
    "months = [31, 28, 31, 30, 31, 30, 31, 31, 30, 31, 30, 31]"
   ]
  },
  {
   "cell_type": "markdown",
   "metadata": {},
   "source": [
    "## Load data"
   ]
  },
  {
   "cell_type": "code",
   "execution_count": 5,
   "metadata": {},
   "outputs": [],
   "source": [
    "data_set = 'Irish_2010'\n",
    "year = '2010'\n",
    "method = 'kmeans'\n",
    "num_clusters = 1\n",
    "month = 2\n",
    "\n",
    "# load series (n clusters)\n",
    "df = pd.read_csv(path + '/result/' + data_set + '/clustering/point/' + method + '/month_' + str(month) + '_series_' + str(num_clusters) + '.csv', header=None)\n",
    "\n",
    "# weather series\n",
    "weather_48 = pd.read_csv(path + '/data/weather/weather_' + data_set + '_cleaned.csv')['T'].values\n",
    "weather_24 = []\n",
    "for i in range(int(len(weather_48)/2)):\n",
    "    weather_24.append((weather_48[i*2] + weather_48[i*2+1])/2)\n",
    "weather_24 = np.array(weather_24)\n",
    "\n",
    "weather = []\n",
    "for i in range(12):\n",
    "    weather.append(weather_24[sum(months[:i])*24:sum(months[:i+1])*24])\n",
    "weather = np.array(weather)"
   ]
  },
  {
   "cell_type": "code",
   "execution_count": 3,
   "metadata": {},
   "outputs": [],
   "source": [
    "# Generate calendar series (week)\n",
    "week = []\n",
    "for i in range(months[month-1]):\n",
    "    week_value = datetime.strptime(year + '%02d%02d' %(month, i+1), '%Y%m%d').weekday()\n",
    "    for _ in range(24):\n",
    "        week.append(week_value)\n",
    "\n",
    "week_01 = np.eye(7)[week]"
   ]
  },
  {
   "cell_type": "code",
   "execution_count": 4,
   "metadata": {},
   "outputs": [],
   "source": [
    "# Generate calendar series (day)\n",
    "day = []\n",
    "for i in range(months[month-1]):\n",
    "    for _ in range(24):\n",
    "        day.append(_)\n",
    "\n",
    "day_01 = np.eye(24)[day]"
   ]
  },
  {
   "cell_type": "code",
   "execution_count": 5,
   "metadata": {},
   "outputs": [],
   "source": [
    "# Generate calendar series (week * day)\n",
    "weekday_01 = np.zeros((months[month-1] * 24, 168))\n",
    "for i in range(len(weekday_01)):\n",
    "    weekday_01[i][week[i]*24+day[i]] = 1"
   ]
  },
  {
   "cell_type": "markdown",
   "metadata": {},
   "source": [
    "## Construct the training, validation and test set"
   ]
  },
  {
   "cell_type": "code",
   "execution_count": 6,
   "metadata": {},
   "outputs": [],
   "source": [
    "cluster = 0   # 0, 1, ..., num_clusters-1\n",
    "\n",
    "# load series (series of a specific cluster)\n",
    "series = df.values[cluster].reshape(months[month-1]*24, 1).shape"
   ]
  },
  {
   "cell_type": "code",
   "execution_count": 7,
   "metadata": {},
   "outputs": [
    {
     "data": {
      "text/html": [
       "<div>\n",
       "<style scoped>\n",
       "    .dataframe tbody tr th:only-of-type {\n",
       "        vertical-align: middle;\n",
       "    }\n",
       "\n",
       "    .dataframe tbody tr th {\n",
       "        vertical-align: top;\n",
       "    }\n",
       "\n",
       "    .dataframe thead th {\n",
       "        text-align: right;\n",
       "    }\n",
       "</style>\n",
       "<table border=\"1\" class=\"dataframe\">\n",
       "  <thead>\n",
       "    <tr style=\"text-align: right;\">\n",
       "      <th></th>\n",
       "      <th>0</th>\n",
       "      <th>1</th>\n",
       "      <th>2</th>\n",
       "      <th>3</th>\n",
       "      <th>4</th>\n",
       "      <th>5</th>\n",
       "      <th>6</th>\n",
       "      <th>7</th>\n",
       "      <th>8</th>\n",
       "      <th>9</th>\n",
       "      <th>...</th>\n",
       "      <th>662</th>\n",
       "      <th>663</th>\n",
       "      <th>664</th>\n",
       "      <th>665</th>\n",
       "      <th>666</th>\n",
       "      <th>667</th>\n",
       "      <th>668</th>\n",
       "      <th>669</th>\n",
       "      <th>670</th>\n",
       "      <th>671</th>\n",
       "    </tr>\n",
       "  </thead>\n",
       "  <tbody>\n",
       "    <tr>\n",
       "      <th>0</th>\n",
       "      <td>637.91</td>\n",
       "      <td>473.311</td>\n",
       "      <td>383.219</td>\n",
       "      <td>363.884</td>\n",
       "      <td>361.745</td>\n",
       "      <td>382.678</td>\n",
       "      <td>530.279</td>\n",
       "      <td>930.843</td>\n",
       "      <td>1068.049</td>\n",
       "      <td>930.635</td>\n",
       "      <td>...</td>\n",
       "      <td>1239.639</td>\n",
       "      <td>1167.65</td>\n",
       "      <td>1225.524</td>\n",
       "      <td>1366.894</td>\n",
       "      <td>1636.899</td>\n",
       "      <td>1712.417</td>\n",
       "      <td>1648.714</td>\n",
       "      <td>1480.097</td>\n",
       "      <td>1252.569</td>\n",
       "      <td>895.69</td>\n",
       "    </tr>\n",
       "  </tbody>\n",
       "</table>\n",
       "<p>1 rows × 672 columns</p>\n",
       "</div>"
      ],
      "text/plain": [
       "      0        1        2        3        4        5        6        7    \\\n",
       "0  637.91  473.311  383.219  363.884  361.745  382.678  530.279  930.843   \n",
       "\n",
       "        8        9    ...       662      663       664       665       666  \\\n",
       "0  1068.049  930.635  ...  1239.639  1167.65  1225.524  1366.894  1636.899   \n",
       "\n",
       "        667       668       669       670     671  \n",
       "0  1712.417  1648.714  1480.097  1252.569  895.69  \n",
       "\n",
       "[1 rows x 672 columns]"
      ]
     },
     "execution_count": 7,
     "metadata": {},
     "output_type": "execute_result"
    }
   ],
   "source": [
    "df"
   ]
  },
  {
   "cell_type": "markdown",
   "metadata": {},
   "source": [
    "## QRA (Step 1)"
   ]
  },
  {
   "cell_type": "code",
   "execution_count": 6,
   "metadata": {},
   "outputs": [
    {
     "name": "stderr",
     "output_type": "stream",
     "text": [
      "Using TensorFlow backend.\n"
     ]
    }
   ],
   "source": [
    "from keras.layers import Dense\n",
    "from keras.models import Sequential"
   ]
  },
  {
   "cell_type": "code",
   "execution_count": 22,
   "metadata": {},
   "outputs": [],
   "source": [
    "# Build linear model\n",
    "input_dim = 100\n",
    "model = Sequential([Dense(1, input_shape=(input_dim,))])"
   ]
  },
  {
   "cell_type": "code",
   "execution_count": 23,
   "metadata": {},
   "outputs": [],
   "source": [
    "# Train\n",
    "model.compile(loss='mean_squared_error', optimizer='adam', metrics=['accuracy'])\n",
    "model.fit(Xtrain, Ytrain, epochs=10)"
   ]
  },
  {
   "cell_type": "markdown",
   "metadata": {},
   "source": [
    "## QRA (Step 2)"
   ]
  },
  {
   "cell_type": "code",
   "execution_count": 8,
   "metadata": {},
   "outputs": [],
   "source": [
    "def quantile_loss(y_true, y_pred, q):\n",
    "    tmp1 = (q / 100 - 1) * (y_true - y_pred)\n",
    "    tmp2 = q / 100 * (y_true - y_pred)\n",
    "    return K.mean(K.maximum(tmp1, tmp2))"
   ]
  },
  {
   "cell_type": "code",
   "execution_count": 11,
   "metadata": {},
   "outputs": [],
   "source": [
    "# Build qr model\n",
    "input_dim = 8\n",
    "model = Sequential([Dense(1, input_shape=(input_dim,))])"
   ]
  },
  {
   "cell_type": "code",
   "execution_count": null,
   "metadata": {},
   "outputs": [],
   "source": [
    "# Train\n",
    "model.compile(loss=lambda y_true, y_pred: quantile_loss(y_ture, y_pred, q), optimizer='adam')"
   ]
  }
 ],
 "metadata": {
  "kernelspec": {
   "display_name": "Python 3",
   "language": "python",
   "name": "python3"
  },
  "language_info": {
   "codemirror_mode": {
    "name": "ipython",
    "version": 3
   },
   "file_extension": ".py",
   "mimetype": "text/x-python",
   "name": "python",
   "nbconvert_exporter": "python",
   "pygments_lexer": "ipython3",
   "version": "3.7.3"
  }
 },
 "nbformat": 4,
 "nbformat_minor": 2
}
