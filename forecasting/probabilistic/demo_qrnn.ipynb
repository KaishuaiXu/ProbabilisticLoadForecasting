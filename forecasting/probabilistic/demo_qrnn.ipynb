{
 "cells": [
  {
   "cell_type": "code",
   "execution_count": 6,
   "metadata": {},
   "outputs": [],
   "source": [
    "from qrnn import get_model\n",
    "import numpy as np\n",
    "\n",
    "# Generate the synthetic data\n",
    "x1 = np.sin(np.arange(0, 9, 0.01))\n",
    "x2 = np.cos(np.arange(0, 9, 0.01))\n",
    "x3 = x1**2\n",
    "x4 = (x1+x2)/2\n",
    "\n",
    "Xtrain = np.vstack((x2, x3, x4)).T\n",
    "Ytrain = np.array([x1]*99).T"
   ]
  },
  {
   "cell_type": "code",
   "execution_count": null,
   "metadata": {
    "scrolled": false
   },
   "outputs": [],
   "source": [
    "# Parameters\n",
    "input_dim = 3\n",
    "num_hidden_layers = 1\n",
    "num_units = [200]\n",
    "act = ['relu']\n",
    "gauss_std = 0.3\n",
    "\n",
    "# Get model\n",
    "model = get_model(input_dim, num_units, act, gauss_std, num_hidden_layers)\n",
    "\n",
    "# Train\n",
    "model.fit(x=Xtrain, y=Ytrain, epochs=10)"
   ]
  },
  {
   "cell_type": "code",
   "execution_count": 45,
   "metadata": {},
   "outputs": [],
   "source": [
    "import numpy as np\n",
    "import pandas as pd\n",
    "import os\n",
    "\n",
    "from qrnn import get_model\n",
    "from dataloader import get_data\n",
    "\n",
    "months = [31, 28, 31, 30, 31, 30, 31, 31, 30, 31, 30, 31]"
   ]
  },
  {
   "cell_type": "code",
   "execution_count": 47,
   "metadata": {},
   "outputs": [
    {
     "name": "stderr",
     "output_type": "stream",
     "text": [
      "100%|██████████| 918/918 [00:28<00:00, 32.04it/s]\n"
     ]
    }
   ],
   "source": [
    "data_set = 'Irish_2010'\n",
    "path = os.path.abspath(os.path.join(os.getcwd(), '../..'))\n",
    "\n",
    "data = get_data(path, data_set)"
   ]
  },
  {
   "cell_type": "code",
   "execution_count": 26,
   "metadata": {},
   "outputs": [],
   "source": [
    "month = 1\n",
    "n_clusters = 2\n",
    "method = 'hierarchical/euclidean'\n",
    "\n",
    "path_cluster = os.path.join(path, 'result', data_set, 'clustering', 'point', method, f'n_clusters_{n_clusters}.csv')\n",
    "clusters = pd.read_csv(path_cluster, header=None)\n",
    "\n",
    "series = data[:, month-1, :months[month-1]*24]"
   ]
  },
  {
   "cell_type": "code",
   "execution_count": 43,
   "metadata": {},
   "outputs": [],
   "source": [
    "for i in range(1, n_clusters):\n",
    "\n",
    "    index = list(clusters[month-1] == i)\n",
    "    sub_series = series[index]\n",
    "    sub_series = np.sum(sub_series, axis=0)\n",
    "    test = sub_series[-168:]\n",
    "    train = sub_series[:-168]\n",
    "\n",
    "    scale = np.zeros(2)\n",
    "    scale[0] = np.max(train)\n",
    "    scale[1] = np.min(train)\n",
    "    train = (train - scale[1])/(scale[0] - scale[1])\n",
    "    test = (test - scale[1])/(scale[0] - scale[1])\n",
    "    \n",
    "    # Parameters\n",
    "    input_dim = 3\n",
    "    num_hidden_layers = 1\n",
    "    num_units = [200]\n",
    "    act = ['relu']\n",
    "    gauss_std = 0.3\n",
    "\n",
    "    # Get model\n",
    "    model = get_model(input_dim, num_units, act, gauss_std, num_hidden_layers)\n",
    "\n",
    "    # Train\n",
    "    model.fit(x=Xtrain, y=Ytrain, epochs=10)\n",
    "    \n",
    "    break"
   ]
  },
  {
   "cell_type": "code",
   "execution_count": null,
   "metadata": {},
   "outputs": [],
   "source": []
  }
 ],
 "metadata": {
  "kernelspec": {
   "display_name": "Python 3",
   "language": "python",
   "name": "python3"
  },
  "language_info": {
   "codemirror_mode": {
    "name": "ipython",
    "version": 3
   },
   "file_extension": ".py",
   "mimetype": "text/x-python",
   "name": "python",
   "nbconvert_exporter": "python",
   "pygments_lexer": "ipython3",
   "version": "3.7.3"
  }
 },
 "nbformat": 4,
 "nbformat_minor": 2
}
