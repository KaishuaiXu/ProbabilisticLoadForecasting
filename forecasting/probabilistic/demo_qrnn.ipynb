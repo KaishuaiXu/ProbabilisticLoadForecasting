{
 "cells": [
  {
   "cell_type": "code",
   "execution_count": 80,
   "metadata": {},
   "outputs": [],
   "source": [
    "import numpy as np\n",
    "import pandas as pd\n",
    "import os\n",
    "from datetime import datetime\n",
    "\n",
    "from qrnn import get_model\n",
    "from dataloader import get_data\n",
    "\n",
    "months = [31, 28, 31, 30, 31, 30, 31, 31, 30, 31, 30, 31]"
   ]
  },
  {
   "cell_type": "code",
   "execution_count": 47,
   "metadata": {},
   "outputs": [
    {
     "name": "stderr",
     "output_type": "stream",
     "text": [
      "100%|██████████| 918/918 [00:28<00:00, 32.04it/s]\n"
     ]
    }
   ],
   "source": [
    "data_set = 'Irish_2010'\n",
    "year = '2010'\n",
    "path = os.path.abspath(os.path.join(os.getcwd(), '../..'))\n",
    "\n",
    "data = get_data(path, data_set)"
   ]
  },
  {
   "cell_type": "code",
   "execution_count": 96,
   "metadata": {},
   "outputs": [],
   "source": [
    "month = 1\n",
    "n_clusters = 2\n",
    "method = 'hierarchical/euclidean'\n",
    "\n",
    "path_cluster = os.path.join(path, 'result', data_set, 'clustering', 'point', method, f'n_clusters_{n_clusters}.csv')\n",
    "clusters = pd.read_csv(path_cluster, header=None)\n",
    "\n",
    "series = data[:, month-1, :months[month-1]*24]"
   ]
  },
  {
   "cell_type": "code",
   "execution_count": 75,
   "metadata": {},
   "outputs": [],
   "source": [
    "# weather series\n",
    "weather_48 = pd.read_csv(os.path.join(path, 'data', 'weather', f'weather_{data_set}_cleaned.csv'))['T'].values\n",
    "weather_24 = []\n",
    "for i in range(int(len(weather_48)/2)):\n",
    "    weather_24.append((weather_48[i*2] + weather_48[i*2+1])/2)\n",
    "weather_24 = np.array(weather_24)\n",
    "\n",
    "weather = []\n",
    "for i in range(12):\n",
    "    weather.append(weather_24[sum(months[:i])*24:sum(months[:i+1])*24])"
   ]
  },
  {
   "cell_type": "code",
   "execution_count": 87,
   "metadata": {},
   "outputs": [],
   "source": [
    "# Generate calendar series (week)\n",
    "week = []\n",
    "for i in range(months[month-1]):\n",
    "    week_value = datetime.strptime(year + '%02d%02d' %(month, i+1), '%Y%m%d').weekday()\n",
    "    for _ in range(24):\n",
    "        week.append(week_value)\n",
    "week = np.array(week) / 6   # normalization"
   ]
  },
  {
   "cell_type": "code",
   "execution_count": 94,
   "metadata": {},
   "outputs": [],
   "source": [
    "# Generate calendar series (day)\n",
    "day = []\n",
    "for i in range(months[month-1]):\n",
    "    for _ in range(24):\n",
    "        day.append(_)\n",
    "day = np.array(day) / 23   # normalization"
   ]
  },
  {
   "cell_type": "code",
   "execution_count": 125,
   "metadata": {},
   "outputs": [],
   "source": [
    "for i in range(n_clusters):\n",
    "\n",
    "    index = list(clusters[month-1] == i)\n",
    "    sub_series = series[index]\n",
    "    sub_series = np.sum(sub_series, axis=0)\n",
    "    test = sub_series[-168:]\n",
    "    train = sub_series[:-168]\n",
    "\n",
    "    scale = np.zeros(2)\n",
    "    scale[0] = np.max(train)\n",
    "    scale[1] = np.min(train)\n",
    "    train = (train - scale[1])/(scale[0] - scale[1])\n",
    "    test = (test - scale[1])/(scale[0] - scale[1])\n",
    "    \n",
    "    lag = 24\n",
    "    d = 1\n",
    "    \n",
    "    trainX, trainY = get_train_set_qrnn(train, weather[month-1], week, day, lag, d)\n",
    "    \n",
    "#     # Parameters\n",
    "#     input_dim = 3\n",
    "#     num_hidden_layers = 1\n",
    "#     num_units = [200]\n",
    "#     act = ['relu']\n",
    "#     gauss_std = 0.3\n",
    "\n",
    "#     # Get model\n",
    "#     model = get_model(input_dim, num_units, act, gauss_std, num_hidden_layers)\n",
    "\n",
    "#     # Train\n",
    "#     model.fit(x=Xtrain, y=Ytrain, epochs=10)\n",
    "    \n",
    "    break"
   ]
  },
  {
   "cell_type": "code",
   "execution_count": 6,
   "metadata": {},
   "outputs": [],
   "source": [
    "# # Generate the synthetic data\n",
    "# x1 = np.sin(np.arange(0, 9, 0.01))\n",
    "# x2 = np.cos(np.arange(0, 9, 0.01))\n",
    "# x3 = x1**2\n",
    "# x4 = (x1+x2)/2\n",
    "\n",
    "# Xtrain = np.vstack((x2, x3, x4)).T\n",
    "# Ytrain = np.array([x1]*99).T"
   ]
  },
  {
   "cell_type": "code",
   "execution_count": 124,
   "metadata": {},
   "outputs": [],
   "source": [
    "def get_train_set_qrnn(data, temperature, week, day, lag, d):\n",
    "    l = np.maximum(d * 24, lag)\n",
    "\n",
    "    total_X = []\n",
    "    total_Y = []\n",
    "    for i in range(len(data) - l):\n",
    "\n",
    "        elect = np.zeros(lag + d)\n",
    "        elect[:lag] = data[i+l-lag:i+l]\n",
    "\n",
    "        for j in range(d):\n",
    "            elect[lag+j] = np.mean(data[i+l-(j+1)*24:i+l-j*24])\n",
    "\n",
    "        temp = np.zeros(lag + 1 + d)\n",
    "        temp[:lag+1] = temperature[i+l-lag:i+l+1]\n",
    "\n",
    "        for j in range(d):\n",
    "            temp[lag+j+1] = np.mean(temperature[i+l-(j+1)*24:i+l-j*24])\n",
    "\n",
    "        X = np.hstack((elect, temp, week[i+l], day[i+l]))\n",
    "        Y = data[i+l]\n",
    "        total_X.append(X)\n",
    "        total_Y.append(Y)\n",
    "\n",
    "    total_X = np.array(total_X)\n",
    "    total_Y = np.array(total_Y)\n",
    "    \n",
    "    return total_X, total_Y.reshape(-1, 1)"
   ]
  },
  {
   "cell_type": "code",
   "execution_count": null,
   "metadata": {},
   "outputs": [],
   "source": []
  }
 ],
 "metadata": {
  "kernelspec": {
   "display_name": "Python 3",
   "language": "python",
   "name": "python3"
  },
  "language_info": {
   "codemirror_mode": {
    "name": "ipython",
    "version": 3
   },
   "file_extension": ".py",
   "mimetype": "text/x-python",
   "name": "python",
   "nbconvert_exporter": "python",
   "pygments_lexer": "ipython3",
   "version": "3.7.3"
  }
 },
 "nbformat": 4,
 "nbformat_minor": 2
}
