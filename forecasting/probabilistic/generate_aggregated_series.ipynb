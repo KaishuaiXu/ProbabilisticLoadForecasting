{
 "cells": [
  {
   "cell_type": "code",
   "execution_count": 1,
   "metadata": {},
   "outputs": [],
   "source": [
    "import pandas as pd\n",
    "import numpy as np\n",
    "import os\n",
    "from tqdm import tqdm\n",
    "\n",
    "path = os.path.abspath(os.path.join(os.getcwd(), '../..'))\n",
    "months = [31, 28, 31, 30, 31, 30, 31, 31, 30, 31, 30, 31]"
   ]
  },
  {
   "cell_type": "markdown",
   "metadata": {},
   "source": [
    "## Example"
   ]
  },
  {
   "cell_type": "code",
   "execution_count": null,
   "metadata": {},
   "outputs": [],
   "source": [
    "data_set = 'Irish_2010'\n",
    "method = 'kmeans'\n",
    "num_clusters = 10\n",
    "month = 1\n",
    "\n",
    "series = np.zeros((num_clusters, months[month-1]*24))\n",
    "attr = pd.read_csv(path + '/data/' + data_set + '_attr_final.csv')\n",
    "result = pd.read_csv(path + '/result/' + data_set + '/clustering/point/' + method + '/n_clusters_' + str(num_clusters) + '.csv', header=None)[month-1].values\n",
    "for i in range(len(attr)):\n",
    "    ID = attr['ID'][i]\n",
    "    df = pd.read_csv(path + '/data/' + data_set + '_monthly/' + str(ID) + '.csv', header=None).values[month-1]\n",
    "    series[result[i]] = series[result[i]] + df"
   ]
  },
  {
   "cell_type": "markdown",
   "metadata": {},
   "source": [
    "## All data sets"
   ]
  },
  {
   "cell_type": "code",
   "execution_count": 3,
   "metadata": {},
   "outputs": [
    {
     "name": "stderr",
     "output_type": "stream",
     "text": [
      "100%|██████████| 4/4 [18:16<00:00, 274.38s/it]\n",
      "100%|██████████| 4/4 [41:09<00:00, 615.25s/it]\n"
     ]
    }
   ],
   "source": [
    "data_sets = ['Irish_2010', 'London_2013']\n",
    "methods = ['kmeans', 'hierarchical/euclidean', 'hierarchical/cityblock', 'hierarchical/DTW']\n",
    "\n",
    "for data_set in data_sets:\n",
    "    attr = pd.read_csv(path + '/data/' + data_set + '_attr_final.csv')\n",
    "    for method in tqdm(methods):\n",
    "        for num_clusters in range(1, 11):\n",
    "            for month in range(12, 13):\n",
    "                series = np.zeros((num_clusters, months[month-1]*24))\n",
    "                result = pd.read_csv(path + '/result/' + data_set + '/clustering/point/' + method + '/n_clusters_' + str(num_clusters) + '.csv', header=None)[month-1].values\n",
    "                for i in range(len(attr)):\n",
    "                    ID = attr['ID'][i]\n",
    "                    df = pd.read_csv(path + '/data/' + data_set + '_monthly/' + str(ID) + '.csv', header=None).values[month-1][:months[month-1]*24]\n",
    "                    series[result[i]] = series[result[i]] + df\n",
    "                pd.DataFrame(series).to_csv(path + '/result/' + data_set + '/clustering/point/' + method + '/month_' + str(month) + '_series_' + str(num_clusters) + '.csv', header=None, index=False)"
   ]
  },
  {
   "cell_type": "code",
   "execution_count": null,
   "metadata": {},
   "outputs": [],
   "source": []
  }
 ],
 "metadata": {
  "kernelspec": {
   "display_name": "Python 3",
   "language": "python",
   "name": "python3"
  },
  "language_info": {
   "codemirror_mode": {
    "name": "ipython",
    "version": 3
   },
   "file_extension": ".py",
   "mimetype": "text/x-python",
   "name": "python",
   "nbconvert_exporter": "python",
   "pygments_lexer": "ipython3",
   "version": "3.7.3"
  }
 },
 "nbformat": 4,
 "nbformat_minor": 2
}
