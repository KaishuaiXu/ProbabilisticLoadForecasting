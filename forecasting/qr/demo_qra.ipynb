{
 "cells": [
  {
   "cell_type": "code",
   "execution_count": 1,
   "metadata": {
    "scrolled": true
   },
   "outputs": [
    {
     "name": "stderr",
     "output_type": "stream",
     "text": [
      "Using TensorFlow backend.\n"
     ]
    }
   ],
   "source": [
    "import numpy as np\n",
    "import pandas as pd\n",
    "import os\n",
    "from keras.layers import Dense, Input\n",
    "from keras.callbacks import EarlyStopping\n",
    "from keras.models import Model, Sequential\n",
    "from keras import backend as K\n",
    "from tqdm import trange\n",
    "import tensorflow as tf\n",
    "import gc\n",
    "\n",
    "from dataloader import get_data, get_weather, get_hod, get_dow, get_train_set_qra, get_test_set_qra\n",
    "\n",
    "months = [31, 28, 31, 30, 31, 30, 31, 31, 30, 31, 30, 31]"
   ]
  },
  {
   "cell_type": "code",
   "execution_count": 2,
   "metadata": {
    "scrolled": true
   },
   "outputs": [],
   "source": [
    "def qloss(y_true, y_pred, q):\n",
    "    tmp1 = (q / 100 - 1) * (y_true - y_pred)\n",
    "    tmp2 = q / 100 * (y_true - y_pred)\n",
    "    return K.mean(K.maximum(tmp1, tmp2))"
   ]
  },
  {
   "cell_type": "code",
   "execution_count": 3,
   "metadata": {
    "scrolled": true
   },
   "outputs": [
    {
     "name": "stderr",
     "output_type": "stream",
     "text": [
      "100%|██████████| 2002/2002 [01:04<00:00, 31.14it/s]\n"
     ]
    }
   ],
   "source": [
    "data_set = 'London_2013'\n",
    "path = os.path.abspath(os.path.join(os.getcwd(), '../..'))\n",
    "\n",
    "data = get_data(path, data_set)"
   ]
  },
  {
   "cell_type": "code",
   "execution_count": 4,
   "metadata": {
    "scrolled": true
   },
   "outputs": [],
   "source": [
    "def qloss(y_true, y_pred, q):\n",
    "    tmp1 = (q / 100 - 1) * (y_true - y_pred)\n",
    "    tmp2 = q / 100 * (y_true - y_pred)\n",
    "    return K.mean(K.maximum(tmp1, tmp2))\n",
    "\n",
    "def train_model_1(train, test, week, day, num_best=8):\n",
    "    \n",
    "    # to get the num of samples\n",
    "    max_lag = 24\n",
    "    max_d = 2\n",
    "    trainX, trainTlag, trainTd, trainY = get_train_set_qra(train, week, day, max_lag, max_d)\n",
    "    n_samples = trainY.shape[0]\n",
    "    \n",
    "    error_train_step1 = np.zeros((10, 24, 2))\n",
    "    error_test_step1 = np.zeros((10, 24, 2))\n",
    "    pred_train = np.zeros((24, 2, n_samples))\n",
    "    pred_test = np.zeros((24, 2, 168))\n",
    "    \n",
    "    early_stopping = EarlyStopping(monitor='val_loss', patience=50)\n",
    "\n",
    "    for lag in trange(1, 25):\n",
    "        for d in range(1, 3):\n",
    "            trainX, trainTlag, trainTd, trainY = get_train_set_qra(train, week, day, lag, d)\n",
    "            testX, testTlag, testTd, testY = get_test_set_qra(train, test, week, day, lag, d)\n",
    "\n",
    "            ## QRA step 1\n",
    "            # linear model\n",
    "            inputs = Input((7 + 24 + 3 + lag*3 + d*3,), name='input')\n",
    "            x = Dense(1, use_bias=True, kernel_initializer='he_normal', bias_initializer='he_normal')(inputs)\n",
    "            model = Model(inputs=inputs, outputs=x)\n",
    "\n",
    "            # Train\n",
    "            model.compile(loss='mean_absolute_error', optimizer='adam', metrics=['accuracy'])\n",
    "            hist1 = model.fit(x=np.hstack((trainX, trainTlag, trainTd)), y=trainY, validation_split=0.2, epochs=1500, verbose=0, callbacks=[early_stopping])\n",
    "\n",
    "            # Predict (train)\n",
    "            pred = model.predict(x=np.hstack((trainX, trainTlag, trainTd)))\n",
    "            error_train_step1[lag-1, d-1] = np.sum(np.abs(pred[-n_samples:, :] - trainY[-n_samples:, :]))\n",
    "            pred_train[lag-1, d-1] = np.squeeze(pred[-n_samples:, :])\n",
    "\n",
    "            # Predict (test)\n",
    "            pred = model.predict(x=np.hstack((testX, testTlag, testTd)))\n",
    "            error_test_step1[lag-1, d-1] = np.sum(np.abs(pred - testY))\n",
    "            pred_test[lag-1, d-1] = np.squeeze(pred)\n",
    "\n",
    "    # prepare for step 2\n",
    "    series_train_1 = pred_train[np.argsort(error_train_step1[:,0])[:num_best//2], 0]\n",
    "    series_train_2 = pred_train[np.argsort(error_train_step1[:,1])[:num_best//2], 1]\n",
    "\n",
    "    trainX_ = np.vstack((series_train_1, series_train_2)).T\n",
    "    trainY_ = trainY[-n_samples:, :].copy()\n",
    "    \n",
    "    series_test_1 = pred_test[np.argsort(error_train_step1[:,0])[:num_best//2], 0]\n",
    "    series_test_2 = pred_test[np.argsort(error_train_step1[:,1])[:num_best//2], 1]\n",
    "    \n",
    "    testX_ = np.vstack((series_test_1, series_test_2)).T\n",
    "    testY_ = testY\n",
    "    \n",
    "    # clear\n",
    "    del model, pred, hist1\n",
    "    tf.keras.backend.clear_session()\n",
    "    gc.collect()\n",
    "    return trainX_, trainY_, testX_, testY_\n",
    "#     return error_train_step1, error_test_step1\n",
    "\n",
    "def train_model_2(trainX_, trainY_, testX_, num_best):\n",
    "    \n",
    "    total_pred = []\n",
    "    early_stopping = EarlyStopping(monitor='val_loss', patience=10)\n",
    "    \n",
    "    for q in trange(1, 100):\n",
    "        \n",
    "        input_dim = num_best\n",
    "        model = Sequential([Dense(1, use_bias=True, kernel_initializer='he_normal', bias_initializer='he_normal', input_shape=(input_dim,))])\n",
    "\n",
    "        # Train\n",
    "        model.compile(loss=lambda y_true, y_pred: qloss(y_true, y_pred, q), optimizer='adam')\n",
    "        hist2 = model.fit(x=trainX_, y=trainY_, validation_split=0.2, epochs=1000, verbose=0, callbacks=[early_stopping])\n",
    "\n",
    "        # Predict (test)\n",
    "        pred = model.predict(x=testX_)\n",
    "        total_pred.append(np.squeeze(pred))\n",
    "    \n",
    "    total_pred = np.array(total_pred)\n",
    "    \n",
    "    del model, pred, hist2\n",
    "    tf.keras.backend.clear_session()\n",
    "    gc.collect()\n",
    "    return total_pred"
   ]
  },
  {
   "cell_type": "code",
   "execution_count": 5,
   "metadata": {
    "scrolled": true
   },
   "outputs": [],
   "source": [
    "month = 1\n",
    "n_clusters = 2\n",
    "method = 'hierarchical/euclidean'\n",
    "\n",
    "path_cluster = os.path.join(path, 'result', data_set, 'clustering', 'point', method, f'n_clusters_{n_clusters}.csv')\n",
    "clusters = pd.read_csv(path_cluster, header=None)\n",
    "\n",
    "series = data[:, month-1, :months[month-1]*24]\n",
    "weather = get_weather(path, data_set, month)\n",
    "week = get_dow(data_set, month)\n",
    "day = get_hod(month)"
   ]
  },
  {
   "cell_type": "code",
   "execution_count": 6,
   "metadata": {
    "scrolled": true
   },
   "outputs": [
    {
     "name": "stderr",
     "output_type": "stream",
     "text": [
      "100%|██████████| 24/24 [44:14<00:00, 110.45s/it]\n"
     ]
    }
   ],
   "source": [
    "for i in range(n_clusters):\n",
    "\n",
    "    index = list(clusters[month-1] == i)\n",
    "    sub_series = series[index]\n",
    "    sub_series = np.sum(sub_series, axis=0)\n",
    "\n",
    "    total_series = np.vstack((sub_series, weather))\n",
    "\n",
    "    test = total_series[:, -168:]\n",
    "    train = total_series[:, :-168]\n",
    "\n",
    "    scale = np.zeros(2)\n",
    "    scale[0] = np.max(train[0])\n",
    "    scale[1] = np.min(train[0])\n",
    "    train[0] = (train[0] - scale[1]) / (scale[0] - scale[1])\n",
    "    test[0] = (test[0] - scale[1]) / (scale[0] - scale[1])\n",
    "\n",
    "    num_best = 8\n",
    "    \n",
    "    pred_trainX_, pred_trainY_, pred_testX_, pred_testY_ = train_model_1(train, test, week, day, num_best)\n",
    "#     error_train, error_test = train_model_1(train, test, week, day, num_best)\n",
    "    pred_series = train_model_2(pred_trainX_, pred_trainY_, pred_testX_, num_best)\n",
    "\n",
    "    break"
   ]
  },
  {
   "cell_type": "code",
   "execution_count": 7,
   "metadata": {
    "scrolled": true
   },
   "outputs": [],
   "source": [
    "np.save('qra_train.npy', error_train)\n",
    "np.save('qra_test.npy', error_test)"
   ]
  },
  {
   "cell_type": "code",
   "execution_count": 10,
   "metadata": {
    "scrolled": true
   },
   "outputs": [],
   "source": [
    "import matplotlib.pyplot as plt\n",
    "%matplotlib inline\n",
    "import numpy as np\n",
    "\n",
    "train = np.load('qra_train.npy')\n",
    "test = np.load('qra_test.npy')"
   ]
  },
  {
   "cell_type": "code",
   "execution_count": 17,
   "metadata": {},
   "outputs": [],
   "source": [
    "train_sum = np.sum(train, axis=0)\n",
    "test_sum = np.sum(test, axis=0)"
   ]
  },
  {
   "cell_type": "code",
   "execution_count": 48,
   "metadata": {
    "scrolled": true
   },
   "outputs": [
    {
     "data": {
      "text/plain": [
       "<matplotlib.legend.Legend at 0x11e304a90>"
      ]
     },
     "execution_count": 48,
     "metadata": {},
     "output_type": "execute_result"
    },
    {
     "data": {
      "image/png": "[encoded data removed]",
      "text/plain": [
       "<Figure size 720x360 with 1 Axes>"
      ]
     },
     "metadata": {
      "needs_background": "light"
     },
     "output_type": "display_data"
    }
   ],
   "source": [
    "plt.figure(figsize=(10,5))\n",
    "# plt.plot(train_sum[:, 0])\n",
    "plt.plot(test_sum[:, 0])\n",
    "# plt.plot(train_sum[:, 1])\n",
    "plt.plot(test_sum[:, 1])\n",
    "plt.legend(['d1', 'd2'], loc='upper right')"
   ]
  },
  {
   "cell_type": "code",
   "execution_count": null,
   "metadata": {},
   "outputs": [],
   "source": []
  }
 ],
 "metadata": {
  "kernelspec": {
   "display_name": "Python 3",
   "language": "python",
   "name": "python3"
  },
  "language_info": {
   "codemirror_mode": {
    "name": "ipython",
    "version": 3
   },
   "file_extension": ".py",
   "mimetype": "text/x-python",
   "name": "python",
   "nbconvert_exporter": "python",
   "pygments_lexer": "ipython3",
   "version": "3.7.3"
  }
 },
 "nbformat": 4,
 "nbformat_minor": 2
}
