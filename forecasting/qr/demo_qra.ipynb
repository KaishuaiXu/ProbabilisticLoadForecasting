{
 "cells": [
  {
   "cell_type": "code",
   "execution_count": 1,
   "metadata": {
    "scrolled": true
   },
   "outputs": [
    {
     "name": "stderr",
     "output_type": "stream",
     "text": [
      "Using TensorFlow backend.\n"
     ]
    }
   ],
   "source": [
    "import numpy as np\n",
    "import pandas as pd\n",
    "import os\n",
    "from keras import backend as K\n",
    "from sklearn.model_selection import train_test_split\n",
    "from sklearn.linear_model import LinearRegression\n",
    "from tqdm import trange, tqdm\n",
    "import gc\n",
    "import matplotlib.pyplot as plt\n",
    "%matplotlib inline\n",
    "\n",
    "from l1qr import L1QR\n",
    "from dataloader import get_data, get_weather, get_hod, get_dow, get_train_set_qra, get_test_set_qra\n",
    "\n",
    "months = [31, 28, 31, 30, 31, 30, 31, 31, 30, 31, 30, 31]"
   ]
  },
  {
   "cell_type": "code",
   "execution_count": 2,
   "metadata": {
    "scrolled": true
   },
   "outputs": [
    {
     "name": "stderr",
     "output_type": "stream",
     "text": [
      "100%|██████████| 918/918 [00:29<00:00, 31.40it/s]\n"
     ]
    }
   ],
   "source": [
    "data_set = 'Irish_2010'\n",
    "path = os.path.abspath(os.path.join(os.getcwd(), '../..'))\n",
    "\n",
    "data = get_data(path, data_set)"
   ]
  },
  {
   "cell_type": "code",
   "execution_count": 3,
   "metadata": {},
   "outputs": [],
   "source": [
    "def qloss_i(y_true, y_pred, q):\n",
    "    tmp1 = (q / 100 - 1) * (y_true - y_pred)\n",
    "    tmp2 = q / 100 * (y_true - y_pred)\n",
    "    return K.mean(K.maximum(tmp1, tmp2))\n",
    "\n",
    "def qloss(y_true, y_pred):\n",
    "    q = np.array(range(1, 100))\n",
    "    tmp1 = (q / 100 - 1) * (y_true - y_pred)\n",
    "    tmp2 = q / 100 * (y_true - y_pred)\n",
    "    return K.mean(K.maximum(tmp1, tmp2))\n",
    "\n",
    "def train_model_1(train, test, week, day):\n",
    "    \n",
    "    d = 2\n",
    "    \n",
    "    # to get the num of samples\n",
    "    max_lag = 24\n",
    "    trainX, trainTlag, trainTd, trainY = get_train_set_qra(train, week, day, max_lag, d)\n",
    "    n_samples = trainY.shape[0]\n",
    "    \n",
    "    error_train = np.zeros(max_lag)\n",
    "    error_val = np.zeros(max_lag)\n",
    "    error_train_step1 = np.zeros(max_lag)\n",
    "    error_test_step1 = np.zeros(max_lag)\n",
    "    \n",
    "    pred_train = np.zeros((max_lag, n_samples))\n",
    "    pred_test = np.zeros((max_lag, 168))\n",
    "    \n",
    "    for lag in trange(1, max_lag+1):\n",
    "        trainX, trainTlag, trainTd, trainY = get_train_set_qra(train, week, day, lag, d)\n",
    "        testX, testTlag, testTd, testY = get_test_set_qra(train, test, week, day, lag, d)\n",
    "\n",
    "        trainX_, valX_, trainY_, valY_ = train_test_split(np.hstack((trainX, trainTlag, trainTd)), trainY, test_size = 0.20, shuffle=False)\n",
    "\n",
    "        linreg = LinearRegression()\n",
    "        model = linreg.fit(trainX_, trainY_)\n",
    "\n",
    "        # Predict (train)\n",
    "        pred = linreg.predict(trainX_)\n",
    "        error_train[lag-1] = np.sum(np.abs(pred - trainY_))\n",
    "\n",
    "        # Predict (val)\n",
    "        pred = linreg.predict(valX_)\n",
    "        error_val[lag-1] = np.sum(np.abs(pred - valY_))\n",
    "\n",
    "        del linreg\n",
    "\n",
    "        linreg = LinearRegression()\n",
    "        model = linreg.fit(np.hstack((trainX, trainTlag, trainTd)), trainY)\n",
    "\n",
    "        # Predict (train)\n",
    "        pred = linreg.predict(np.hstack((trainX, trainTlag, trainTd)))\n",
    "        error_train_step1[lag-1] = np.sum(np.abs(pred[-n_samples:, :] - trainY[-n_samples:, :]))\n",
    "        pred_train[lag-1] = np.squeeze(pred[-n_samples:, :])\n",
    "\n",
    "        # Predict (test)\n",
    "        pred = linreg.predict(np.hstack((testX, testTlag, testTd)))\n",
    "        error_test_step1[lag-1] = np.sum(np.abs(pred - testY))\n",
    "        pred_test[lag-1] = np.squeeze(pred)\n",
    "\n",
    "    # clear\n",
    "    del model, linreg, pred\n",
    "    gc.collect()\n",
    "    return pred_train, pred_test, trainY[-n_samples:, :], testY\n",
    "#     return error_train, error_val, error_train_step1, error_test_step1\n",
    "\n",
    "def train_model_2(trainX_, trainY_, testX_):\n",
    "    \n",
    "    trainY = pd.Series(np.squeeze(trainY_))\n",
    "    trainX = pd.DataFrame(trainX_.T)\n",
    "    \n",
    "    pred = []\n",
    "    for q in tqdm(np.linspace(0.01, 0.99, 99)):\n",
    "        \n",
    "        mdl = L1QR(y=trainY, x=trainX, alpha=q)\n",
    "        mdl.fit(s_max=3)\n",
    "        b0 = mdl.b0.to_numpy()\n",
    "        b = mdl.b.to_numpy()\n",
    "\n",
    "        loss_train = np.zeros(len(b0))\n",
    "        for i in range(len(b0)):\n",
    "            tmp = b0[i] + np.sum(b[i] * (trainX_.T), axis=1)\n",
    "            loss_train[i] = qloss_i(trainY_.reshape(-1), tmp, q)\n",
    "        b0 = b0[np.argmin(loss_train)]\n",
    "        b = b[np.argmin(loss_train)]\n",
    "        \n",
    "        pred.append(b0 + np.sum(b * (testX_.T), axis=1))\n",
    "    \n",
    "    return np.array(pred)"
   ]
  },
  {
   "cell_type": "code",
   "execution_count": 4,
   "metadata": {
    "scrolled": true
   },
   "outputs": [],
   "source": [
    "month = 1\n",
    "n_clusters = 2\n",
    "method = 'hierarchical/euclidean'\n",
    "\n",
    "path_cluster = os.path.join(path, 'result', data_set, 'clustering', 'point', method, f'n_clusters_{n_clusters}.csv')\n",
    "clusters = pd.read_csv(path_cluster, header=None)\n",
    "\n",
    "series = data[:, month-1, :months[month-1]*24]\n",
    "weather = get_weather(path, data_set, month)\n",
    "week = get_dow(data_set, month)\n",
    "day = get_hod(month)"
   ]
  },
  {
   "cell_type": "code",
   "execution_count": 5,
   "metadata": {
    "scrolled": true
   },
   "outputs": [
    {
     "name": "stderr",
     "output_type": "stream",
     "text": [
      "100%|██████████| 24/24 [00:04<00:00,  3.82it/s]\n",
      "  0%|          | 0/99 [00:00<?, ?it/s]/Users/kaishuai/Desktop/ProbabilisticLoadForecasting/forecasting/qr/l1qr.py:144: RuntimeWarning: divide by zero encountered in true_divide\n",
      "  delta1 = np.delete(residual, ind_e, 0) / gam  # This is s - s_l in (2.14)\n",
      " 17%|█▋        | 17/99 [00:25<02:28,  1.81s/it]/Users/kaishuai/Desktop/ProbabilisticLoadForecasting/forecasting/qr/l1qr.py:154: RuntimeWarning: divide by zero encountered in true_divide\n",
      "  delta2 = np.array(-beta[idx - 1, ind_v] / nu)\n",
      "100%|██████████| 99/99 [03:26<00:00,  1.07s/it]\n"
     ]
    }
   ],
   "source": [
    "for i in range(n_clusters):\n",
    "\n",
    "    index = list(clusters[month-1] == i)\n",
    "    sub_series = series[index]\n",
    "    sub_series = np.sum(sub_series, axis=0)\n",
    "\n",
    "    total_series = np.vstack((sub_series, weather))\n",
    "\n",
    "    test = total_series[:, -168:]\n",
    "    train = total_series[:, :-168]\n",
    "\n",
    "    scale = np.zeros(2)\n",
    "    scale[0] = np.max(train[0])\n",
    "    scale[1] = np.min(train[0])\n",
    "    train[0] = (train[0] - scale[1]) / (scale[0] - scale[1])\n",
    "    test[0] = (test[0] - scale[1]) / (scale[0] - scale[1])\n",
    "\n",
    "    trainX_, testX_, trainY_, testY_ = train_model_1(train, test, week, day)\n",
    "#     error_train, error_val, error_train_step1, error_test_step1 = train_model_1(train, test, week, day)\n",
    "\n",
    "    pred_series = train_model_2(trainX_, trainY_, testX_)\n",
    "\n",
    "    break"
   ]
  },
  {
   "cell_type": "code",
   "execution_count": null,
   "metadata": {},
   "outputs": [],
   "source": []
  }
 ],
 "metadata": {
  "kernelspec": {
   "display_name": "Python 3",
   "language": "python",
   "name": "python3"
  },
  "language_info": {
   "codemirror_mode": {
    "name": "ipython",
    "version": 3
   },
   "file_extension": ".py",
   "mimetype": "text/x-python",
   "name": "python",
   "nbconvert_exporter": "python",
   "pygments_lexer": "ipython3",
   "version": "3.7.3"
  }
 },
 "nbformat": 4,
 "nbformat_minor": 2
}
