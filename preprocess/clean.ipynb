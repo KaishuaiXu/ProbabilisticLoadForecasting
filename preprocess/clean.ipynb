{
 "cells": [
  {
   "cell_type": "code",
   "execution_count": 2,
   "metadata": {},
   "outputs": [],
   "source": [
    "import pandas as pd\n",
    "import numpy as np"
   ]
  },
  {
   "cell_type": "code",
   "execution_count": 18,
   "metadata": {},
   "outputs": [],
   "source": [
    "data_set = 'London_2013'\n",
    "attr = pd.read_csv('../data/' + data_set + '_attr.csv')"
   ]
  },
  {
   "cell_type": "code",
   "execution_count": 19,
   "metadata": {},
   "outputs": [],
   "source": [
    "# Find the IDs with missing values (point_profiles)\n",
    "\n",
    "id_with_missing_values = []\n",
    "for k in range(len(attr)):\n",
    "    id = attr['ID'][k]\n",
    "    df = pd.read_csv('../data/' + data_set + '_profiles/' + str(id) + '.csv', header = None).values\n",
    "    for i in range(len(df)):\n",
    "        for j in range(len(df[0])):\n",
    "            if df[i][j] == 0:\n",
    "                id_with_missing_values.append(k)\n",
    "                break\n",
    "\n",
    "attr.drop(index=id_with_missing_values, inplace=True)\n",
    "attr.reset_index(drop=True, inplace=True)"
   ]
  },
  {
   "cell_type": "code",
   "execution_count": 21,
   "metadata": {},
   "outputs": [],
   "source": [
    "# Find the IDs with missing values (interval_profiles)\n",
    "\n",
    "id_with_missing_values = []\n",
    "for k in range(len(attr)):\n",
    "    id = attr['ID'][k]\n",
    "    df = pd.read_csv('../data/' + data_set + '_profiles_interval/' + str(id) + '.csv', header = None).values\n",
    "    for i in range(len(df)):\n",
    "        for j in range(len(df[0])):\n",
    "            if df[i][j] == 0:\n",
    "                id_with_missing_values.append(k)\n",
    "                break\n",
    "\n",
    "attr.drop(index=id_with_missing_values, inplace=True)\n",
    "attr.reset_index(drop=True, inplace=True)"
   ]
  },
  {
   "cell_type": "code",
   "execution_count": 12,
   "metadata": {},
   "outputs": [],
   "source": [
    "attr.to_csv('../data/' + data_set + '_attr_final.csv', index=None)"
   ]
  },
  {
   "cell_type": "markdown",
   "metadata": {},
   "source": [
    "## London with 2002 samples"
   ]
  },
  {
   "cell_type": "code",
   "execution_count": 46,
   "metadata": {},
   "outputs": [],
   "source": [
    "import pandas as pd\n",
    "import numpy as np\n",
    "\n",
    "data_set = 'London_2013'\n",
    "attr = pd.read_csv('../data/' + data_set + '_attr_final.csv')"
   ]
  },
  {
   "cell_type": "code",
   "execution_count": 47,
   "metadata": {},
   "outputs": [],
   "source": [
    "cate = np.zeros((len(attr)))\n",
    "\n",
    "cate_1 = ['ACORN-A', 'ACORN-B', 'ACORN-C']  # Affluent Achievers\n",
    "cate_2 = ['ACORN-D', 'ACORN-E']  # Rising Prosperity\n",
    "cate_3 = ['ACORN-F', 'ACORN-G', 'ACORN-H', 'ACORN-I', 'ACORN-J']  # Comfortable Communities\n",
    "cate_4 = ['ACORN-K', 'ACORN-L', 'ACORN-M', 'ACORN-N']  # Financially Stretched\n",
    "cate_5 = ['ACORN-O', 'ACORN-P', 'ACORN-Q']  # Urban Adversity\n",
    "\n",
    "for i in range(len(attr)):\n",
    "    if attr['Acorn'][i] in cate_1:\n",
    "        cate[i] = 1\n",
    "    if attr['Acorn'][i] in cate_2:\n",
    "        cate[i] = 2\n",
    "    if attr['Acorn'][i] in cate_3:\n",
    "        cate[i] = 3\n",
    "    if attr['Acorn'][i] in cate_4:\n",
    "        cate[i] = 4\n",
    "    if attr['Acorn'][i] in cate_5:\n",
    "        cate[i] = 5\n",
    "\n",
    "attr = pd.concat([attr, pd.DataFrame(cate, columns=['Cate']).astype('int64')], axis=1)"
   ]
  },
  {
   "cell_type": "code",
   "execution_count": 48,
   "metadata": {},
   "outputs": [
    {
     "data": {
      "text/plain": [
       "2    1004\n",
       "3     916\n",
       "5     615\n",
       "4     495\n",
       "1     190\n",
       "Name: Cate, dtype: int64"
      ]
     },
     "execution_count": 48,
     "metadata": {},
     "output_type": "execute_result"
    }
   ],
   "source": [
    "attr['Cate'].value_counts()"
   ]
  },
  {
   "cell_type": "code",
   "execution_count": 49,
   "metadata": {},
   "outputs": [],
   "source": [
    "import random\n",
    "from math import floor\n",
    "\n",
    "samples = []\n",
    "for i in range(5):\n",
    "    tmp = list(attr[attr['Cate'] == i+1].index)\n",
    "    samples.extend(random.sample(tmp, floor(len(attr[attr['Cate'] == i+1]) * 1220 / 3220)))"
   ]
  },
  {
   "cell_type": "code",
   "execution_count": 50,
   "metadata": {},
   "outputs": [],
   "source": [
    "attr = attr.drop(index=samples)\n",
    "attr.to_csv('../data/' + data_set + '_attr_final.csv', index=False)"
   ]
  },
  {
   "cell_type": "code",
   "execution_count": 51,
   "metadata": {},
   "outputs": [
    {
     "data": {
      "text/plain": [
       "2    624\n",
       "3    569\n",
       "5    382\n",
       "4    308\n",
       "1    119\n",
       "Name: Cate, dtype: int64"
      ]
     },
     "execution_count": 51,
     "metadata": {},
     "output_type": "execute_result"
    }
   ],
   "source": [
    "# After sampling\n",
    "attr['Cate'].value_counts()"
   ]
  },
  {
   "cell_type": "code",
   "execution_count": null,
   "metadata": {},
   "outputs": [],
   "source": []
  }
 ],
 "metadata": {
  "kernelspec": {
   "display_name": "Python 3",
   "language": "python",
   "name": "python3"
  },
  "language_info": {
   "codemirror_mode": {
    "name": "ipython",
    "version": 3
   },
   "file_extension": ".py",
   "mimetype": "text/x-python",
   "name": "python",
   "nbconvert_exporter": "python",
   "pygments_lexer": "ipython3",
   "version": "3.7.3"
  }
 },
 "nbformat": 4,
 "nbformat_minor": 2
}
