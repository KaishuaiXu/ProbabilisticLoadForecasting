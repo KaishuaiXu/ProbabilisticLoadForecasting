{
 "cells": [
  {
   "cell_type": "code",
   "execution_count": 294,
   "metadata": {},
   "outputs": [],
   "source": [
    "import pandas as pd\n",
    "import numpy as np\n",
    "import dateutil\n",
    "import csv\n",
    "\n",
    "# Path\n",
    "def path(loc, id, year):\n",
    "    s = '../data/data_' + loc + '_' + str(year) + '_hh/' + str(id) + '.csv'\n",
    "    return s\n",
    "\n",
    "def path_m(loc, id, year):\n",
    "    s = '../data/data_' + loc + '_' + str(year) + '_monthly/' + str(id) + '.csv'\n",
    "    return s\n",
    "\n",
    "def path_m_i(loc, id, year):\n",
    "    s = '../data/data_' + loc + '_' + str(year) + '_monthly_interval/' + str(id) + '.csv'\n",
    "    return s\n",
    "\n",
    "def path_p(loc, id, year):\n",
    "    s = '../data/data_' + loc + '_' + str(year) + '_profiles/' + str(id) + '.csv'\n",
    "    return s\n",
    "\n",
    "def path_p_i(loc, id, year):\n",
    "    s = '../data/data_' + loc + '_' + str(year) + '_profiles_interval/' + str(id) + '.csv'\n",
    "    return s\n",
    "\n",
    "month = [31, 28, 31, 30, 31, 30, 31, 31, 30, 31, 30, 31]"
   ]
  },
  {
   "cell_type": "markdown",
   "metadata": {},
   "source": [
    "# General series"
   ]
  },
  {
   "cell_type": "code",
   "execution_count": 295,
   "metadata": {},
   "outputs": [],
   "source": [
    "def to_monthly(df, loc, id, year):\n",
    "    \n",
    "    with open(path_m(loc, id, year), 'w') as f:\n",
    "        for i in range(12): \n",
    "            writer = csv.writer(f)\n",
    "            writer.writerow(df[sum(month[:i])*24:sum(month[:i+1])*24])"
   ]
  },
  {
   "cell_type": "code",
   "execution_count": 296,
   "metadata": {},
   "outputs": [],
   "source": [
    "# Generate monthly series\n",
    "def generate_series(loc, year):\n",
    "    \n",
    "    attr = pd.read_csv('../data/data_' + loc + '_attr_' + str(year) + '.csv')\n",
    "\n",
    "    for i in range(len(attr)):\n",
    "        id = attr['ID'][i]\n",
    "        df = pd.read_csv(path(loc, id, year))\n",
    "\n",
    "        tmp = []\n",
    "        for j in range(int(len(df)/2)):\n",
    "            tmp.append(df['KW'][j*2] + df['KW'][j*2+1])\n",
    "        to_monthly(tmp, loc, id, year)"
   ]
  },
  {
   "cell_type": "code",
   "execution_count": 297,
   "metadata": {},
   "outputs": [],
   "source": [
    "# Generate monthly profiles\n",
    "def generate_profiles(loc, year):\n",
    "    \n",
    "    attr = pd.read_csv('../data/data_' + loc + '_attr_' + str(year) + '.csv')\n",
    "    \n",
    "    for k in range (len(attr)):\n",
    "        id = attr['ID'][k]\n",
    "        df = pd.read_csv(path_m(loc, id, year), header=None)\n",
    "        \n",
    "        profiles = []\n",
    "        for i in range(12):\n",
    "            tmp = []\n",
    "            for j in range(month[i]):\n",
    "                tmp.append(df.iloc[i, :][24*j:24*(j+1)].values)\n",
    "            profiles.append(np.average(np.array(tmp), axis=0))\n",
    "        pd.DataFrame(profiles).to_csv(path_p(loc, id, year), index=None, header=None)"
   ]
  },
  {
   "cell_type": "code",
   "execution_count": 164,
   "metadata": {},
   "outputs": [],
   "source": [
    "generate_series('Irish', 2010)\n",
    "generate_profiles('Irish', 2010)"
   ]
  },
  {
   "cell_type": "code",
   "execution_count": 298,
   "metadata": {},
   "outputs": [],
   "source": [
    "generate_series('London', 2013)\n",
    "generate_profiles('London', 2013)"
   ]
  },
  {
   "cell_type": "markdown",
   "metadata": {},
   "source": [
    "# Interval-valued series"
   ]
  },
  {
   "cell_type": "code",
   "execution_count": 299,
   "metadata": {},
   "outputs": [],
   "source": [
    "def to_monthly_i(df, loc, id, year):\n",
    "    \n",
    "    with open(path_m_i(loc, id, year), 'w') as f:\n",
    "        for i in range(12):\n",
    "            writer = csv.writer(f)\n",
    "            writer.writerows(df[:, sum(month[:i])*24:sum(month[:i+1])*24])"
   ]
  },
  {
   "cell_type": "code",
   "execution_count": 300,
   "metadata": {},
   "outputs": [],
   "source": [
    "# Generate monthly series (interval)\n",
    "def generate_series_i(loc, year):\n",
    "    \n",
    "    attr = pd.read_csv('../data/data_' + loc + '_attr_' + str(year) + '.csv')\n",
    "\n",
    "    for i in range(len(attr)):\n",
    "        id = attr['ID'][i]\n",
    "        df = pd.read_csv(path(loc, id, year))\n",
    "\n",
    "        tmp = []\n",
    "        lower = []\n",
    "        upper = []\n",
    "        for j in range(int(len(df)/2)):\n",
    "            if df['KW'][j*2] > df['KW'][j*2+1]:\n",
    "                lower.append(df['KW'][j*2+1])\n",
    "                upper.append(df['KW'][j*2])\n",
    "            else:\n",
    "                lower.append(df['KW'][j*2])\n",
    "                upper.append(df['KW'][j*2+1])\n",
    "        tmp.append(lower)\n",
    "        tmp.append(upper)\n",
    "        to_monthly_i(np.array(tmp), loc, id, year)"
   ]
  },
  {
   "cell_type": "code",
   "execution_count": 301,
   "metadata": {},
   "outputs": [],
   "source": [
    "# Generate monthly profiles (interval)\n",
    "def generate_profiles_i(loc, year):\n",
    "    \n",
    "    attr = pd.read_csv('../data/data_' + loc + '_attr_' + str(year) + '.csv')\n",
    "    \n",
    "    for k in range (len(attr)):\n",
    "        id = attr['ID'][k]\n",
    "        df = pd.read_csv(path_m_i(loc, id, year), header=None)\n",
    "\n",
    "        # the profile in January\n",
    "        profiles = []\n",
    "        for j in range(month[0]):\n",
    "            profiles.append(df.iloc[0:2, :].values[:, 24*j:24*(j+1)])\n",
    "        profiles = np.average(np.array(profiles), axis=0)\n",
    "\n",
    "        for i in range(1, 12):\n",
    "            tmp = []\n",
    "            for j in range(month[i]):\n",
    "                tmp.append(df.iloc[2*i:2*(i+1), :].values[:, 24*j:24*(j+1)])\n",
    "            profiles = np.vstack((profiles, np.average(np.array(tmp), axis=0)))\n",
    "        pd.DataFrame(profiles).to_csv(path_p_i(loc, id, year), index=None, header=None)"
   ]
  },
  {
   "cell_type": "code",
   "execution_count": 275,
   "metadata": {},
   "outputs": [],
   "source": [
    "generate_series_i('Irish', 2010)\n",
    "generate_profiles_i('Irish', 2010)"
   ]
  },
  {
   "cell_type": "code",
   "execution_count": 302,
   "metadata": {},
   "outputs": [],
   "source": [
    "generate_series_i('London', 2013)\n",
    "generate_profiles_i('London', 2013)"
   ]
  },
  {
   "cell_type": "code",
   "execution_count": null,
   "metadata": {},
   "outputs": [],
   "source": []
  }
 ],
 "metadata": {
  "kernelspec": {
   "display_name": "Python 3",
   "language": "python",
   "name": "python3"
  },
  "language_info": {
   "codemirror_mode": {
    "name": "ipython",
    "version": 3
   },
   "file_extension": ".py",
   "mimetype": "text/x-python",
   "name": "python",
   "nbconvert_exporter": "python",
   "pygments_lexer": "ipython3",
   "version": "3.7.3"
  }
 },
 "nbformat": 4,
 "nbformat_minor": 2
}
