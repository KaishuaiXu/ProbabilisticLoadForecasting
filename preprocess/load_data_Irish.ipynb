{
 "cells": [
  {
   "cell_type": "code",
   "execution_count": 13,
   "metadata": {},
   "outputs": [],
   "source": [
    "# Data input: data_Irish/*.csv, data_Irish_attr.csv;\n",
    "# Data output: data_Irish_2010_hh/*.csv, data_Irish_attr_2010.csv;\n",
    "\n",
    "# Load data (Irish Smart meter)\n",
    "import pandas as pd\n",
    "\n",
    "def path(id):\n",
    "    return '../data/data_Irish/' + str(id) + '.txt'\n",
    "def path_2010_hh(id):\n",
    "    return '../data/data_Irish_2010_hh/' + str(id) + '.csv'"
   ]
  },
  {
   "cell_type": "code",
   "execution_count": 10,
   "metadata": {},
   "outputs": [],
   "source": [
    "# Generate the attribute list with the control tariff\n",
    "attr = pd.read_csv('../data/data_Irish_attr.csv')\n",
    "attr = attr[(attr['Residential - Tariff allocation'] == 'E') & (attr['Code'] == 1) & (attr['ID'] != 1035)]\n",
    "attr = attr[['ID', 'Code', 'Residential - Tariff allocation', 'Residential - stimulus allocation', 'SME allocation']]\n",
    "attr.reset_index(drop=True, inplace=True)\n",
    "\n",
    "attr.to_csv('../data/data_Irish_attr_2010.csv', index=None)"
   ]
  },
  {
   "cell_type": "code",
   "execution_count": 11,
   "metadata": {},
   "outputs": [],
   "source": [
    "import dateutil\n",
    "\n",
    "t = pd.to_datetime('2010-1-1')\n",
    "t_list = []\n",
    "\n",
    "for i in range(365*48):\n",
    "    t = t + dateutil.relativedelta.relativedelta(minutes=30)\n",
    "    t_list.append(t)\n",
    "\n",
    "DateTime = pd.DataFrame(t_list)"
   ]
  },
  {
   "cell_type": "code",
   "execution_count": 14,
   "metadata": {},
   "outputs": [],
   "source": [
    "# Generate the separate load data\n",
    "\n",
    "for i in range(len(attr)):\n",
    "    id = attr['ID'][i]\n",
    "    \n",
    "    df = pd.read_csv(path(id), sep='\\t', header=None)\n",
    "    df[1] = df[1].astype('datetime64[ns]')\n",
    "    \n",
    "    # Select the load data in 2010\n",
    "    df = df[(df[1] >= '2010-01-01') & (df[1] < '2011-01-01')]\n",
    "    df.reset_index(inplace=True, drop=True)\n",
    "\n",
    "    df = pd.concat([DateTime, df[3]], axis=1)\n",
    "    df.columns = ['DateTime', 'KW']\n",
    "    df.to_csv(path_2010_hh(id), index=None)"
   ]
  },
  {
   "cell_type": "code",
   "execution_count": null,
   "metadata": {},
   "outputs": [],
   "source": []
  }
 ],
 "metadata": {
  "kernelspec": {
   "display_name": "Python 3",
   "language": "python",
   "name": "python3"
  },
  "language_info": {
   "codemirror_mode": {
    "name": "ipython",
    "version": 3
   },
   "file_extension": ".py",
   "mimetype": "text/x-python",
   "name": "python",
   "nbconvert_exporter": "python",
   "pygments_lexer": "ipython3",
   "version": "3.7.3"
  }
 },
 "nbformat": 4,
 "nbformat_minor": 2
}
