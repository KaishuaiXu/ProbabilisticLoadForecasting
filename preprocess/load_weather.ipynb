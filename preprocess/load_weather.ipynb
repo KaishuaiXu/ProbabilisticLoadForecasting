{
 "cells": [
  {
   "cell_type": "code",
   "execution_count": null,
   "metadata": {},
   "outputs": [],
   "source": [
    "# Download and install the webdriver at first, the website is as follows:\n",
    "#     https://sites.google.com/a/chromium.org/chromedriver/"
   ]
  },
  {
   "cell_type": "code",
   "execution_count": 13,
   "metadata": {},
   "outputs": [],
   "source": [
    "from selenium import webdriver\n",
    "from bs4 import BeautifulSoup\n",
    "import pandas as pd\n",
    "from time import sleep\n",
    "from tqdm import tqdm\n",
    "import dateutil\n",
    "\n",
    "m = [31, 28, 31, 30, 31, 30, 31, 31, 30, 31, 30, 31]"
   ]
  },
  {
   "cell_type": "code",
   "execution_count": 2,
   "metadata": {},
   "outputs": [
    {
     "name": "stdout",
     "output_type": "stream",
     "text": [
      "2013-12-1\n",
      "2013-12-2\n",
      "2013-12-3\n",
      "2013-12-4\n",
      "2013-12-5\n",
      "2013-12-6\n",
      "2013-12-7\n",
      "2013-12-8\n",
      "2013-12-9\n",
      "2013-12-10\n",
      "2013-12-11\n",
      "2013-12-12\n",
      "2013-12-13\n",
      "2013-12-14\n",
      "2013-12-15\n",
      "2013-12-16\n",
      "2013-12-17\n",
      "2013-12-18\n",
      "2013-12-19\n",
      "2013-12-20\n",
      "2013-12-21\n",
      "2013-12-22\n",
      "2013-12-23\n",
      "2013-12-24\n",
      "2013-12-25\n",
      "2013-12-26\n",
      "2013-12-27\n",
      "2013-12-28\n",
      "2013-12-29\n",
      "2013-12-30\n",
      "2013-12-31\n"
     ]
    }
   ],
   "source": [
    "data = []\n",
    "\n",
    "for i in range(11, 12):\n",
    "    for j in range(m[i]):\n",
    "        \n",
    "        print('2013-' + str(i+1) + '-' + str(j+1))\n",
    "        browser = webdriver.Chrome()\n",
    "        browser.get('https://www.wunderground.com/history/daily/gb/london/EGLC/date/2013-' + str(i+1) + '-' + str(j+1))\n",
    "        \n",
    "        sleep(10)\n",
    "        soup = BeautifulSoup(browser.page_source, 'html.parser')\n",
    "        table = soup.find_all('table')[2].find_all('tr')\n",
    "        \n",
    "        n = len(table)\n",
    "        for k in range(1, n):\n",
    "            tmp = ['2013-%02d-%02d' %(i+1, j+1), table[k].find_all('span')[0].get_text(), table[k].find_all(class_='wu-value wu-value-to')[0].get_text()]\n",
    "            data.append(tmp)\n",
    "        \n",
    "        browser.quit()"
   ]
  },
  {
   "cell_type": "code",
   "execution_count": 36,
   "metadata": {},
   "outputs": [],
   "source": [
    "data = pd.DataFrame(data)\n",
    "data.columns = ['Date', 'Time', 'T']\n",
    "data['Date'] = data['Date'].astype('datetime64[ns]')\n",
    "data.to_csv('../data/weather/weather_London_12.csv', index=None)"
   ]
  },
  {
   "cell_type": "markdown",
   "metadata": {},
   "source": [
    "## Clean weather data (Cork)"
   ]
  },
  {
   "cell_type": "code",
   "execution_count": 14,
   "metadata": {},
   "outputs": [],
   "source": [
    "data = pd.read_csv('../data/weather/weather_Cork.csv')\n",
    "data['Date'] = data['Date'].astype('datetime64[ns]')"
   ]
  },
  {
   "cell_type": "code",
   "execution_count": 16,
   "metadata": {
    "scrolled": true
   },
   "outputs": [
    {
     "name": "stderr",
     "output_type": "stream",
     "text": [
      "100%|██████████| 12/12 [00:00<00:00, 54.79it/s]\n"
     ]
    }
   ],
   "source": [
    "for i in tqdm(range(12)):\n",
    "    for j in range(m[i]):\n",
    "        tmp = data[data['Date'] == '2010-%02d-%02d' % (i+1, j+1)]['Time']\n",
    "        \n",
    "        if 'P' in tmp.values[0]:\n",
    "            k = 0\n",
    "            while 'P' in tmp.values[k]:\n",
    "                data['Date'][tmp.index[k]] = data['Date'][tmp.index[k]] - dateutil.relativedelta.relativedelta(days=1)\n",
    "                k = k+1"
   ]
  },
  {
   "cell_type": "code",
   "execution_count": 261,
   "metadata": {},
   "outputs": [],
   "source": [
    "# Datetime\n",
    "datetime = []\n",
    "for i in range(len(data)):\n",
    "    datetime.append(pd.to_datetime(str(data['Date'][i]) + ' ' + data['Time'][i]))\n",
    "    \n",
    "data = pd.concat([data, pd.DataFrame(datetime, columns=['DateTime'])], axis=1)"
   ]
  },
  {
   "cell_type": "code",
   "execution_count": 262,
   "metadata": {},
   "outputs": [],
   "source": [
    "# Transfer to DateTime\n",
    "data = data[['DateTime', 'T']]\n",
    "data.to_csv('../data/weather/weather_Cork_cleaned.csv', index=None)\n",
    "data = pd.read_csv('../data/weather/weather_Cork_cleaned.csv')"
   ]
  },
  {
   "cell_type": "code",
   "execution_count": 263,
   "metadata": {},
   "outputs": [],
   "source": [
    "# Delete rows with T == 0\n",
    "for i in range(len(data)):\n",
    "    if data['T'][i] == 0:\n",
    "        data.drop(index=[i], inplace=True)"
   ]
  },
  {
   "cell_type": "code",
   "execution_count": 264,
   "metadata": {},
   "outputs": [],
   "source": [
    "data['Miss'] = 0"
   ]
  },
  {
   "cell_type": "code",
   "execution_count": 265,
   "metadata": {},
   "outputs": [],
   "source": [
    "# Construct the empty DataFrame to store the interpolation\n",
    "add = pd.DataFrame(columns=['DateTime', 'T', 'Miss'])\n",
    "\n",
    "for j in range(1, 365*48):\n",
    "    t = pd.to_datetime('2010-01-01 00:00:00') + dateutil.relativedelta.relativedelta(minutes=30*j)\n",
    "    if str(t) not in data['DateTime'].values:\n",
    "\n",
    "        # Use average values as interpolation\n",
    "        value = (data[data['DateTime'] > str(t)].iloc[0, 1] + data[data['DateTime'] < str(t)].iloc[-1, 1])/2\n",
    "        tmp = pd.DataFrame([[str(t), value, 1]], columns=['DateTime', 'T', 'Miss'])\n",
    "        add = pd.concat([add, tmp], axis=0)"
   ]
  },
  {
   "cell_type": "code",
   "execution_count": 266,
   "metadata": {},
   "outputs": [],
   "source": [
    "data = pd.concat([data, add]).sort_values(by='DateTime')\n",
    "data.reset_index(inplace=True, drop=True)\n",
    "data.to_csv('../data/weather/weather_Cork_cleaned.csv', index=None)"
   ]
  },
  {
   "cell_type": "markdown",
   "metadata": {},
   "source": [
    "## Clean weather data (Dublin)"
   ]
  },
  {
   "cell_type": "code",
   "execution_count": 19,
   "metadata": {},
   "outputs": [],
   "source": [
    "data = pd.read_csv('../data/weather/weather_Dublin.csv')\n",
    "data['Date'] = data['Date'].astype('datetime64[ns]')"
   ]
  },
  {
   "cell_type": "code",
   "execution_count": 20,
   "metadata": {
    "scrolled": true
   },
   "outputs": [
    {
     "name": "stderr",
     "output_type": "stream",
     "text": [
      "/Users/kaishuai/anaconda3/lib/python3.7/site-packages/ipykernel_launcher.py:8: SettingWithCopyWarning: \n",
      "A value is trying to be set on a copy of a slice from a DataFrame\n",
      "\n",
      "See the caveats in the documentation: http://pandas.pydata.org/pandas-docs/stable/indexing.html#indexing-view-versus-copy\n",
      "  \n"
     ]
    }
   ],
   "source": [
    "for i in range(12):\n",
    "    for j in range(m[i]):\n",
    "        tmp = data[data['Date'] == '2010-%02d-%02d' % (i+1, j+1)]['Time']\n",
    "        \n",
    "        if 'P' in tmp.values[0]:\n",
    "            k = 0\n",
    "            while 'P' in tmp.values[k]:\n",
    "                data['Date'][tmp.index[k]] = data['Date'][tmp.index[k]] - dateutil.relativedelta.relativedelta(days=1)\n",
    "                k = k+1"
   ]
  },
  {
   "cell_type": "code",
   "execution_count": 79,
   "metadata": {},
   "outputs": [],
   "source": [
    "# Datetime\n",
    "datetime = []\n",
    "for i in range(len(data)):\n",
    "    datetime.append(pd.to_datetime(str(data['Date'][i]) + ' ' + data['Time'][i]))\n",
    "    \n",
    "data = pd.concat([data, pd.DataFrame(datetime, columns=['DateTime'])], axis=1)"
   ]
  },
  {
   "cell_type": "code",
   "execution_count": 80,
   "metadata": {},
   "outputs": [],
   "source": [
    "# Transfer to DateTime\n",
    "data = data[['DateTime', 'T']]\n",
    "data.to_csv('../data/weather/weather_Dublin_cleaned.csv', index=None)\n",
    "data = pd.read_csv('../data/weather/weather_Dublin_cleaned.csv')"
   ]
  },
  {
   "cell_type": "code",
   "execution_count": 81,
   "metadata": {},
   "outputs": [],
   "source": [
    "# Delete rows with T == 0\n",
    "for i in range(len(data)):\n",
    "    if data['T'][i] == 0:\n",
    "        data.drop(index=[i], inplace=True)"
   ]
  },
  {
   "cell_type": "code",
   "execution_count": 82,
   "metadata": {},
   "outputs": [],
   "source": [
    "data['Miss'] = 0"
   ]
  },
  {
   "cell_type": "code",
   "execution_count": 83,
   "metadata": {},
   "outputs": [],
   "source": [
    "# Construct the empty DataFrame to store the interpolation\n",
    "add = pd.DataFrame(columns=['DateTime', 'T', 'Miss'])\n",
    "\n",
    "for j in range(1, 365*48):\n",
    "    t = pd.to_datetime('2010-01-01 00:00:00') + dateutil.relativedelta.relativedelta(minutes=30*j)\n",
    "    if str(t) not in data['DateTime'].values:\n",
    "\n",
    "        # Use average values as interpolation\n",
    "        value = (data[data['DateTime'] > str(t)].iloc[0, 1] + data[data['DateTime'] < str(t)].iloc[-1, 1])/2\n",
    "        tmp = pd.DataFrame([[str(t), value, 1]], columns=['DateTime', 'T', 'Miss'])\n",
    "        add = pd.concat([add, tmp], axis=0)"
   ]
  },
  {
   "cell_type": "code",
   "execution_count": 84,
   "metadata": {},
   "outputs": [],
   "source": [
    "data = pd.concat([data, add]).sort_values(by='DateTime')\n",
    "data.reset_index(inplace=True, drop=True)\n",
    "data.to_csv('../data/weather/weather_Dublin_cleaned.csv', index=None)"
   ]
  },
  {
   "cell_type": "code",
   "execution_count": 85,
   "metadata": {},
   "outputs": [
    {
     "name": "stdout",
     "output_type": "stream",
     "text": [
      "5 22 49\n",
      "8 2 49\n",
      "11 30 49\n",
      "12 6 49\n"
     ]
    }
   ],
   "source": [
    "# There are some outliers which make the total number is greater than 17520(48 * 365)\n",
    "for i in range(12):\n",
    "    for j in range(m[i]):\n",
    "        tmp = data[(data['DateTime'] >= '2010-%02d-%02d 00:00:00' % (i+1, j+1)) & (data['DateTime'] < '2010-%02d-%02d 00:00:00' % (i+1, j+2))]\n",
    "        if len(tmp) != 48:\n",
    "            print(i+1, j+1, len(tmp))"
   ]
  },
  {
   "cell_type": "code",
   "execution_count": 95,
   "metadata": {},
   "outputs": [],
   "source": [
    "i=12\n",
    "j=6"
   ]
  },
  {
   "cell_type": "code",
   "execution_count": 96,
   "metadata": {},
   "outputs": [],
   "source": [
    "tmp = data[(data['DateTime'] >= '2010-%02d-%02d 00:00:00' % (i, j)) & (data['DateTime'] < '2010-%02d-%02d 00:00:00' % (i, j+1))]"
   ]
  },
  {
   "cell_type": "code",
   "execution_count": 97,
   "metadata": {},
   "outputs": [
    {
     "data": {
      "text/html": [
       "<div>\n",
       "<style scoped>\n",
       "    .dataframe tbody tr th:only-of-type {\n",
       "        vertical-align: middle;\n",
       "    }\n",
       "\n",
       "    .dataframe tbody tr th {\n",
       "        vertical-align: top;\n",
       "    }\n",
       "\n",
       "    .dataframe thead th {\n",
       "        text-align: right;\n",
       "    }\n",
       "</style>\n",
       "<table border=\"1\" class=\"dataframe\">\n",
       "  <thead>\n",
       "    <tr style=\"text-align: right;\">\n",
       "      <th></th>\n",
       "      <th>DateTime</th>\n",
       "      <th>T</th>\n",
       "      <th>Miss</th>\n",
       "    </tr>\n",
       "  </thead>\n",
       "  <tbody>\n",
       "    <tr>\n",
       "      <th>16275</th>\n",
       "      <td>2010-12-06 00:00:00</td>\n",
       "      <td>27.0</td>\n",
       "      <td>0</td>\n",
       "    </tr>\n",
       "    <tr>\n",
       "      <th>16276</th>\n",
       "      <td>2010-12-06 00:30:00</td>\n",
       "      <td>27.0</td>\n",
       "      <td>0</td>\n",
       "    </tr>\n",
       "    <tr>\n",
       "      <th>16277</th>\n",
       "      <td>2010-12-06 01:00:00</td>\n",
       "      <td>25.0</td>\n",
       "      <td>0</td>\n",
       "    </tr>\n",
       "    <tr>\n",
       "      <th>16278</th>\n",
       "      <td>2010-12-06 01:30:00</td>\n",
       "      <td>25.0</td>\n",
       "      <td>0</td>\n",
       "    </tr>\n",
       "    <tr>\n",
       "      <th>16279</th>\n",
       "      <td>2010-12-06 02:00:00</td>\n",
       "      <td>25.0</td>\n",
       "      <td>0</td>\n",
       "    </tr>\n",
       "    <tr>\n",
       "      <th>16280</th>\n",
       "      <td>2010-12-06 02:30:00</td>\n",
       "      <td>25.0</td>\n",
       "      <td>0</td>\n",
       "    </tr>\n",
       "    <tr>\n",
       "      <th>16281</th>\n",
       "      <td>2010-12-06 03:00:00</td>\n",
       "      <td>23.0</td>\n",
       "      <td>0</td>\n",
       "    </tr>\n",
       "    <tr>\n",
       "      <th>16282</th>\n",
       "      <td>2010-12-06 03:30:00</td>\n",
       "      <td>25.0</td>\n",
       "      <td>0</td>\n",
       "    </tr>\n",
       "    <tr>\n",
       "      <th>16283</th>\n",
       "      <td>2010-12-06 04:00:00</td>\n",
       "      <td>23.0</td>\n",
       "      <td>0</td>\n",
       "    </tr>\n",
       "    <tr>\n",
       "      <th>16284</th>\n",
       "      <td>2010-12-06 04:30:00</td>\n",
       "      <td>23.0</td>\n",
       "      <td>0</td>\n",
       "    </tr>\n",
       "    <tr>\n",
       "      <th>16285</th>\n",
       "      <td>2010-12-06 05:00:00</td>\n",
       "      <td>23.0</td>\n",
       "      <td>0</td>\n",
       "    </tr>\n",
       "    <tr>\n",
       "      <th>16286</th>\n",
       "      <td>2010-12-06 05:30:00</td>\n",
       "      <td>23.0</td>\n",
       "      <td>0</td>\n",
       "    </tr>\n",
       "    <tr>\n",
       "      <th>16287</th>\n",
       "      <td>2010-12-06 06:00:00</td>\n",
       "      <td>21.0</td>\n",
       "      <td>0</td>\n",
       "    </tr>\n",
       "    <tr>\n",
       "      <th>16288</th>\n",
       "      <td>2010-12-06 06:30:00</td>\n",
       "      <td>21.0</td>\n",
       "      <td>0</td>\n",
       "    </tr>\n",
       "    <tr>\n",
       "      <th>16289</th>\n",
       "      <td>2010-12-06 07:00:00</td>\n",
       "      <td>21.0</td>\n",
       "      <td>0</td>\n",
       "    </tr>\n",
       "    <tr>\n",
       "      <th>16290</th>\n",
       "      <td>2010-12-06 07:30:00</td>\n",
       "      <td>19.0</td>\n",
       "      <td>0</td>\n",
       "    </tr>\n",
       "    <tr>\n",
       "      <th>16291</th>\n",
       "      <td>2010-12-06 08:00:00</td>\n",
       "      <td>19.0</td>\n",
       "      <td>0</td>\n",
       "    </tr>\n",
       "    <tr>\n",
       "      <th>16292</th>\n",
       "      <td>2010-12-06 08:30:00</td>\n",
       "      <td>19.0</td>\n",
       "      <td>0</td>\n",
       "    </tr>\n",
       "    <tr>\n",
       "      <th>16293</th>\n",
       "      <td>2010-12-06 08:46:00</td>\n",
       "      <td>19.0</td>\n",
       "      <td>0</td>\n",
       "    </tr>\n",
       "    <tr>\n",
       "      <th>16294</th>\n",
       "      <td>2010-12-06 09:00:00</td>\n",
       "      <td>21.0</td>\n",
       "      <td>0</td>\n",
       "    </tr>\n",
       "    <tr>\n",
       "      <th>16295</th>\n",
       "      <td>2010-12-06 09:30:00</td>\n",
       "      <td>21.0</td>\n",
       "      <td>0</td>\n",
       "    </tr>\n",
       "    <tr>\n",
       "      <th>16296</th>\n",
       "      <td>2010-12-06 10:00:00</td>\n",
       "      <td>23.0</td>\n",
       "      <td>0</td>\n",
       "    </tr>\n",
       "    <tr>\n",
       "      <th>16297</th>\n",
       "      <td>2010-12-06 10:30:00</td>\n",
       "      <td>25.0</td>\n",
       "      <td>0</td>\n",
       "    </tr>\n",
       "    <tr>\n",
       "      <th>16298</th>\n",
       "      <td>2010-12-06 11:00:00</td>\n",
       "      <td>27.0</td>\n",
       "      <td>0</td>\n",
       "    </tr>\n",
       "    <tr>\n",
       "      <th>16299</th>\n",
       "      <td>2010-12-06 11:30:00</td>\n",
       "      <td>28.0</td>\n",
       "      <td>0</td>\n",
       "    </tr>\n",
       "    <tr>\n",
       "      <th>16300</th>\n",
       "      <td>2010-12-06 12:00:00</td>\n",
       "      <td>28.0</td>\n",
       "      <td>0</td>\n",
       "    </tr>\n",
       "    <tr>\n",
       "      <th>16301</th>\n",
       "      <td>2010-12-06 12:30:00</td>\n",
       "      <td>30.0</td>\n",
       "      <td>0</td>\n",
       "    </tr>\n",
       "    <tr>\n",
       "      <th>16302</th>\n",
       "      <td>2010-12-06 13:00:00</td>\n",
       "      <td>32.0</td>\n",
       "      <td>0</td>\n",
       "    </tr>\n",
       "    <tr>\n",
       "      <th>16303</th>\n",
       "      <td>2010-12-06 13:30:00</td>\n",
       "      <td>32.0</td>\n",
       "      <td>0</td>\n",
       "    </tr>\n",
       "    <tr>\n",
       "      <th>16304</th>\n",
       "      <td>2010-12-06 14:00:00</td>\n",
       "      <td>32.0</td>\n",
       "      <td>0</td>\n",
       "    </tr>\n",
       "    <tr>\n",
       "      <th>16305</th>\n",
       "      <td>2010-12-06 14:30:00</td>\n",
       "      <td>34.0</td>\n",
       "      <td>0</td>\n",
       "    </tr>\n",
       "    <tr>\n",
       "      <th>16306</th>\n",
       "      <td>2010-12-06 15:00:00</td>\n",
       "      <td>34.0</td>\n",
       "      <td>0</td>\n",
       "    </tr>\n",
       "    <tr>\n",
       "      <th>16307</th>\n",
       "      <td>2010-12-06 15:30:00</td>\n",
       "      <td>34.0</td>\n",
       "      <td>0</td>\n",
       "    </tr>\n",
       "    <tr>\n",
       "      <th>16308</th>\n",
       "      <td>2010-12-06 16:00:00</td>\n",
       "      <td>30.0</td>\n",
       "      <td>0</td>\n",
       "    </tr>\n",
       "    <tr>\n",
       "      <th>16309</th>\n",
       "      <td>2010-12-06 16:30:00</td>\n",
       "      <td>32.0</td>\n",
       "      <td>0</td>\n",
       "    </tr>\n",
       "    <tr>\n",
       "      <th>16310</th>\n",
       "      <td>2010-12-06 17:00:00</td>\n",
       "      <td>32.0</td>\n",
       "      <td>0</td>\n",
       "    </tr>\n",
       "    <tr>\n",
       "      <th>16311</th>\n",
       "      <td>2010-12-06 17:30:00</td>\n",
       "      <td>32.0</td>\n",
       "      <td>0</td>\n",
       "    </tr>\n",
       "    <tr>\n",
       "      <th>16312</th>\n",
       "      <td>2010-12-06 18:00:00</td>\n",
       "      <td>32.0</td>\n",
       "      <td>0</td>\n",
       "    </tr>\n",
       "    <tr>\n",
       "      <th>16313</th>\n",
       "      <td>2010-12-06 18:30:00</td>\n",
       "      <td>34.0</td>\n",
       "      <td>0</td>\n",
       "    </tr>\n",
       "    <tr>\n",
       "      <th>16314</th>\n",
       "      <td>2010-12-06 19:00:00</td>\n",
       "      <td>32.0</td>\n",
       "      <td>0</td>\n",
       "    </tr>\n",
       "    <tr>\n",
       "      <th>16315</th>\n",
       "      <td>2010-12-06 19:30:00</td>\n",
       "      <td>32.0</td>\n",
       "      <td>0</td>\n",
       "    </tr>\n",
       "    <tr>\n",
       "      <th>16316</th>\n",
       "      <td>2010-12-06 20:00:00</td>\n",
       "      <td>32.0</td>\n",
       "      <td>0</td>\n",
       "    </tr>\n",
       "    <tr>\n",
       "      <th>16317</th>\n",
       "      <td>2010-12-06 20:30:00</td>\n",
       "      <td>30.0</td>\n",
       "      <td>0</td>\n",
       "    </tr>\n",
       "    <tr>\n",
       "      <th>16318</th>\n",
       "      <td>2010-12-06 21:00:00</td>\n",
       "      <td>30.0</td>\n",
       "      <td>0</td>\n",
       "    </tr>\n",
       "    <tr>\n",
       "      <th>16319</th>\n",
       "      <td>2010-12-06 21:30:00</td>\n",
       "      <td>32.0</td>\n",
       "      <td>0</td>\n",
       "    </tr>\n",
       "    <tr>\n",
       "      <th>16320</th>\n",
       "      <td>2010-12-06 22:00:00</td>\n",
       "      <td>32.0</td>\n",
       "      <td>0</td>\n",
       "    </tr>\n",
       "    <tr>\n",
       "      <th>16321</th>\n",
       "      <td>2010-12-06 22:30:00</td>\n",
       "      <td>32.0</td>\n",
       "      <td>0</td>\n",
       "    </tr>\n",
       "    <tr>\n",
       "      <th>16322</th>\n",
       "      <td>2010-12-06 23:00:00</td>\n",
       "      <td>30.0</td>\n",
       "      <td>0</td>\n",
       "    </tr>\n",
       "    <tr>\n",
       "      <th>16323</th>\n",
       "      <td>2010-12-06 23:30:00</td>\n",
       "      <td>30.0</td>\n",
       "      <td>0</td>\n",
       "    </tr>\n",
       "  </tbody>\n",
       "</table>\n",
       "</div>"
      ],
      "text/plain": [
       "                  DateTime     T Miss\n",
       "16275  2010-12-06 00:00:00  27.0    0\n",
       "16276  2010-12-06 00:30:00  27.0    0\n",
       "16277  2010-12-06 01:00:00  25.0    0\n",
       "16278  2010-12-06 01:30:00  25.0    0\n",
       "16279  2010-12-06 02:00:00  25.0    0\n",
       "16280  2010-12-06 02:30:00  25.0    0\n",
       "16281  2010-12-06 03:00:00  23.0    0\n",
       "16282  2010-12-06 03:30:00  25.0    0\n",
       "16283  2010-12-06 04:00:00  23.0    0\n",
       "16284  2010-12-06 04:30:00  23.0    0\n",
       "16285  2010-12-06 05:00:00  23.0    0\n",
       "16286  2010-12-06 05:30:00  23.0    0\n",
       "16287  2010-12-06 06:00:00  21.0    0\n",
       "16288  2010-12-06 06:30:00  21.0    0\n",
       "16289  2010-12-06 07:00:00  21.0    0\n",
       "16290  2010-12-06 07:30:00  19.0    0\n",
       "16291  2010-12-06 08:00:00  19.0    0\n",
       "16292  2010-12-06 08:30:00  19.0    0\n",
       "16293  2010-12-06 08:46:00  19.0    0\n",
       "16294  2010-12-06 09:00:00  21.0    0\n",
       "16295  2010-12-06 09:30:00  21.0    0\n",
       "16296  2010-12-06 10:00:00  23.0    0\n",
       "16297  2010-12-06 10:30:00  25.0    0\n",
       "16298  2010-12-06 11:00:00  27.0    0\n",
       "16299  2010-12-06 11:30:00  28.0    0\n",
       "16300  2010-12-06 12:00:00  28.0    0\n",
       "16301  2010-12-06 12:30:00  30.0    0\n",
       "16302  2010-12-06 13:00:00  32.0    0\n",
       "16303  2010-12-06 13:30:00  32.0    0\n",
       "16304  2010-12-06 14:00:00  32.0    0\n",
       "16305  2010-12-06 14:30:00  34.0    0\n",
       "16306  2010-12-06 15:00:00  34.0    0\n",
       "16307  2010-12-06 15:30:00  34.0    0\n",
       "16308  2010-12-06 16:00:00  30.0    0\n",
       "16309  2010-12-06 16:30:00  32.0    0\n",
       "16310  2010-12-06 17:00:00  32.0    0\n",
       "16311  2010-12-06 17:30:00  32.0    0\n",
       "16312  2010-12-06 18:00:00  32.0    0\n",
       "16313  2010-12-06 18:30:00  34.0    0\n",
       "16314  2010-12-06 19:00:00  32.0    0\n",
       "16315  2010-12-06 19:30:00  32.0    0\n",
       "16316  2010-12-06 20:00:00  32.0    0\n",
       "16317  2010-12-06 20:30:00  30.0    0\n",
       "16318  2010-12-06 21:00:00  30.0    0\n",
       "16319  2010-12-06 21:30:00  32.0    0\n",
       "16320  2010-12-06 22:00:00  32.0    0\n",
       "16321  2010-12-06 22:30:00  32.0    0\n",
       "16322  2010-12-06 23:00:00  30.0    0\n",
       "16323  2010-12-06 23:30:00  30.0    0"
      ]
     },
     "execution_count": 97,
     "metadata": {},
     "output_type": "execute_result"
    }
   ],
   "source": [
    "tmp"
   ]
  },
  {
   "cell_type": "code",
   "execution_count": 98,
   "metadata": {},
   "outputs": [],
   "source": [
    "data.drop(index=[6779, 10246, 16033, 16293], inplace=True)"
   ]
  },
  {
   "cell_type": "code",
   "execution_count": 99,
   "metadata": {},
   "outputs": [
    {
     "data": {
      "text/plain": [
       "17520"
      ]
     },
     "execution_count": 99,
     "metadata": {},
     "output_type": "execute_result"
    }
   ],
   "source": [
    "len(data)"
   ]
  },
  {
   "cell_type": "code",
   "execution_count": 100,
   "metadata": {},
   "outputs": [],
   "source": [
    "data.to_csv('../data/weather/weather_Dublin_cleaned.csv', index=None)"
   ]
  },
  {
   "cell_type": "markdown",
   "metadata": {},
   "source": [
    "## Clean weather data (London)"
   ]
  },
  {
   "cell_type": "code",
   "execution_count": 23,
   "metadata": {},
   "outputs": [],
   "source": [
    "data = pd.read_csv('../data/weather/weather_London.csv')\n",
    "data['Date'] = data['Date'].astype('datetime64[ns]')"
   ]
  },
  {
   "cell_type": "code",
   "execution_count": 24,
   "metadata": {
    "scrolled": true
   },
   "outputs": [
    {
     "name": "stderr",
     "output_type": "stream",
     "text": [
      "/Users/kaishuai/anaconda3/lib/python3.7/site-packages/ipykernel_launcher.py:8: SettingWithCopyWarning: \n",
      "A value is trying to be set on a copy of a slice from a DataFrame\n",
      "\n",
      "See the caveats in the documentation: http://pandas.pydata.org/pandas-docs/stable/indexing.html#indexing-view-versus-copy\n",
      "  \n"
     ]
    }
   ],
   "source": [
    "for i in range(12):\n",
    "    for j in range(m[i]):\n",
    "        tmp = data[data['Date'] == '2013-%02d-%02d' % (i+1, j+1)]['Time']\n",
    "        \n",
    "        if 'P' in tmp.values[0]:\n",
    "            k = 0\n",
    "            while 'P' in tmp.values[k]:\n",
    "                data['Date'][tmp.index[k]] = data['Date'][tmp.index[k]] - dateutil.relativedelta.relativedelta(days=1)\n",
    "                k = k+1"
   ]
  },
  {
   "cell_type": "code",
   "execution_count": 11,
   "metadata": {},
   "outputs": [],
   "source": [
    "# Datetime\n",
    "datetime = []\n",
    "for i in range(len(data)):\n",
    "    datetime.append(pd.to_datetime(str(data['Date'][i]) + ' ' + data['Time'][i]))\n",
    "    \n",
    "data = pd.concat([data, pd.DataFrame(datetime, columns=['DateTime'])], axis=1)"
   ]
  },
  {
   "cell_type": "code",
   "execution_count": 128,
   "metadata": {},
   "outputs": [],
   "source": [
    "# Transfer from [Date, Time] to [DateTime]\n",
    "data = data[['DateTime', 'T']]\n",
    "data.to_csv('../data/weather/weather_London_cleaned.csv', index=None)\n",
    "data = pd.read_csv('../data/weather/weather_London_cleaned.csv')"
   ]
  },
  {
   "cell_type": "code",
   "execution_count": 129,
   "metadata": {},
   "outputs": [],
   "source": [
    "# Delete rows with T == 0\n",
    "for i in range(len(data)):\n",
    "    if data['T'][i] == 0:\n",
    "        data.drop(index=[i], inplace=True)"
   ]
  },
  {
   "cell_type": "code",
   "execution_count": 130,
   "metadata": {},
   "outputs": [],
   "source": [
    "data['Miss'] = 0\n",
    "data.drop(index=[0], inplace=True)"
   ]
  },
  {
   "cell_type": "code",
   "execution_count": 131,
   "metadata": {},
   "outputs": [],
   "source": [
    "# Construct the empty DataFrame to store the interpolation\n",
    "add = pd.DataFrame(columns=['DateTime', 'T', 'Miss'])\n",
    "\n",
    "for j in range(1, 365*48-1):\n",
    "    t = pd.to_datetime('2013-01-01 00:20:00') + dateutil.relativedelta.relativedelta(minutes=30*j)\n",
    "    if str(t) not in data['DateTime'].values:\n",
    "\n",
    "        # Use average values as interpolation\n",
    "        value = (data[data['DateTime'] > str(t)].iloc[0, 1] + data[data['DateTime'] < str(t)].iloc[-1, 1])/2\n",
    "        tmp = pd.DataFrame([[str(t), value, 1]], columns=['DateTime', 'T', 'Miss'])\n",
    "        add = pd.concat([add, tmp], axis=0)"
   ]
  },
  {
   "cell_type": "code",
   "execution_count": 132,
   "metadata": {},
   "outputs": [],
   "source": [
    "data = pd.concat([data, add]).sort_values(by='DateTime')\n",
    "data.reset_index(inplace=True, drop=True)"
   ]
  },
  {
   "cell_type": "code",
   "execution_count": 134,
   "metadata": {},
   "outputs": [],
   "source": [
    "# Add the last point\n",
    "tmp = pd.DataFrame([['2013-12-31 23:50:00', 48, 0]], columns=['DateTime', 'T', 'Miss'])\n",
    "data = pd.concat([data, tmp], axis=0)"
   ]
  },
  {
   "cell_type": "code",
   "execution_count": 136,
   "metadata": {},
   "outputs": [],
   "source": [
    "data.to_csv('../data/weather/weather_London_2013_cleaned.csv', index=None)"
   ]
  },
  {
   "cell_type": "markdown",
   "metadata": {},
   "source": [
    "## Combine Cork and Dublin"
   ]
  },
  {
   "cell_type": "code",
   "execution_count": 34,
   "metadata": {},
   "outputs": [],
   "source": [
    "df1 = pd.read_csv('../data/weather/weather_Cork_cleaned.csv')\n",
    "df2 = pd.read_csv('../data/weather/weather_Dublin_cleaned.csv')"
   ]
  },
  {
   "cell_type": "code",
   "execution_count": 35,
   "metadata": {},
   "outputs": [],
   "source": [
    "# Detect continuous missing values\n",
    "def detect_c_miss(df):\n",
    "    c_miss = []\n",
    "    for i in range(len(df)):\n",
    "        if df['Miss'][i] == 0:\n",
    "            c_miss.append(0)\n",
    "        else:\n",
    "            count = 1\n",
    "            k = i\n",
    "            while k-1>=0 and df['Miss'][k-1] == 1:\n",
    "                count = count + 1\n",
    "                k = k - 1\n",
    "\n",
    "            k = i\n",
    "            while k+1<len(df) and df['Miss'][k+1] == 1:\n",
    "                count = count + 1\n",
    "                k = k + 1\n",
    "\n",
    "            if count > 2:\n",
    "                c_miss.append(1)\n",
    "            else:\n",
    "                c_miss.append(0)\n",
    "    return c_miss"
   ]
  },
  {
   "cell_type": "code",
   "execution_count": 36,
   "metadata": {},
   "outputs": [],
   "source": [
    "df1 = pd.concat([df1, pd.DataFrame(detect_c_miss(df1), columns=['Continous Miss'])], axis=1)\n",
    "df2 = pd.concat([df2, pd.DataFrame(detect_c_miss(df2), columns=['Continous Miss'])], axis=1)"
   ]
  },
  {
   "cell_type": "code",
   "execution_count": 37,
   "metadata": {},
   "outputs": [
    {
     "name": "stderr",
     "output_type": "stream",
     "text": [
      "100%|██████████| 17520/17520 [00:43<00:00, 406.78it/s]\n"
     ]
    }
   ],
   "source": [
    "data = pd.DataFrame(columns=['DateTime', 'T', 'Miss'])\n",
    "\n",
    "for i in tqdm(range(len(df1))):\n",
    "    miss = 1\n",
    "    if df1['Continous Miss'][i] == 0 and df2['Continous Miss'][i] == 0:\n",
    "        value = (df1['T'][i] + df2['T'][i]) / 2\n",
    "        miss = 0\n",
    "    elif df1['Continous Miss'][i] == 0 and df2['Continous Miss'][i] == 1:\n",
    "        value = df1['T'][i]\n",
    "    elif df1['Continous Miss'][i] == 1 and df2['Continous Miss'][i] == 0:\n",
    "        value = df2['T'][i]\n",
    "    else:\n",
    "        value = (df1['T'][i] + df2['T'][i]) / 2\n",
    "    tmp = pd.DataFrame([[df1['DateTime'][i], value, miss]], columns=['DateTime', 'T', 'Miss'])\n",
    "    data = pd.concat([data, tmp], axis=0)"
   ]
  },
  {
   "cell_type": "code",
   "execution_count": 39,
   "metadata": {},
   "outputs": [],
   "source": [
    "data.to_csv('../data/weather/weather_Irish_2010_cleaned.csv', index=None)"
   ]
  },
  {
   "cell_type": "code",
   "execution_count": null,
   "metadata": {},
   "outputs": [],
   "source": []
  }
 ],
 "metadata": {
  "kernelspec": {
   "display_name": "Python 3",
   "language": "python",
   "name": "python3"
  },
  "language_info": {
   "codemirror_mode": {
    "name": "ipython",
    "version": 3
   },
   "file_extension": ".py",
   "mimetype": "text/x-python",
   "name": "python",
   "nbconvert_exporter": "python",
   "pygments_lexer": "ipython3",
   "version": "3.7.3"
  }
 },
 "nbformat": 4,
 "nbformat_minor": 2
}
